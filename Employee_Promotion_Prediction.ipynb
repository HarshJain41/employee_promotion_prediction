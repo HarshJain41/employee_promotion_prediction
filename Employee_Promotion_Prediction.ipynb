{
  "nbformat": 4,
  "nbformat_minor": 0,
  "metadata": {
    "colab": {
      "provenance": [],
      "mount_file_id": "178Z9fGr_4vvmrO4446K7eIbqN2MbCP8_",
      "authorship_tag": "ABX9TyO1dLi7wu425BB2cKepbUPL",
      "include_colab_link": true
    },
    "kernelspec": {
      "name": "python3",
      "display_name": "Python 3"
    },
    "language_info": {
      "name": "python"
    }
  },
  "cells": [
    {
      "cell_type": "markdown",
      "metadata": {
        "id": "view-in-github",
        "colab_type": "text"
      },
      "source": [
        "<a href=\"https://colab.research.google.com/github/HarshJain41/employee_promotion_prediction/blob/main/Employee_Promotion_Prediction.ipynb\" target=\"_parent\"><img src=\"https://colab.research.google.com/assets/colab-badge.svg\" alt=\"Open In Colab\"/></a>"
      ]
    },
    {
      "cell_type": "markdown",
      "source": [
        "## <center>**Predict whether the Employee of an Organization should get Promotion or Not?**</center>"
      ],
      "metadata": {
        "id": "lxWg-88vlXNr"
      }
    },
    {
      "cell_type": "markdown",
      "source": [
        "&nbsp;\n",
        "\n",
        "Our client is a large MNC and they have 9 broad verticals across the organisation. One of the problem our client is facing is around identifying the right people for promotion (only for manager position and below) and prepare them in time. Currently the process, they are following is:\n",
        "    * They first identify a set of employees based on recommendations/ past performance.\n",
        "    * Selected employees go through the separate training and evaluation program for each vertical. These programs are based on he required skill of each vertical\n",
        "    * At the end of the program, based on various factors such as training performance, an employee gets the promotion\n",
        "\n",
        "![image](https://corehr.files.wordpress.com/2013/02/wrong-promotion1.jpg?w=290)"
      ],
      "metadata": {
        "id": "UdHgRAPlLsBW"
      }
    },
    {
      "cell_type": "code",
      "source": [
        "# lets import all the required libraries\n",
        "\n",
        "# for mathematical operations\n",
        "import numpy as np\n",
        "# for dataframe operations\n",
        "import pandas as pd\n",
        "\n",
        "# for data visualizations\n",
        "import seaborn as sns\n",
        "import matplotlib.pyplot as plt\n",
        "\n",
        "# for machine learning\n",
        "import sklearn\n",
        "import imblearn\n",
        "\n",
        "# setting up the size of the figures\n",
        "plt.rcParams['figure.figsize'] = (16, 5)\n",
        "# setting up the style of the plot\n",
        "plt.style.use('fivethirtyeight')"
      ],
      "metadata": {
        "id": "i0gPAqj5qtGh"
      },
      "execution_count": 6,
      "outputs": []
    },
    {
      "cell_type": "code",
      "source": [
        "# reading the datasets\n",
        "\n",
        "train = pd.read_csv('/content/drive/MyDrive/Machine Learning/Employee_Promotion_Prediction/train (1).csv')\n",
        "test = pd.read_csv('/content/drive/MyDrive/Machine Learning/Employee_Promotion_Prediction/test (1).csv')"
      ],
      "metadata": {
        "id": "if4SIFymsqQY"
      },
      "execution_count": 7,
      "outputs": []
    },
    {
      "cell_type": "code",
      "source": [
        "train.head()"
      ],
      "metadata": {
        "colab": {
          "base_uri": "https://localhost:8080/",
          "height": 339
        },
        "id": "y-Oh5tZJM9kt",
        "outputId": "46ab200b-252d-4f83-b0a7-0c2d8fdf6242"
      },
      "execution_count": 8,
      "outputs": [
        {
          "output_type": "execute_result",
          "data": {
            "text/plain": [
              "   employee_id         department     region         education gender  \\\n",
              "0        65438  Sales & Marketing   region_7  Master's & above      f   \n",
              "1        65141         Operations  region_22        Bachelor's      m   \n",
              "2         7513  Sales & Marketing  region_19        Bachelor's      m   \n",
              "3         2542  Sales & Marketing  region_23        Bachelor's      m   \n",
              "4        48945         Technology  region_26        Bachelor's      m   \n",
              "\n",
              "  recruitment_channel  no_of_trainings  age  previous_year_rating  \\\n",
              "0            sourcing                1   35                   5.0   \n",
              "1               other                1   30                   5.0   \n",
              "2            sourcing                1   34                   3.0   \n",
              "3               other                2   39                   1.0   \n",
              "4               other                1   45                   3.0   \n",
              "\n",
              "   length_of_service  KPIs_met >80%  awards_won?  avg_training_score  \\\n",
              "0                  8              1            0                  49   \n",
              "1                  4              0            0                  60   \n",
              "2                  7              0            0                  50   \n",
              "3                 10              0            0                  50   \n",
              "4                  2              0            0                  73   \n",
              "\n",
              "   is_promoted  \n",
              "0            0  \n",
              "1            0  \n",
              "2            0  \n",
              "3            0  \n",
              "4            0  "
            ],
            "text/html": [
              "\n",
              "  <div id=\"df-d33cf8ea-224c-4828-83e4-7bc464fd3cba\">\n",
              "    <div class=\"colab-df-container\">\n",
              "      <div>\n",
              "<style scoped>\n",
              "    .dataframe tbody tr th:only-of-type {\n",
              "        vertical-align: middle;\n",
              "    }\n",
              "\n",
              "    .dataframe tbody tr th {\n",
              "        vertical-align: top;\n",
              "    }\n",
              "\n",
              "    .dataframe thead th {\n",
              "        text-align: right;\n",
              "    }\n",
              "</style>\n",
              "<table border=\"1\" class=\"dataframe\">\n",
              "  <thead>\n",
              "    <tr style=\"text-align: right;\">\n",
              "      <th></th>\n",
              "      <th>employee_id</th>\n",
              "      <th>department</th>\n",
              "      <th>region</th>\n",
              "      <th>education</th>\n",
              "      <th>gender</th>\n",
              "      <th>recruitment_channel</th>\n",
              "      <th>no_of_trainings</th>\n",
              "      <th>age</th>\n",
              "      <th>previous_year_rating</th>\n",
              "      <th>length_of_service</th>\n",
              "      <th>KPIs_met &gt;80%</th>\n",
              "      <th>awards_won?</th>\n",
              "      <th>avg_training_score</th>\n",
              "      <th>is_promoted</th>\n",
              "    </tr>\n",
              "  </thead>\n",
              "  <tbody>\n",
              "    <tr>\n",
              "      <th>0</th>\n",
              "      <td>65438</td>\n",
              "      <td>Sales &amp; Marketing</td>\n",
              "      <td>region_7</td>\n",
              "      <td>Master's &amp; above</td>\n",
              "      <td>f</td>\n",
              "      <td>sourcing</td>\n",
              "      <td>1</td>\n",
              "      <td>35</td>\n",
              "      <td>5.0</td>\n",
              "      <td>8</td>\n",
              "      <td>1</td>\n",
              "      <td>0</td>\n",
              "      <td>49</td>\n",
              "      <td>0</td>\n",
              "    </tr>\n",
              "    <tr>\n",
              "      <th>1</th>\n",
              "      <td>65141</td>\n",
              "      <td>Operations</td>\n",
              "      <td>region_22</td>\n",
              "      <td>Bachelor's</td>\n",
              "      <td>m</td>\n",
              "      <td>other</td>\n",
              "      <td>1</td>\n",
              "      <td>30</td>\n",
              "      <td>5.0</td>\n",
              "      <td>4</td>\n",
              "      <td>0</td>\n",
              "      <td>0</td>\n",
              "      <td>60</td>\n",
              "      <td>0</td>\n",
              "    </tr>\n",
              "    <tr>\n",
              "      <th>2</th>\n",
              "      <td>7513</td>\n",
              "      <td>Sales &amp; Marketing</td>\n",
              "      <td>region_19</td>\n",
              "      <td>Bachelor's</td>\n",
              "      <td>m</td>\n",
              "      <td>sourcing</td>\n",
              "      <td>1</td>\n",
              "      <td>34</td>\n",
              "      <td>3.0</td>\n",
              "      <td>7</td>\n",
              "      <td>0</td>\n",
              "      <td>0</td>\n",
              "      <td>50</td>\n",
              "      <td>0</td>\n",
              "    </tr>\n",
              "    <tr>\n",
              "      <th>3</th>\n",
              "      <td>2542</td>\n",
              "      <td>Sales &amp; Marketing</td>\n",
              "      <td>region_23</td>\n",
              "      <td>Bachelor's</td>\n",
              "      <td>m</td>\n",
              "      <td>other</td>\n",
              "      <td>2</td>\n",
              "      <td>39</td>\n",
              "      <td>1.0</td>\n",
              "      <td>10</td>\n",
              "      <td>0</td>\n",
              "      <td>0</td>\n",
              "      <td>50</td>\n",
              "      <td>0</td>\n",
              "    </tr>\n",
              "    <tr>\n",
              "      <th>4</th>\n",
              "      <td>48945</td>\n",
              "      <td>Technology</td>\n",
              "      <td>region_26</td>\n",
              "      <td>Bachelor's</td>\n",
              "      <td>m</td>\n",
              "      <td>other</td>\n",
              "      <td>1</td>\n",
              "      <td>45</td>\n",
              "      <td>3.0</td>\n",
              "      <td>2</td>\n",
              "      <td>0</td>\n",
              "      <td>0</td>\n",
              "      <td>73</td>\n",
              "      <td>0</td>\n",
              "    </tr>\n",
              "  </tbody>\n",
              "</table>\n",
              "</div>\n",
              "      <button class=\"colab-df-convert\" onclick=\"convertToInteractive('df-d33cf8ea-224c-4828-83e4-7bc464fd3cba')\"\n",
              "              title=\"Convert this dataframe to an interactive table.\"\n",
              "              style=\"display:none;\">\n",
              "        \n",
              "  <svg xmlns=\"http://www.w3.org/2000/svg\" height=\"24px\"viewBox=\"0 0 24 24\"\n",
              "       width=\"24px\">\n",
              "    <path d=\"M0 0h24v24H0V0z\" fill=\"none\"/>\n",
              "    <path d=\"M18.56 5.44l.94 2.06.94-2.06 2.06-.94-2.06-.94-.94-2.06-.94 2.06-2.06.94zm-11 1L8.5 8.5l.94-2.06 2.06-.94-2.06-.94L8.5 2.5l-.94 2.06-2.06.94zm10 10l.94 2.06.94-2.06 2.06-.94-2.06-.94-.94-2.06-.94 2.06-2.06.94z\"/><path d=\"M17.41 7.96l-1.37-1.37c-.4-.4-.92-.59-1.43-.59-.52 0-1.04.2-1.43.59L10.3 9.45l-7.72 7.72c-.78.78-.78 2.05 0 2.83L4 21.41c.39.39.9.59 1.41.59.51 0 1.02-.2 1.41-.59l7.78-7.78 2.81-2.81c.8-.78.8-2.07 0-2.86zM5.41 20L4 18.59l7.72-7.72 1.47 1.35L5.41 20z\"/>\n",
              "  </svg>\n",
              "      </button>\n",
              "      \n",
              "  <style>\n",
              "    .colab-df-container {\n",
              "      display:flex;\n",
              "      flex-wrap:wrap;\n",
              "      gap: 12px;\n",
              "    }\n",
              "\n",
              "    .colab-df-convert {\n",
              "      background-color: #E8F0FE;\n",
              "      border: none;\n",
              "      border-radius: 50%;\n",
              "      cursor: pointer;\n",
              "      display: none;\n",
              "      fill: #1967D2;\n",
              "      height: 32px;\n",
              "      padding: 0 0 0 0;\n",
              "      width: 32px;\n",
              "    }\n",
              "\n",
              "    .colab-df-convert:hover {\n",
              "      background-color: #E2EBFA;\n",
              "      box-shadow: 0px 1px 2px rgba(60, 64, 67, 0.3), 0px 1px 3px 1px rgba(60, 64, 67, 0.15);\n",
              "      fill: #174EA6;\n",
              "    }\n",
              "\n",
              "    [theme=dark] .colab-df-convert {\n",
              "      background-color: #3B4455;\n",
              "      fill: #D2E3FC;\n",
              "    }\n",
              "\n",
              "    [theme=dark] .colab-df-convert:hover {\n",
              "      background-color: #434B5C;\n",
              "      box-shadow: 0px 1px 3px 1px rgba(0, 0, 0, 0.15);\n",
              "      filter: drop-shadow(0px 1px 2px rgba(0, 0, 0, 0.3));\n",
              "      fill: #FFFFFF;\n",
              "    }\n",
              "  </style>\n",
              "\n",
              "      <script>\n",
              "        const buttonEl =\n",
              "          document.querySelector('#df-d33cf8ea-224c-4828-83e4-7bc464fd3cba button.colab-df-convert');\n",
              "        buttonEl.style.display =\n",
              "          google.colab.kernel.accessAllowed ? 'block' : 'none';\n",
              "\n",
              "        async function convertToInteractive(key) {\n",
              "          const element = document.querySelector('#df-d33cf8ea-224c-4828-83e4-7bc464fd3cba');\n",
              "          const dataTable =\n",
              "            await google.colab.kernel.invokeFunction('convertToInteractive',\n",
              "                                                     [key], {});\n",
              "          if (!dataTable) return;\n",
              "\n",
              "          const docLinkHtml = 'Like what you see? Visit the ' +\n",
              "            '<a target=\"_blank\" href=https://colab.research.google.com/notebooks/data_table.ipynb>data table notebook</a>'\n",
              "            + ' to learn more about interactive tables.';\n",
              "          element.innerHTML = '';\n",
              "          dataTable['output_type'] = 'display_data';\n",
              "          await google.colab.output.renderOutput(dataTable, element);\n",
              "          const docLink = document.createElement('div');\n",
              "          docLink.innerHTML = docLinkHtml;\n",
              "          element.appendChild(docLink);\n",
              "        }\n",
              "      </script>\n",
              "    </div>\n",
              "  </div>\n",
              "  "
            ]
          },
          "metadata": {},
          "execution_count": 8
        }
      ]
    },
    {
      "cell_type": "code",
      "source": [
        "test.head()"
      ],
      "metadata": {
        "colab": {
          "base_uri": "https://localhost:8080/",
          "height": 285
        },
        "id": "sVYIq2H5NNMT",
        "outputId": "790bbbed-028d-44ea-d681-e1af98c531e6"
      },
      "execution_count": 9,
      "outputs": [
        {
          "output_type": "execute_result",
          "data": {
            "text/plain": [
              "   employee_id         department     region   education gender  \\\n",
              "0         8724         Technology  region_26  Bachelor's      m   \n",
              "1        74430                 HR   region_4  Bachelor's      f   \n",
              "2        72255  Sales & Marketing  region_13  Bachelor's      m   \n",
              "3        38562        Procurement   region_2  Bachelor's      f   \n",
              "4        64486            Finance  region_29  Bachelor's      m   \n",
              "\n",
              "  recruitment_channel  no_of_trainings  age  previous_year_rating  \\\n",
              "0            sourcing                1   24                   NaN   \n",
              "1               other                1   31                   3.0   \n",
              "2               other                1   31                   1.0   \n",
              "3               other                3   31                   2.0   \n",
              "4            sourcing                1   30                   4.0   \n",
              "\n",
              "   length_of_service  KPIs_met >80%  awards_won?  avg_training_score  \n",
              "0                  1              1            0                  77  \n",
              "1                  5              0            0                  51  \n",
              "2                  4              0            0                  47  \n",
              "3                  9              0            0                  65  \n",
              "4                  7              0            0                  61  "
            ],
            "text/html": [
              "\n",
              "  <div id=\"df-c2e7d85b-f048-4bac-a935-d27a402ea34a\">\n",
              "    <div class=\"colab-df-container\">\n",
              "      <div>\n",
              "<style scoped>\n",
              "    .dataframe tbody tr th:only-of-type {\n",
              "        vertical-align: middle;\n",
              "    }\n",
              "\n",
              "    .dataframe tbody tr th {\n",
              "        vertical-align: top;\n",
              "    }\n",
              "\n",
              "    .dataframe thead th {\n",
              "        text-align: right;\n",
              "    }\n",
              "</style>\n",
              "<table border=\"1\" class=\"dataframe\">\n",
              "  <thead>\n",
              "    <tr style=\"text-align: right;\">\n",
              "      <th></th>\n",
              "      <th>employee_id</th>\n",
              "      <th>department</th>\n",
              "      <th>region</th>\n",
              "      <th>education</th>\n",
              "      <th>gender</th>\n",
              "      <th>recruitment_channel</th>\n",
              "      <th>no_of_trainings</th>\n",
              "      <th>age</th>\n",
              "      <th>previous_year_rating</th>\n",
              "      <th>length_of_service</th>\n",
              "      <th>KPIs_met &gt;80%</th>\n",
              "      <th>awards_won?</th>\n",
              "      <th>avg_training_score</th>\n",
              "    </tr>\n",
              "  </thead>\n",
              "  <tbody>\n",
              "    <tr>\n",
              "      <th>0</th>\n",
              "      <td>8724</td>\n",
              "      <td>Technology</td>\n",
              "      <td>region_26</td>\n",
              "      <td>Bachelor's</td>\n",
              "      <td>m</td>\n",
              "      <td>sourcing</td>\n",
              "      <td>1</td>\n",
              "      <td>24</td>\n",
              "      <td>NaN</td>\n",
              "      <td>1</td>\n",
              "      <td>1</td>\n",
              "      <td>0</td>\n",
              "      <td>77</td>\n",
              "    </tr>\n",
              "    <tr>\n",
              "      <th>1</th>\n",
              "      <td>74430</td>\n",
              "      <td>HR</td>\n",
              "      <td>region_4</td>\n",
              "      <td>Bachelor's</td>\n",
              "      <td>f</td>\n",
              "      <td>other</td>\n",
              "      <td>1</td>\n",
              "      <td>31</td>\n",
              "      <td>3.0</td>\n",
              "      <td>5</td>\n",
              "      <td>0</td>\n",
              "      <td>0</td>\n",
              "      <td>51</td>\n",
              "    </tr>\n",
              "    <tr>\n",
              "      <th>2</th>\n",
              "      <td>72255</td>\n",
              "      <td>Sales &amp; Marketing</td>\n",
              "      <td>region_13</td>\n",
              "      <td>Bachelor's</td>\n",
              "      <td>m</td>\n",
              "      <td>other</td>\n",
              "      <td>1</td>\n",
              "      <td>31</td>\n",
              "      <td>1.0</td>\n",
              "      <td>4</td>\n",
              "      <td>0</td>\n",
              "      <td>0</td>\n",
              "      <td>47</td>\n",
              "    </tr>\n",
              "    <tr>\n",
              "      <th>3</th>\n",
              "      <td>38562</td>\n",
              "      <td>Procurement</td>\n",
              "      <td>region_2</td>\n",
              "      <td>Bachelor's</td>\n",
              "      <td>f</td>\n",
              "      <td>other</td>\n",
              "      <td>3</td>\n",
              "      <td>31</td>\n",
              "      <td>2.0</td>\n",
              "      <td>9</td>\n",
              "      <td>0</td>\n",
              "      <td>0</td>\n",
              "      <td>65</td>\n",
              "    </tr>\n",
              "    <tr>\n",
              "      <th>4</th>\n",
              "      <td>64486</td>\n",
              "      <td>Finance</td>\n",
              "      <td>region_29</td>\n",
              "      <td>Bachelor's</td>\n",
              "      <td>m</td>\n",
              "      <td>sourcing</td>\n",
              "      <td>1</td>\n",
              "      <td>30</td>\n",
              "      <td>4.0</td>\n",
              "      <td>7</td>\n",
              "      <td>0</td>\n",
              "      <td>0</td>\n",
              "      <td>61</td>\n",
              "    </tr>\n",
              "  </tbody>\n",
              "</table>\n",
              "</div>\n",
              "      <button class=\"colab-df-convert\" onclick=\"convertToInteractive('df-c2e7d85b-f048-4bac-a935-d27a402ea34a')\"\n",
              "              title=\"Convert this dataframe to an interactive table.\"\n",
              "              style=\"display:none;\">\n",
              "        \n",
              "  <svg xmlns=\"http://www.w3.org/2000/svg\" height=\"24px\"viewBox=\"0 0 24 24\"\n",
              "       width=\"24px\">\n",
              "    <path d=\"M0 0h24v24H0V0z\" fill=\"none\"/>\n",
              "    <path d=\"M18.56 5.44l.94 2.06.94-2.06 2.06-.94-2.06-.94-.94-2.06-.94 2.06-2.06.94zm-11 1L8.5 8.5l.94-2.06 2.06-.94-2.06-.94L8.5 2.5l-.94 2.06-2.06.94zm10 10l.94 2.06.94-2.06 2.06-.94-2.06-.94-.94-2.06-.94 2.06-2.06.94z\"/><path d=\"M17.41 7.96l-1.37-1.37c-.4-.4-.92-.59-1.43-.59-.52 0-1.04.2-1.43.59L10.3 9.45l-7.72 7.72c-.78.78-.78 2.05 0 2.83L4 21.41c.39.39.9.59 1.41.59.51 0 1.02-.2 1.41-.59l7.78-7.78 2.81-2.81c.8-.78.8-2.07 0-2.86zM5.41 20L4 18.59l7.72-7.72 1.47 1.35L5.41 20z\"/>\n",
              "  </svg>\n",
              "      </button>\n",
              "      \n",
              "  <style>\n",
              "    .colab-df-container {\n",
              "      display:flex;\n",
              "      flex-wrap:wrap;\n",
              "      gap: 12px;\n",
              "    }\n",
              "\n",
              "    .colab-df-convert {\n",
              "      background-color: #E8F0FE;\n",
              "      border: none;\n",
              "      border-radius: 50%;\n",
              "      cursor: pointer;\n",
              "      display: none;\n",
              "      fill: #1967D2;\n",
              "      height: 32px;\n",
              "      padding: 0 0 0 0;\n",
              "      width: 32px;\n",
              "    }\n",
              "\n",
              "    .colab-df-convert:hover {\n",
              "      background-color: #E2EBFA;\n",
              "      box-shadow: 0px 1px 2px rgba(60, 64, 67, 0.3), 0px 1px 3px 1px rgba(60, 64, 67, 0.15);\n",
              "      fill: #174EA6;\n",
              "    }\n",
              "\n",
              "    [theme=dark] .colab-df-convert {\n",
              "      background-color: #3B4455;\n",
              "      fill: #D2E3FC;\n",
              "    }\n",
              "\n",
              "    [theme=dark] .colab-df-convert:hover {\n",
              "      background-color: #434B5C;\n",
              "      box-shadow: 0px 1px 3px 1px rgba(0, 0, 0, 0.15);\n",
              "      filter: drop-shadow(0px 1px 2px rgba(0, 0, 0, 0.3));\n",
              "      fill: #FFFFFF;\n",
              "    }\n",
              "  </style>\n",
              "\n",
              "      <script>\n",
              "        const buttonEl =\n",
              "          document.querySelector('#df-c2e7d85b-f048-4bac-a935-d27a402ea34a button.colab-df-convert');\n",
              "        buttonEl.style.display =\n",
              "          google.colab.kernel.accessAllowed ? 'block' : 'none';\n",
              "\n",
              "        async function convertToInteractive(key) {\n",
              "          const element = document.querySelector('#df-c2e7d85b-f048-4bac-a935-d27a402ea34a');\n",
              "          const dataTable =\n",
              "            await google.colab.kernel.invokeFunction('convertToInteractive',\n",
              "                                                     [key], {});\n",
              "          if (!dataTable) return;\n",
              "\n",
              "          const docLinkHtml = 'Like what you see? Visit the ' +\n",
              "            '<a target=\"_blank\" href=https://colab.research.google.com/notebooks/data_table.ipynb>data table notebook</a>'\n",
              "            + ' to learn more about interactive tables.';\n",
              "          element.innerHTML = '';\n",
              "          dataTable['output_type'] = 'display_data';\n",
              "          await google.colab.output.renderOutput(dataTable, element);\n",
              "          const docLink = document.createElement('div');\n",
              "          docLink.innerHTML = docLinkHtml;\n",
              "          element.appendChild(docLink);\n",
              "        }\n",
              "      </script>\n",
              "    </div>\n",
              "  </div>\n",
              "  "
            ]
          },
          "metadata": {},
          "execution_count": 9
        }
      ]
    },
    {
      "cell_type": "markdown",
      "source": [
        "We have observations of 54,808 employees that we want to analyse. And there are 14 features in our dataset on the top of which we are going to build our model to predict if the employee should be promoted or not."
      ],
      "metadata": {
        "id": "ScIy1lK3OdR9"
      }
    },
    {
      "cell_type": "code",
      "source": [
        "train.describe()"
      ],
      "metadata": {
        "colab": {
          "base_uri": "https://localhost:8080/",
          "height": 300
        },
        "id": "z4ngdw_TOaCR",
        "outputId": "8632e58c-2e27-4c0c-d91e-1be67090aab1"
      },
      "execution_count": 10,
      "outputs": [
        {
          "output_type": "execute_result",
          "data": {
            "text/plain": [
              "        employee_id  no_of_trainings           age  previous_year_rating  \\\n",
              "count  54808.000000     54808.000000  54808.000000          50684.000000   \n",
              "mean   39195.830627         1.253011     34.803915              3.329256   \n",
              "std    22586.581449         0.609264      7.660169              1.259993   \n",
              "min        1.000000         1.000000     20.000000              1.000000   \n",
              "25%    19669.750000         1.000000     29.000000              3.000000   \n",
              "50%    39225.500000         1.000000     33.000000              3.000000   \n",
              "75%    58730.500000         1.000000     39.000000              4.000000   \n",
              "max    78298.000000        10.000000     60.000000              5.000000   \n",
              "\n",
              "       length_of_service  KPIs_met >80%   awards_won?  avg_training_score  \\\n",
              "count       54808.000000   54808.000000  54808.000000        54808.000000   \n",
              "mean            5.865512       0.351974      0.023172           63.386750   \n",
              "std             4.265094       0.477590      0.150450           13.371559   \n",
              "min             1.000000       0.000000      0.000000           39.000000   \n",
              "25%             3.000000       0.000000      0.000000           51.000000   \n",
              "50%             5.000000       0.000000      0.000000           60.000000   \n",
              "75%             7.000000       1.000000      0.000000           76.000000   \n",
              "max            37.000000       1.000000      1.000000           99.000000   \n",
              "\n",
              "        is_promoted  \n",
              "count  54808.000000  \n",
              "mean       0.085170  \n",
              "std        0.279137  \n",
              "min        0.000000  \n",
              "25%        0.000000  \n",
              "50%        0.000000  \n",
              "75%        0.000000  \n",
              "max        1.000000  "
            ],
            "text/html": [
              "\n",
              "  <div id=\"df-bff7611a-239d-4c2c-8df1-fe893140546d\">\n",
              "    <div class=\"colab-df-container\">\n",
              "      <div>\n",
              "<style scoped>\n",
              "    .dataframe tbody tr th:only-of-type {\n",
              "        vertical-align: middle;\n",
              "    }\n",
              "\n",
              "    .dataframe tbody tr th {\n",
              "        vertical-align: top;\n",
              "    }\n",
              "\n",
              "    .dataframe thead th {\n",
              "        text-align: right;\n",
              "    }\n",
              "</style>\n",
              "<table border=\"1\" class=\"dataframe\">\n",
              "  <thead>\n",
              "    <tr style=\"text-align: right;\">\n",
              "      <th></th>\n",
              "      <th>employee_id</th>\n",
              "      <th>no_of_trainings</th>\n",
              "      <th>age</th>\n",
              "      <th>previous_year_rating</th>\n",
              "      <th>length_of_service</th>\n",
              "      <th>KPIs_met &gt;80%</th>\n",
              "      <th>awards_won?</th>\n",
              "      <th>avg_training_score</th>\n",
              "      <th>is_promoted</th>\n",
              "    </tr>\n",
              "  </thead>\n",
              "  <tbody>\n",
              "    <tr>\n",
              "      <th>count</th>\n",
              "      <td>54808.000000</td>\n",
              "      <td>54808.000000</td>\n",
              "      <td>54808.000000</td>\n",
              "      <td>50684.000000</td>\n",
              "      <td>54808.000000</td>\n",
              "      <td>54808.000000</td>\n",
              "      <td>54808.000000</td>\n",
              "      <td>54808.000000</td>\n",
              "      <td>54808.000000</td>\n",
              "    </tr>\n",
              "    <tr>\n",
              "      <th>mean</th>\n",
              "      <td>39195.830627</td>\n",
              "      <td>1.253011</td>\n",
              "      <td>34.803915</td>\n",
              "      <td>3.329256</td>\n",
              "      <td>5.865512</td>\n",
              "      <td>0.351974</td>\n",
              "      <td>0.023172</td>\n",
              "      <td>63.386750</td>\n",
              "      <td>0.085170</td>\n",
              "    </tr>\n",
              "    <tr>\n",
              "      <th>std</th>\n",
              "      <td>22586.581449</td>\n",
              "      <td>0.609264</td>\n",
              "      <td>7.660169</td>\n",
              "      <td>1.259993</td>\n",
              "      <td>4.265094</td>\n",
              "      <td>0.477590</td>\n",
              "      <td>0.150450</td>\n",
              "      <td>13.371559</td>\n",
              "      <td>0.279137</td>\n",
              "    </tr>\n",
              "    <tr>\n",
              "      <th>min</th>\n",
              "      <td>1.000000</td>\n",
              "      <td>1.000000</td>\n",
              "      <td>20.000000</td>\n",
              "      <td>1.000000</td>\n",
              "      <td>1.000000</td>\n",
              "      <td>0.000000</td>\n",
              "      <td>0.000000</td>\n",
              "      <td>39.000000</td>\n",
              "      <td>0.000000</td>\n",
              "    </tr>\n",
              "    <tr>\n",
              "      <th>25%</th>\n",
              "      <td>19669.750000</td>\n",
              "      <td>1.000000</td>\n",
              "      <td>29.000000</td>\n",
              "      <td>3.000000</td>\n",
              "      <td>3.000000</td>\n",
              "      <td>0.000000</td>\n",
              "      <td>0.000000</td>\n",
              "      <td>51.000000</td>\n",
              "      <td>0.000000</td>\n",
              "    </tr>\n",
              "    <tr>\n",
              "      <th>50%</th>\n",
              "      <td>39225.500000</td>\n",
              "      <td>1.000000</td>\n",
              "      <td>33.000000</td>\n",
              "      <td>3.000000</td>\n",
              "      <td>5.000000</td>\n",
              "      <td>0.000000</td>\n",
              "      <td>0.000000</td>\n",
              "      <td>60.000000</td>\n",
              "      <td>0.000000</td>\n",
              "    </tr>\n",
              "    <tr>\n",
              "      <th>75%</th>\n",
              "      <td>58730.500000</td>\n",
              "      <td>1.000000</td>\n",
              "      <td>39.000000</td>\n",
              "      <td>4.000000</td>\n",
              "      <td>7.000000</td>\n",
              "      <td>1.000000</td>\n",
              "      <td>0.000000</td>\n",
              "      <td>76.000000</td>\n",
              "      <td>0.000000</td>\n",
              "    </tr>\n",
              "    <tr>\n",
              "      <th>max</th>\n",
              "      <td>78298.000000</td>\n",
              "      <td>10.000000</td>\n",
              "      <td>60.000000</td>\n",
              "      <td>5.000000</td>\n",
              "      <td>37.000000</td>\n",
              "      <td>1.000000</td>\n",
              "      <td>1.000000</td>\n",
              "      <td>99.000000</td>\n",
              "      <td>1.000000</td>\n",
              "    </tr>\n",
              "  </tbody>\n",
              "</table>\n",
              "</div>\n",
              "      <button class=\"colab-df-convert\" onclick=\"convertToInteractive('df-bff7611a-239d-4c2c-8df1-fe893140546d')\"\n",
              "              title=\"Convert this dataframe to an interactive table.\"\n",
              "              style=\"display:none;\">\n",
              "        \n",
              "  <svg xmlns=\"http://www.w3.org/2000/svg\" height=\"24px\"viewBox=\"0 0 24 24\"\n",
              "       width=\"24px\">\n",
              "    <path d=\"M0 0h24v24H0V0z\" fill=\"none\"/>\n",
              "    <path d=\"M18.56 5.44l.94 2.06.94-2.06 2.06-.94-2.06-.94-.94-2.06-.94 2.06-2.06.94zm-11 1L8.5 8.5l.94-2.06 2.06-.94-2.06-.94L8.5 2.5l-.94 2.06-2.06.94zm10 10l.94 2.06.94-2.06 2.06-.94-2.06-.94-.94-2.06-.94 2.06-2.06.94z\"/><path d=\"M17.41 7.96l-1.37-1.37c-.4-.4-.92-.59-1.43-.59-.52 0-1.04.2-1.43.59L10.3 9.45l-7.72 7.72c-.78.78-.78 2.05 0 2.83L4 21.41c.39.39.9.59 1.41.59.51 0 1.02-.2 1.41-.59l7.78-7.78 2.81-2.81c.8-.78.8-2.07 0-2.86zM5.41 20L4 18.59l7.72-7.72 1.47 1.35L5.41 20z\"/>\n",
              "  </svg>\n",
              "      </button>\n",
              "      \n",
              "  <style>\n",
              "    .colab-df-container {\n",
              "      display:flex;\n",
              "      flex-wrap:wrap;\n",
              "      gap: 12px;\n",
              "    }\n",
              "\n",
              "    .colab-df-convert {\n",
              "      background-color: #E8F0FE;\n",
              "      border: none;\n",
              "      border-radius: 50%;\n",
              "      cursor: pointer;\n",
              "      display: none;\n",
              "      fill: #1967D2;\n",
              "      height: 32px;\n",
              "      padding: 0 0 0 0;\n",
              "      width: 32px;\n",
              "    }\n",
              "\n",
              "    .colab-df-convert:hover {\n",
              "      background-color: #E2EBFA;\n",
              "      box-shadow: 0px 1px 2px rgba(60, 64, 67, 0.3), 0px 1px 3px 1px rgba(60, 64, 67, 0.15);\n",
              "      fill: #174EA6;\n",
              "    }\n",
              "\n",
              "    [theme=dark] .colab-df-convert {\n",
              "      background-color: #3B4455;\n",
              "      fill: #D2E3FC;\n",
              "    }\n",
              "\n",
              "    [theme=dark] .colab-df-convert:hover {\n",
              "      background-color: #434B5C;\n",
              "      box-shadow: 0px 1px 3px 1px rgba(0, 0, 0, 0.15);\n",
              "      filter: drop-shadow(0px 1px 2px rgba(0, 0, 0, 0.3));\n",
              "      fill: #FFFFFF;\n",
              "    }\n",
              "  </style>\n",
              "\n",
              "      <script>\n",
              "        const buttonEl =\n",
              "          document.querySelector('#df-bff7611a-239d-4c2c-8df1-fe893140546d button.colab-df-convert');\n",
              "        buttonEl.style.display =\n",
              "          google.colab.kernel.accessAllowed ? 'block' : 'none';\n",
              "\n",
              "        async function convertToInteractive(key) {\n",
              "          const element = document.querySelector('#df-bff7611a-239d-4c2c-8df1-fe893140546d');\n",
              "          const dataTable =\n",
              "            await google.colab.kernel.invokeFunction('convertToInteractive',\n",
              "                                                     [key], {});\n",
              "          if (!dataTable) return;\n",
              "\n",
              "          const docLinkHtml = 'Like what you see? Visit the ' +\n",
              "            '<a target=\"_blank\" href=https://colab.research.google.com/notebooks/data_table.ipynb>data table notebook</a>'\n",
              "            + ' to learn more about interactive tables.';\n",
              "          element.innerHTML = '';\n",
              "          dataTable['output_type'] = 'display_data';\n",
              "          await google.colab.output.renderOutput(dataTable, element);\n",
              "          const docLink = document.createElement('div');\n",
              "          docLink.innerHTML = docLinkHtml;\n",
              "          element.appendChild(docLink);\n",
              "        }\n",
              "      </script>\n",
              "    </div>\n",
              "  </div>\n",
              "  "
            ]
          },
          "metadata": {},
          "execution_count": 10
        }
      ]
    },
    {
      "cell_type": "code",
      "source": [
        "train.info()"
      ],
      "metadata": {
        "colab": {
          "base_uri": "https://localhost:8080/"
        },
        "id": "wF0G9Hm2O1qs",
        "outputId": "93fc0b45-ecd3-470c-b370-d22931e004f5"
      },
      "execution_count": 11,
      "outputs": [
        {
          "output_type": "stream",
          "name": "stdout",
          "text": [
            "<class 'pandas.core.frame.DataFrame'>\n",
            "RangeIndex: 54808 entries, 0 to 54807\n",
            "Data columns (total 14 columns):\n",
            " #   Column                Non-Null Count  Dtype  \n",
            "---  ------                --------------  -----  \n",
            " 0   employee_id           54808 non-null  int64  \n",
            " 1   department            54808 non-null  object \n",
            " 2   region                54808 non-null  object \n",
            " 3   education             52399 non-null  object \n",
            " 4   gender                54808 non-null  object \n",
            " 5   recruitment_channel   54808 non-null  object \n",
            " 6   no_of_trainings       54808 non-null  int64  \n",
            " 7   age                   54808 non-null  int64  \n",
            " 8   previous_year_rating  50684 non-null  float64\n",
            " 9   length_of_service     54808 non-null  int64  \n",
            " 10  KPIs_met >80%         54808 non-null  int64  \n",
            " 11  awards_won?           54808 non-null  int64  \n",
            " 12  avg_training_score    54808 non-null  int64  \n",
            " 13  is_promoted           54808 non-null  int64  \n",
            "dtypes: float64(1), int64(8), object(5)\n",
            "memory usage: 5.9+ MB\n"
          ]
        }
      ]
    },
    {
      "cell_type": "code",
      "source": [
        "test.describe()"
      ],
      "metadata": {
        "colab": {
          "base_uri": "https://localhost:8080/",
          "height": 300
        },
        "id": "47Unz5Lmzf4I",
        "outputId": "1e2e011a-b002-4122-960d-6b563ca3ed04"
      },
      "execution_count": 12,
      "outputs": [
        {
          "output_type": "execute_result",
          "data": {
            "text/plain": [
              "        employee_id  no_of_trainings           age  previous_year_rating  \\\n",
              "count  23490.000000     23490.000000  23490.000000          21678.000000   \n",
              "mean   39041.399149         1.254236     34.782929              3.339146   \n",
              "std    22640.809201         0.600910      7.679492              1.263294   \n",
              "min        3.000000         1.000000     20.000000              1.000000   \n",
              "25%    19370.250000         1.000000     29.000000              3.000000   \n",
              "50%    38963.500000         1.000000     33.000000              3.000000   \n",
              "75%    58690.000000         1.000000     39.000000              4.000000   \n",
              "max    78295.000000         9.000000     60.000000              5.000000   \n",
              "\n",
              "       length_of_service  KPIs_met >80%   awards_won?  avg_training_score  \n",
              "count       23490.000000   23490.000000  23490.000000        23490.000000  \n",
              "mean            5.810387       0.358834      0.022776           63.263133  \n",
              "std             4.207917       0.479668      0.149191           13.411750  \n",
              "min             1.000000       0.000000      0.000000           39.000000  \n",
              "25%             3.000000       0.000000      0.000000           51.000000  \n",
              "50%             5.000000       0.000000      0.000000           60.000000  \n",
              "75%             7.000000       1.000000      0.000000           76.000000  \n",
              "max            34.000000       1.000000      1.000000           99.000000  "
            ],
            "text/html": [
              "\n",
              "  <div id=\"df-221e5223-f988-4da1-982a-48abed2f8d0b\">\n",
              "    <div class=\"colab-df-container\">\n",
              "      <div>\n",
              "<style scoped>\n",
              "    .dataframe tbody tr th:only-of-type {\n",
              "        vertical-align: middle;\n",
              "    }\n",
              "\n",
              "    .dataframe tbody tr th {\n",
              "        vertical-align: top;\n",
              "    }\n",
              "\n",
              "    .dataframe thead th {\n",
              "        text-align: right;\n",
              "    }\n",
              "</style>\n",
              "<table border=\"1\" class=\"dataframe\">\n",
              "  <thead>\n",
              "    <tr style=\"text-align: right;\">\n",
              "      <th></th>\n",
              "      <th>employee_id</th>\n",
              "      <th>no_of_trainings</th>\n",
              "      <th>age</th>\n",
              "      <th>previous_year_rating</th>\n",
              "      <th>length_of_service</th>\n",
              "      <th>KPIs_met &gt;80%</th>\n",
              "      <th>awards_won?</th>\n",
              "      <th>avg_training_score</th>\n",
              "    </tr>\n",
              "  </thead>\n",
              "  <tbody>\n",
              "    <tr>\n",
              "      <th>count</th>\n",
              "      <td>23490.000000</td>\n",
              "      <td>23490.000000</td>\n",
              "      <td>23490.000000</td>\n",
              "      <td>21678.000000</td>\n",
              "      <td>23490.000000</td>\n",
              "      <td>23490.000000</td>\n",
              "      <td>23490.000000</td>\n",
              "      <td>23490.000000</td>\n",
              "    </tr>\n",
              "    <tr>\n",
              "      <th>mean</th>\n",
              "      <td>39041.399149</td>\n",
              "      <td>1.254236</td>\n",
              "      <td>34.782929</td>\n",
              "      <td>3.339146</td>\n",
              "      <td>5.810387</td>\n",
              "      <td>0.358834</td>\n",
              "      <td>0.022776</td>\n",
              "      <td>63.263133</td>\n",
              "    </tr>\n",
              "    <tr>\n",
              "      <th>std</th>\n",
              "      <td>22640.809201</td>\n",
              "      <td>0.600910</td>\n",
              "      <td>7.679492</td>\n",
              "      <td>1.263294</td>\n",
              "      <td>4.207917</td>\n",
              "      <td>0.479668</td>\n",
              "      <td>0.149191</td>\n",
              "      <td>13.411750</td>\n",
              "    </tr>\n",
              "    <tr>\n",
              "      <th>min</th>\n",
              "      <td>3.000000</td>\n",
              "      <td>1.000000</td>\n",
              "      <td>20.000000</td>\n",
              "      <td>1.000000</td>\n",
              "      <td>1.000000</td>\n",
              "      <td>0.000000</td>\n",
              "      <td>0.000000</td>\n",
              "      <td>39.000000</td>\n",
              "    </tr>\n",
              "    <tr>\n",
              "      <th>25%</th>\n",
              "      <td>19370.250000</td>\n",
              "      <td>1.000000</td>\n",
              "      <td>29.000000</td>\n",
              "      <td>3.000000</td>\n",
              "      <td>3.000000</td>\n",
              "      <td>0.000000</td>\n",
              "      <td>0.000000</td>\n",
              "      <td>51.000000</td>\n",
              "    </tr>\n",
              "    <tr>\n",
              "      <th>50%</th>\n",
              "      <td>38963.500000</td>\n",
              "      <td>1.000000</td>\n",
              "      <td>33.000000</td>\n",
              "      <td>3.000000</td>\n",
              "      <td>5.000000</td>\n",
              "      <td>0.000000</td>\n",
              "      <td>0.000000</td>\n",
              "      <td>60.000000</td>\n",
              "    </tr>\n",
              "    <tr>\n",
              "      <th>75%</th>\n",
              "      <td>58690.000000</td>\n",
              "      <td>1.000000</td>\n",
              "      <td>39.000000</td>\n",
              "      <td>4.000000</td>\n",
              "      <td>7.000000</td>\n",
              "      <td>1.000000</td>\n",
              "      <td>0.000000</td>\n",
              "      <td>76.000000</td>\n",
              "    </tr>\n",
              "    <tr>\n",
              "      <th>max</th>\n",
              "      <td>78295.000000</td>\n",
              "      <td>9.000000</td>\n",
              "      <td>60.000000</td>\n",
              "      <td>5.000000</td>\n",
              "      <td>34.000000</td>\n",
              "      <td>1.000000</td>\n",
              "      <td>1.000000</td>\n",
              "      <td>99.000000</td>\n",
              "    </tr>\n",
              "  </tbody>\n",
              "</table>\n",
              "</div>\n",
              "      <button class=\"colab-df-convert\" onclick=\"convertToInteractive('df-221e5223-f988-4da1-982a-48abed2f8d0b')\"\n",
              "              title=\"Convert this dataframe to an interactive table.\"\n",
              "              style=\"display:none;\">\n",
              "        \n",
              "  <svg xmlns=\"http://www.w3.org/2000/svg\" height=\"24px\"viewBox=\"0 0 24 24\"\n",
              "       width=\"24px\">\n",
              "    <path d=\"M0 0h24v24H0V0z\" fill=\"none\"/>\n",
              "    <path d=\"M18.56 5.44l.94 2.06.94-2.06 2.06-.94-2.06-.94-.94-2.06-.94 2.06-2.06.94zm-11 1L8.5 8.5l.94-2.06 2.06-.94-2.06-.94L8.5 2.5l-.94 2.06-2.06.94zm10 10l.94 2.06.94-2.06 2.06-.94-2.06-.94-.94-2.06-.94 2.06-2.06.94z\"/><path d=\"M17.41 7.96l-1.37-1.37c-.4-.4-.92-.59-1.43-.59-.52 0-1.04.2-1.43.59L10.3 9.45l-7.72 7.72c-.78.78-.78 2.05 0 2.83L4 21.41c.39.39.9.59 1.41.59.51 0 1.02-.2 1.41-.59l7.78-7.78 2.81-2.81c.8-.78.8-2.07 0-2.86zM5.41 20L4 18.59l7.72-7.72 1.47 1.35L5.41 20z\"/>\n",
              "  </svg>\n",
              "      </button>\n",
              "      \n",
              "  <style>\n",
              "    .colab-df-container {\n",
              "      display:flex;\n",
              "      flex-wrap:wrap;\n",
              "      gap: 12px;\n",
              "    }\n",
              "\n",
              "    .colab-df-convert {\n",
              "      background-color: #E8F0FE;\n",
              "      border: none;\n",
              "      border-radius: 50%;\n",
              "      cursor: pointer;\n",
              "      display: none;\n",
              "      fill: #1967D2;\n",
              "      height: 32px;\n",
              "      padding: 0 0 0 0;\n",
              "      width: 32px;\n",
              "    }\n",
              "\n",
              "    .colab-df-convert:hover {\n",
              "      background-color: #E2EBFA;\n",
              "      box-shadow: 0px 1px 2px rgba(60, 64, 67, 0.3), 0px 1px 3px 1px rgba(60, 64, 67, 0.15);\n",
              "      fill: #174EA6;\n",
              "    }\n",
              "\n",
              "    [theme=dark] .colab-df-convert {\n",
              "      background-color: #3B4455;\n",
              "      fill: #D2E3FC;\n",
              "    }\n",
              "\n",
              "    [theme=dark] .colab-df-convert:hover {\n",
              "      background-color: #434B5C;\n",
              "      box-shadow: 0px 1px 3px 1px rgba(0, 0, 0, 0.15);\n",
              "      filter: drop-shadow(0px 1px 2px rgba(0, 0, 0, 0.3));\n",
              "      fill: #FFFFFF;\n",
              "    }\n",
              "  </style>\n",
              "\n",
              "      <script>\n",
              "        const buttonEl =\n",
              "          document.querySelector('#df-221e5223-f988-4da1-982a-48abed2f8d0b button.colab-df-convert');\n",
              "        buttonEl.style.display =\n",
              "          google.colab.kernel.accessAllowed ? 'block' : 'none';\n",
              "\n",
              "        async function convertToInteractive(key) {\n",
              "          const element = document.querySelector('#df-221e5223-f988-4da1-982a-48abed2f8d0b');\n",
              "          const dataTable =\n",
              "            await google.colab.kernel.invokeFunction('convertToInteractive',\n",
              "                                                     [key], {});\n",
              "          if (!dataTable) return;\n",
              "\n",
              "          const docLinkHtml = 'Like what you see? Visit the ' +\n",
              "            '<a target=\"_blank\" href=https://colab.research.google.com/notebooks/data_table.ipynb>data table notebook</a>'\n",
              "            + ' to learn more about interactive tables.';\n",
              "          element.innerHTML = '';\n",
              "          dataTable['output_type'] = 'display_data';\n",
              "          await google.colab.output.renderOutput(dataTable, element);\n",
              "          const docLink = document.createElement('div');\n",
              "          docLink.innerHTML = docLinkHtml;\n",
              "          element.appendChild(docLink);\n",
              "        }\n",
              "      </script>\n",
              "    </div>\n",
              "  </div>\n",
              "  "
            ]
          },
          "metadata": {},
          "execution_count": 12
        }
      ]
    },
    {
      "cell_type": "code",
      "source": [
        "test.info()"
      ],
      "metadata": {
        "colab": {
          "base_uri": "https://localhost:8080/"
        },
        "id": "98c03csTzgJB",
        "outputId": "d95070c5-3065-4905-b06e-8780aa3be3d3"
      },
      "execution_count": 13,
      "outputs": [
        {
          "output_type": "stream",
          "name": "stdout",
          "text": [
            "<class 'pandas.core.frame.DataFrame'>\n",
            "RangeIndex: 23490 entries, 0 to 23489\n",
            "Data columns (total 13 columns):\n",
            " #   Column                Non-Null Count  Dtype  \n",
            "---  ------                --------------  -----  \n",
            " 0   employee_id           23490 non-null  int64  \n",
            " 1   department            23490 non-null  object \n",
            " 2   region                23490 non-null  object \n",
            " 3   education             22456 non-null  object \n",
            " 4   gender                23490 non-null  object \n",
            " 5   recruitment_channel   23490 non-null  object \n",
            " 6   no_of_trainings       23490 non-null  int64  \n",
            " 7   age                   23490 non-null  int64  \n",
            " 8   previous_year_rating  21678 non-null  float64\n",
            " 9   length_of_service     23490 non-null  int64  \n",
            " 10  KPIs_met >80%         23490 non-null  int64  \n",
            " 11  awards_won?           23490 non-null  int64  \n",
            " 12  avg_training_score    23490 non-null  int64  \n",
            "dtypes: float64(1), int64(7), object(5)\n",
            "memory usage: 2.3+ MB\n"
          ]
        }
      ]
    },
    {
      "cell_type": "code",
      "source": [
        "# lets check the shape of the train and test datasets\n",
        "print(\"Shape of the Training Data :\", train.shape)\n",
        "print(\"Shape of the Test Data :\", test.shape)"
      ],
      "metadata": {
        "id": "gmUkMcfgPgXd",
        "colab": {
          "base_uri": "https://localhost:8080/"
        },
        "outputId": "c0b22392-4ee9-459d-c50b-4f9809e7d13d"
      },
      "execution_count": 14,
      "outputs": [
        {
          "output_type": "stream",
          "name": "stdout",
          "text": [
            "Shape of the Training Data : (54808, 14)\n",
            "Shape of the Test Data : (23490, 13)\n"
          ]
        }
      ]
    },
    {
      "cell_type": "markdown",
      "source": [
        "## Descriptive Statistics\n",
        "\n",
        "* Descriptive Statistics is one of the most Important Step to Understand the Data and take out Insights\n",
        "* First we will the Descriptive Statistics for the Numerical Columns\n",
        "* for Numerical Columns we check for stats such as Max, Min, Mean, count, standard deviation, 25 percentile, 50 percentile, and 75 percentile.\n",
        "* Then we will check for the Descriptive Statistics for Categorical Columns\n",
        "* for Categorical Columns we check for stats such as count, frequency, top, and unique elements."
      ],
      "metadata": {
        "id": "4X-idqc5z0FO"
      }
    },
    {
      "cell_type": "code",
      "source": [
        "# lets check descriptive statistics for numerical columns\n",
        "train.describe().style.background_gradient(cmap = 'copper')"
      ],
      "metadata": {
        "colab": {
          "base_uri": "https://localhost:8080/",
          "height": 300
        },
        "id": "uaSiIyPSy-jE",
        "outputId": "9cc2a12b-6093-4221-d541-ca53fccce1f6"
      },
      "execution_count": 15,
      "outputs": [
        {
          "output_type": "execute_result",
          "data": {
            "text/plain": [
              "<pandas.io.formats.style.Styler at 0x7f019eafb700>"
            ],
            "text/html": [
              "<style type=\"text/css\">\n",
              "#T_cd5ee_row0_col0 {\n",
              "  background-color: #dd8c59;\n",
              "  color: #f1f1f1;\n",
              "}\n",
              "#T_cd5ee_row0_col1, #T_cd5ee_row0_col2, #T_cd5ee_row0_col3, #T_cd5ee_row0_col4, #T_cd5ee_row0_col5, #T_cd5ee_row0_col6, #T_cd5ee_row0_col7, #T_cd5ee_row0_col8, #T_cd5ee_row7_col0 {\n",
              "  background-color: #ffc77f;\n",
              "  color: #000000;\n",
              "}\n",
              "#T_cd5ee_row1_col0, #T_cd5ee_row5_col0 {\n",
              "  background-color: #9e6440;\n",
              "  color: #f1f1f1;\n",
              "}\n",
              "#T_cd5ee_row1_col1, #T_cd5ee_row1_col2, #T_cd5ee_row1_col3, #T_cd5ee_row1_col4, #T_cd5ee_row1_col5, #T_cd5ee_row1_col6, #T_cd5ee_row1_col7, #T_cd5ee_row1_col8, #T_cd5ee_row2_col1, #T_cd5ee_row2_col2, #T_cd5ee_row2_col3, #T_cd5ee_row2_col4, #T_cd5ee_row2_col5, #T_cd5ee_row2_col6, #T_cd5ee_row2_col7, #T_cd5ee_row2_col8, #T_cd5ee_row3_col0, #T_cd5ee_row3_col1, #T_cd5ee_row3_col2, #T_cd5ee_row3_col3, #T_cd5ee_row3_col4, #T_cd5ee_row3_col5, #T_cd5ee_row3_col6, #T_cd5ee_row3_col7, #T_cd5ee_row3_col8, #T_cd5ee_row4_col1, #T_cd5ee_row4_col2, #T_cd5ee_row4_col3, #T_cd5ee_row4_col4, #T_cd5ee_row4_col5, #T_cd5ee_row4_col6, #T_cd5ee_row4_col7, #T_cd5ee_row4_col8, #T_cd5ee_row5_col1, #T_cd5ee_row5_col2, #T_cd5ee_row5_col3, #T_cd5ee_row5_col4, #T_cd5ee_row5_col5, #T_cd5ee_row5_col6, #T_cd5ee_row5_col7, #T_cd5ee_row5_col8, #T_cd5ee_row6_col1, #T_cd5ee_row6_col2, #T_cd5ee_row6_col3, #T_cd5ee_row6_col4, #T_cd5ee_row6_col5, #T_cd5ee_row6_col6, #T_cd5ee_row6_col7, #T_cd5ee_row6_col8, #T_cd5ee_row7_col1, #T_cd5ee_row7_col2, #T_cd5ee_row7_col3, #T_cd5ee_row7_col4, #T_cd5ee_row7_col5, #T_cd5ee_row7_col6, #T_cd5ee_row7_col7, #T_cd5ee_row7_col8 {\n",
              "  background-color: #000000;\n",
              "  color: #f1f1f1;\n",
              "}\n",
              "#T_cd5ee_row2_col0 {\n",
              "  background-color: #5a3924;\n",
              "  color: #f1f1f1;\n",
              "}\n",
              "#T_cd5ee_row4_col0 {\n",
              "  background-color: #4f3220;\n",
              "  color: #f1f1f1;\n",
              "}\n",
              "#T_cd5ee_row6_col0 {\n",
              "  background-color: #ed9660;\n",
              "  color: #f1f1f1;\n",
              "}\n",
              "</style>\n",
              "<table id=\"T_cd5ee\" class=\"dataframe\">\n",
              "  <thead>\n",
              "    <tr>\n",
              "      <th class=\"blank level0\" >&nbsp;</th>\n",
              "      <th id=\"T_cd5ee_level0_col0\" class=\"col_heading level0 col0\" >employee_id</th>\n",
              "      <th id=\"T_cd5ee_level0_col1\" class=\"col_heading level0 col1\" >no_of_trainings</th>\n",
              "      <th id=\"T_cd5ee_level0_col2\" class=\"col_heading level0 col2\" >age</th>\n",
              "      <th id=\"T_cd5ee_level0_col3\" class=\"col_heading level0 col3\" >previous_year_rating</th>\n",
              "      <th id=\"T_cd5ee_level0_col4\" class=\"col_heading level0 col4\" >length_of_service</th>\n",
              "      <th id=\"T_cd5ee_level0_col5\" class=\"col_heading level0 col5\" >KPIs_met >80%</th>\n",
              "      <th id=\"T_cd5ee_level0_col6\" class=\"col_heading level0 col6\" >awards_won?</th>\n",
              "      <th id=\"T_cd5ee_level0_col7\" class=\"col_heading level0 col7\" >avg_training_score</th>\n",
              "      <th id=\"T_cd5ee_level0_col8\" class=\"col_heading level0 col8\" >is_promoted</th>\n",
              "    </tr>\n",
              "  </thead>\n",
              "  <tbody>\n",
              "    <tr>\n",
              "      <th id=\"T_cd5ee_level0_row0\" class=\"row_heading level0 row0\" >count</th>\n",
              "      <td id=\"T_cd5ee_row0_col0\" class=\"data row0 col0\" >54808.000000</td>\n",
              "      <td id=\"T_cd5ee_row0_col1\" class=\"data row0 col1\" >54808.000000</td>\n",
              "      <td id=\"T_cd5ee_row0_col2\" class=\"data row0 col2\" >54808.000000</td>\n",
              "      <td id=\"T_cd5ee_row0_col3\" class=\"data row0 col3\" >50684.000000</td>\n",
              "      <td id=\"T_cd5ee_row0_col4\" class=\"data row0 col4\" >54808.000000</td>\n",
              "      <td id=\"T_cd5ee_row0_col5\" class=\"data row0 col5\" >54808.000000</td>\n",
              "      <td id=\"T_cd5ee_row0_col6\" class=\"data row0 col6\" >54808.000000</td>\n",
              "      <td id=\"T_cd5ee_row0_col7\" class=\"data row0 col7\" >54808.000000</td>\n",
              "      <td id=\"T_cd5ee_row0_col8\" class=\"data row0 col8\" >54808.000000</td>\n",
              "    </tr>\n",
              "    <tr>\n",
              "      <th id=\"T_cd5ee_level0_row1\" class=\"row_heading level0 row1\" >mean</th>\n",
              "      <td id=\"T_cd5ee_row1_col0\" class=\"data row1 col0\" >39195.830627</td>\n",
              "      <td id=\"T_cd5ee_row1_col1\" class=\"data row1 col1\" >1.253011</td>\n",
              "      <td id=\"T_cd5ee_row1_col2\" class=\"data row1 col2\" >34.803915</td>\n",
              "      <td id=\"T_cd5ee_row1_col3\" class=\"data row1 col3\" >3.329256</td>\n",
              "      <td id=\"T_cd5ee_row1_col4\" class=\"data row1 col4\" >5.865512</td>\n",
              "      <td id=\"T_cd5ee_row1_col5\" class=\"data row1 col5\" >0.351974</td>\n",
              "      <td id=\"T_cd5ee_row1_col6\" class=\"data row1 col6\" >0.023172</td>\n",
              "      <td id=\"T_cd5ee_row1_col7\" class=\"data row1 col7\" >63.386750</td>\n",
              "      <td id=\"T_cd5ee_row1_col8\" class=\"data row1 col8\" >0.085170</td>\n",
              "    </tr>\n",
              "    <tr>\n",
              "      <th id=\"T_cd5ee_level0_row2\" class=\"row_heading level0 row2\" >std</th>\n",
              "      <td id=\"T_cd5ee_row2_col0\" class=\"data row2 col0\" >22586.581449</td>\n",
              "      <td id=\"T_cd5ee_row2_col1\" class=\"data row2 col1\" >0.609264</td>\n",
              "      <td id=\"T_cd5ee_row2_col2\" class=\"data row2 col2\" >7.660169</td>\n",
              "      <td id=\"T_cd5ee_row2_col3\" class=\"data row2 col3\" >1.259993</td>\n",
              "      <td id=\"T_cd5ee_row2_col4\" class=\"data row2 col4\" >4.265094</td>\n",
              "      <td id=\"T_cd5ee_row2_col5\" class=\"data row2 col5\" >0.477590</td>\n",
              "      <td id=\"T_cd5ee_row2_col6\" class=\"data row2 col6\" >0.150450</td>\n",
              "      <td id=\"T_cd5ee_row2_col7\" class=\"data row2 col7\" >13.371559</td>\n",
              "      <td id=\"T_cd5ee_row2_col8\" class=\"data row2 col8\" >0.279137</td>\n",
              "    </tr>\n",
              "    <tr>\n",
              "      <th id=\"T_cd5ee_level0_row3\" class=\"row_heading level0 row3\" >min</th>\n",
              "      <td id=\"T_cd5ee_row3_col0\" class=\"data row3 col0\" >1.000000</td>\n",
              "      <td id=\"T_cd5ee_row3_col1\" class=\"data row3 col1\" >1.000000</td>\n",
              "      <td id=\"T_cd5ee_row3_col2\" class=\"data row3 col2\" >20.000000</td>\n",
              "      <td id=\"T_cd5ee_row3_col3\" class=\"data row3 col3\" >1.000000</td>\n",
              "      <td id=\"T_cd5ee_row3_col4\" class=\"data row3 col4\" >1.000000</td>\n",
              "      <td id=\"T_cd5ee_row3_col5\" class=\"data row3 col5\" >0.000000</td>\n",
              "      <td id=\"T_cd5ee_row3_col6\" class=\"data row3 col6\" >0.000000</td>\n",
              "      <td id=\"T_cd5ee_row3_col7\" class=\"data row3 col7\" >39.000000</td>\n",
              "      <td id=\"T_cd5ee_row3_col8\" class=\"data row3 col8\" >0.000000</td>\n",
              "    </tr>\n",
              "    <tr>\n",
              "      <th id=\"T_cd5ee_level0_row4\" class=\"row_heading level0 row4\" >25%</th>\n",
              "      <td id=\"T_cd5ee_row4_col0\" class=\"data row4 col0\" >19669.750000</td>\n",
              "      <td id=\"T_cd5ee_row4_col1\" class=\"data row4 col1\" >1.000000</td>\n",
              "      <td id=\"T_cd5ee_row4_col2\" class=\"data row4 col2\" >29.000000</td>\n",
              "      <td id=\"T_cd5ee_row4_col3\" class=\"data row4 col3\" >3.000000</td>\n",
              "      <td id=\"T_cd5ee_row4_col4\" class=\"data row4 col4\" >3.000000</td>\n",
              "      <td id=\"T_cd5ee_row4_col5\" class=\"data row4 col5\" >0.000000</td>\n",
              "      <td id=\"T_cd5ee_row4_col6\" class=\"data row4 col6\" >0.000000</td>\n",
              "      <td id=\"T_cd5ee_row4_col7\" class=\"data row4 col7\" >51.000000</td>\n",
              "      <td id=\"T_cd5ee_row4_col8\" class=\"data row4 col8\" >0.000000</td>\n",
              "    </tr>\n",
              "    <tr>\n",
              "      <th id=\"T_cd5ee_level0_row5\" class=\"row_heading level0 row5\" >50%</th>\n",
              "      <td id=\"T_cd5ee_row5_col0\" class=\"data row5 col0\" >39225.500000</td>\n",
              "      <td id=\"T_cd5ee_row5_col1\" class=\"data row5 col1\" >1.000000</td>\n",
              "      <td id=\"T_cd5ee_row5_col2\" class=\"data row5 col2\" >33.000000</td>\n",
              "      <td id=\"T_cd5ee_row5_col3\" class=\"data row5 col3\" >3.000000</td>\n",
              "      <td id=\"T_cd5ee_row5_col4\" class=\"data row5 col4\" >5.000000</td>\n",
              "      <td id=\"T_cd5ee_row5_col5\" class=\"data row5 col5\" >0.000000</td>\n",
              "      <td id=\"T_cd5ee_row5_col6\" class=\"data row5 col6\" >0.000000</td>\n",
              "      <td id=\"T_cd5ee_row5_col7\" class=\"data row5 col7\" >60.000000</td>\n",
              "      <td id=\"T_cd5ee_row5_col8\" class=\"data row5 col8\" >0.000000</td>\n",
              "    </tr>\n",
              "    <tr>\n",
              "      <th id=\"T_cd5ee_level0_row6\" class=\"row_heading level0 row6\" >75%</th>\n",
              "      <td id=\"T_cd5ee_row6_col0\" class=\"data row6 col0\" >58730.500000</td>\n",
              "      <td id=\"T_cd5ee_row6_col1\" class=\"data row6 col1\" >1.000000</td>\n",
              "      <td id=\"T_cd5ee_row6_col2\" class=\"data row6 col2\" >39.000000</td>\n",
              "      <td id=\"T_cd5ee_row6_col3\" class=\"data row6 col3\" >4.000000</td>\n",
              "      <td id=\"T_cd5ee_row6_col4\" class=\"data row6 col4\" >7.000000</td>\n",
              "      <td id=\"T_cd5ee_row6_col5\" class=\"data row6 col5\" >1.000000</td>\n",
              "      <td id=\"T_cd5ee_row6_col6\" class=\"data row6 col6\" >0.000000</td>\n",
              "      <td id=\"T_cd5ee_row6_col7\" class=\"data row6 col7\" >76.000000</td>\n",
              "      <td id=\"T_cd5ee_row6_col8\" class=\"data row6 col8\" >0.000000</td>\n",
              "    </tr>\n",
              "    <tr>\n",
              "      <th id=\"T_cd5ee_level0_row7\" class=\"row_heading level0 row7\" >max</th>\n",
              "      <td id=\"T_cd5ee_row7_col0\" class=\"data row7 col0\" >78298.000000</td>\n",
              "      <td id=\"T_cd5ee_row7_col1\" class=\"data row7 col1\" >10.000000</td>\n",
              "      <td id=\"T_cd5ee_row7_col2\" class=\"data row7 col2\" >60.000000</td>\n",
              "      <td id=\"T_cd5ee_row7_col3\" class=\"data row7 col3\" >5.000000</td>\n",
              "      <td id=\"T_cd5ee_row7_col4\" class=\"data row7 col4\" >37.000000</td>\n",
              "      <td id=\"T_cd5ee_row7_col5\" class=\"data row7 col5\" >1.000000</td>\n",
              "      <td id=\"T_cd5ee_row7_col6\" class=\"data row7 col6\" >1.000000</td>\n",
              "      <td id=\"T_cd5ee_row7_col7\" class=\"data row7 col7\" >99.000000</td>\n",
              "      <td id=\"T_cd5ee_row7_col8\" class=\"data row7 col8\" >1.000000</td>\n",
              "    </tr>\n",
              "  </tbody>\n",
              "</table>\n"
            ]
          },
          "metadata": {},
          "execution_count": 15
        }
      ]
    },
    {
      "cell_type": "code",
      "source": [
        "# lets check descriptive statistics for categorical columns\n",
        "train.describe(include = 'object')"
      ],
      "metadata": {
        "colab": {
          "base_uri": "https://localhost:8080/",
          "height": 175
        },
        "id": "adu5VnFDzl1Q",
        "outputId": "4bcedcde-457c-44d0-b884-eaccf5a12940"
      },
      "execution_count": 16,
      "outputs": [
        {
          "output_type": "execute_result",
          "data": {
            "text/plain": [
              "               department    region   education gender recruitment_channel\n",
              "count               54808     54808       52399  54808               54808\n",
              "unique                  9        34           3      2                   3\n",
              "top     Sales & Marketing  region_2  Bachelor's      m               other\n",
              "freq                16840     12343       36669  38496               30446"
            ],
            "text/html": [
              "\n",
              "  <div id=\"df-db61a1e6-7c2a-440a-b704-65f4353217ad\">\n",
              "    <div class=\"colab-df-container\">\n",
              "      <div>\n",
              "<style scoped>\n",
              "    .dataframe tbody tr th:only-of-type {\n",
              "        vertical-align: middle;\n",
              "    }\n",
              "\n",
              "    .dataframe tbody tr th {\n",
              "        vertical-align: top;\n",
              "    }\n",
              "\n",
              "    .dataframe thead th {\n",
              "        text-align: right;\n",
              "    }\n",
              "</style>\n",
              "<table border=\"1\" class=\"dataframe\">\n",
              "  <thead>\n",
              "    <tr style=\"text-align: right;\">\n",
              "      <th></th>\n",
              "      <th>department</th>\n",
              "      <th>region</th>\n",
              "      <th>education</th>\n",
              "      <th>gender</th>\n",
              "      <th>recruitment_channel</th>\n",
              "    </tr>\n",
              "  </thead>\n",
              "  <tbody>\n",
              "    <tr>\n",
              "      <th>count</th>\n",
              "      <td>54808</td>\n",
              "      <td>54808</td>\n",
              "      <td>52399</td>\n",
              "      <td>54808</td>\n",
              "      <td>54808</td>\n",
              "    </tr>\n",
              "    <tr>\n",
              "      <th>unique</th>\n",
              "      <td>9</td>\n",
              "      <td>34</td>\n",
              "      <td>3</td>\n",
              "      <td>2</td>\n",
              "      <td>3</td>\n",
              "    </tr>\n",
              "    <tr>\n",
              "      <th>top</th>\n",
              "      <td>Sales &amp; Marketing</td>\n",
              "      <td>region_2</td>\n",
              "      <td>Bachelor's</td>\n",
              "      <td>m</td>\n",
              "      <td>other</td>\n",
              "    </tr>\n",
              "    <tr>\n",
              "      <th>freq</th>\n",
              "      <td>16840</td>\n",
              "      <td>12343</td>\n",
              "      <td>36669</td>\n",
              "      <td>38496</td>\n",
              "      <td>30446</td>\n",
              "    </tr>\n",
              "  </tbody>\n",
              "</table>\n",
              "</div>\n",
              "      <button class=\"colab-df-convert\" onclick=\"convertToInteractive('df-db61a1e6-7c2a-440a-b704-65f4353217ad')\"\n",
              "              title=\"Convert this dataframe to an interactive table.\"\n",
              "              style=\"display:none;\">\n",
              "        \n",
              "  <svg xmlns=\"http://www.w3.org/2000/svg\" height=\"24px\"viewBox=\"0 0 24 24\"\n",
              "       width=\"24px\">\n",
              "    <path d=\"M0 0h24v24H0V0z\" fill=\"none\"/>\n",
              "    <path d=\"M18.56 5.44l.94 2.06.94-2.06 2.06-.94-2.06-.94-.94-2.06-.94 2.06-2.06.94zm-11 1L8.5 8.5l.94-2.06 2.06-.94-2.06-.94L8.5 2.5l-.94 2.06-2.06.94zm10 10l.94 2.06.94-2.06 2.06-.94-2.06-.94-.94-2.06-.94 2.06-2.06.94z\"/><path d=\"M17.41 7.96l-1.37-1.37c-.4-.4-.92-.59-1.43-.59-.52 0-1.04.2-1.43.59L10.3 9.45l-7.72 7.72c-.78.78-.78 2.05 0 2.83L4 21.41c.39.39.9.59 1.41.59.51 0 1.02-.2 1.41-.59l7.78-7.78 2.81-2.81c.8-.78.8-2.07 0-2.86zM5.41 20L4 18.59l7.72-7.72 1.47 1.35L5.41 20z\"/>\n",
              "  </svg>\n",
              "      </button>\n",
              "      \n",
              "  <style>\n",
              "    .colab-df-container {\n",
              "      display:flex;\n",
              "      flex-wrap:wrap;\n",
              "      gap: 12px;\n",
              "    }\n",
              "\n",
              "    .colab-df-convert {\n",
              "      background-color: #E8F0FE;\n",
              "      border: none;\n",
              "      border-radius: 50%;\n",
              "      cursor: pointer;\n",
              "      display: none;\n",
              "      fill: #1967D2;\n",
              "      height: 32px;\n",
              "      padding: 0 0 0 0;\n",
              "      width: 32px;\n",
              "    }\n",
              "\n",
              "    .colab-df-convert:hover {\n",
              "      background-color: #E2EBFA;\n",
              "      box-shadow: 0px 1px 2px rgba(60, 64, 67, 0.3), 0px 1px 3px 1px rgba(60, 64, 67, 0.15);\n",
              "      fill: #174EA6;\n",
              "    }\n",
              "\n",
              "    [theme=dark] .colab-df-convert {\n",
              "      background-color: #3B4455;\n",
              "      fill: #D2E3FC;\n",
              "    }\n",
              "\n",
              "    [theme=dark] .colab-df-convert:hover {\n",
              "      background-color: #434B5C;\n",
              "      box-shadow: 0px 1px 3px 1px rgba(0, 0, 0, 0.15);\n",
              "      filter: drop-shadow(0px 1px 2px rgba(0, 0, 0, 0.3));\n",
              "      fill: #FFFFFF;\n",
              "    }\n",
              "  </style>\n",
              "\n",
              "      <script>\n",
              "        const buttonEl =\n",
              "          document.querySelector('#df-db61a1e6-7c2a-440a-b704-65f4353217ad button.colab-df-convert');\n",
              "        buttonEl.style.display =\n",
              "          google.colab.kernel.accessAllowed ? 'block' : 'none';\n",
              "\n",
              "        async function convertToInteractive(key) {\n",
              "          const element = document.querySelector('#df-db61a1e6-7c2a-440a-b704-65f4353217ad');\n",
              "          const dataTable =\n",
              "            await google.colab.kernel.invokeFunction('convertToInteractive',\n",
              "                                                     [key], {});\n",
              "          if (!dataTable) return;\n",
              "\n",
              "          const docLinkHtml = 'Like what you see? Visit the ' +\n",
              "            '<a target=\"_blank\" href=https://colab.research.google.com/notebooks/data_table.ipynb>data table notebook</a>'\n",
              "            + ' to learn more about interactive tables.';\n",
              "          element.innerHTML = '';\n",
              "          dataTable['output_type'] = 'display_data';\n",
              "          await google.colab.output.renderOutput(dataTable, element);\n",
              "          const docLink = document.createElement('div');\n",
              "          docLink.innerHTML = docLinkHtml;\n",
              "          element.appendChild(docLink);\n",
              "        }\n",
              "      </script>\n",
              "    </div>\n",
              "  </div>\n",
              "  "
            ]
          },
          "metadata": {},
          "execution_count": 16
        }
      ]
    },
    {
      "cell_type": "code",
      "source": [
        "train.isnull().sum()"
      ],
      "metadata": {
        "colab": {
          "base_uri": "https://localhost:8080/"
        },
        "id": "a6JNNxXDzl4f",
        "outputId": "4ab406dc-57e0-4a76-d556-433693c6bed2"
      },
      "execution_count": 17,
      "outputs": [
        {
          "output_type": "execute_result",
          "data": {
            "text/plain": [
              "employee_id                0\n",
              "department                 0\n",
              "region                     0\n",
              "education               2409\n",
              "gender                     0\n",
              "recruitment_channel        0\n",
              "no_of_trainings            0\n",
              "age                        0\n",
              "previous_year_rating    4124\n",
              "length_of_service          0\n",
              "KPIs_met >80%              0\n",
              "awards_won?                0\n",
              "avg_training_score         0\n",
              "is_promoted                0\n",
              "dtype: int64"
            ]
          },
          "metadata": {},
          "execution_count": 17
        }
      ]
    },
    {
      "cell_type": "code",
      "source": [
        "test.isnull().sum()"
      ],
      "metadata": {
        "colab": {
          "base_uri": "https://localhost:8080/"
        },
        "id": "A_EMdxF2zl7s",
        "outputId": "1583720d-dac1-480f-d536-abb7c4f6252d"
      },
      "execution_count": 18,
      "outputs": [
        {
          "output_type": "execute_result",
          "data": {
            "text/plain": [
              "employee_id                0\n",
              "department                 0\n",
              "region                     0\n",
              "education               1034\n",
              "gender                     0\n",
              "recruitment_channel        0\n",
              "no_of_trainings            0\n",
              "age                        0\n",
              "previous_year_rating    1812\n",
              "length_of_service          0\n",
              "KPIs_met >80%              0\n",
              "awards_won?                0\n",
              "avg_training_score         0\n",
              "dtype: int64"
            ]
          },
          "metadata": {},
          "execution_count": 18
        }
      ]
    },
    {
      "cell_type": "code",
      "source": [
        "import missingno as msno\n",
        "msno.bar(train, color='magenta')"
      ],
      "metadata": {
        "colab": {
          "base_uri": "https://localhost:8080/",
          "height": 699
        },
        "id": "81FACUsszl-j",
        "outputId": "12e05442-8cd2-4df0-f71f-488dc4e43356"
      },
      "execution_count": 19,
      "outputs": [
        {
          "output_type": "execute_result",
          "data": {
            "text/plain": [
              "<Axes: >"
            ]
          },
          "metadata": {},
          "execution_count": 19
        },
        {
          "output_type": "display_data",
          "data": {
            "text/plain": [
              "<Figure size 1800x720 with 3 Axes>"
            ],
            "image/png": "[encoded data removed]"
          },
          "metadata": {}
        }
      ]
    },
    {
      "cell_type": "code",
      "source": [
        "import missingno as msno\n",
        "msno.bar(test, color='crimson')"
      ],
      "metadata": {
        "colab": {
          "base_uri": "https://localhost:8080/",
          "height": 699
        },
        "id": "g0NW0ot1zmEc",
        "outputId": "999d6005-dc4c-495a-c390-f68b467db553"
      },
      "execution_count": 20,
      "outputs": [
        {
          "output_type": "execute_result",
          "data": {
            "text/plain": [
              "<Axes: >"
            ]
          },
          "metadata": {},
          "execution_count": 20
        },
        {
          "output_type": "display_data",
          "data": {
            "text/plain": [
              "<Figure size 1800x720 with 3 Axes>"
            ],
            "image/png": "[encoded data removed]"
          },
          "metadata": {}
        }
      ]
    },
    {
      "cell_type": "markdown",
      "source": [
        "## Treatment of Missing Values\n",
        "\n",
        "* Treatment of Missing Values is very Important Step in any Machine Learning Model Creation \n",
        "* Missing Values can be cause due to varios reasons such as the filling incomplete forms, values not available, etc\n",
        "* There are so many types of Missing Values such as \n",
        "     * Missing values at Random\n",
        "     * Missing values at not Random\n",
        "     * Missing Values at Completely Random\n",
        "* What can we do to Impute or Treat Missing values to make a Good Machine Learning Model\n",
        "    * We can use Business Logic to Impute the Missing Values\n",
        "    * We can use Statistical Methods such as Mean, Median, and Mode.\n",
        "    * We can use ML Techniques to impute the Missing values\n",
        "    * We can delete the Missing values, when the Missing values percentage is very High.\n",
        "    \n",
        "* When to use Mean, and when to use Median?\n",
        "    * We use Mean, when we do not have Outliers in the dataset for the Numerical Variables.\n",
        "    * We use Median, when we have outliers in the dataset for the Numerical Variables.\n",
        "    * We use Mode, When we have Categorical Variables."
      ],
      "metadata": {
        "id": "vpjnR_0T1SKi"
      }
    },
    {
      "cell_type": "markdown",
      "source": [
        "## Analysing Target Column"
      ],
      "metadata": {
        "id": "Y6TzWaRW3r2_"
      }
    },
    {
      "cell_type": "code",
      "source": [
        "target = train['is_promoted'].value_counts()"
      ],
      "metadata": {
        "id": "UXSStiNdzmHS"
      },
      "execution_count": 21,
      "outputs": []
    },
    {
      "cell_type": "code",
      "source": [
        "import matplotlib.pyplot as plt\n",
        "import seaborn as sns\n",
        "\n",
        "# Define the labels and sizes for the pie chart\n",
        "labels = ['Not Promoted', 'Promoted']\n",
        "sizes = [50140, 4668]\n",
        "\n",
        "# Define the colors for each category\n",
        "colors = ['#ffa600', '#003f5c']\n",
        "\n",
        "# Create the pie chart with a shadow and explosion effect\n",
        "fig1, ax1 = plt.subplots()\n",
        "ax1.pie(sizes, colors=colors, labels=labels, autopct='%1.1f%%', startangle=90, pctdistance=0.85, shadow=True, explode=(0.05, 0))\n",
        "\n",
        "# Add a circle in the middle to create a donut chart effect\n",
        "centre_circle = plt.Circle((0,0),0.70,fc='white')\n",
        "fig = plt.gcf()\n",
        "fig.gca().add_artist(centre_circle)\n",
        "\n",
        "# Add a title to the chart\n",
        "ax1.set_title(\"Target Distribution\", fontsize=16)\n",
        "\n",
        "# Set the font size for the labels\n",
        "plt.rcParams['font.size'] = 14\n",
        "\n",
        "# Remove the unnecessary border lines\n",
        "plt.rcParams['axes.spines.right'] = False\n",
        "plt.rcParams['axes.spines.top'] = False\n",
        "\n",
        "# Add a legend and adjust its position\n",
        "plt.legend(labels, loc=\"best\", fontsize=12)\n",
        "\n",
        "# Equal aspect ratio ensures that pie is drawn as a circle\n",
        "ax1.axis('equal')\n",
        "\n",
        "# Display the chart\n",
        "plt.show()\n"
      ],
      "metadata": {
        "colab": {
          "base_uri": "https://localhost:8080/",
          "height": 342
        },
        "id": "8HaqLwq1zmKh",
        "outputId": "088aa11c-d6fa-4710-9fea-d8317c8e8b2a"
      },
      "execution_count": 22,
      "outputs": [
        {
          "output_type": "display_data",
          "data": {
            "text/plain": [
              "<Figure size 1152x360 with 1 Axes>"
            ],
            "image/png": "[encoded data removed]"
          },
          "metadata": {}
        }
      ]
    },
    {
      "cell_type": "markdown",
      "source": [
        "## Treatment of missing values"
      ],
      "metadata": {
        "id": "MBXjErO9hzX5"
      }
    },
    {
      "cell_type": "code",
      "source": [
        "# lets impute the missing values in the Training Data\n",
        "\n",
        "train['education'] = train['education'].fillna(train['education'].mode()[0])\n",
        "train['previous_year_rating'] = train['previous_year_rating'].fillna(train['previous_year_rating'].mode()[0])\n",
        "\n",
        "# lets check whether the Null values are still present or not?\n",
        "print(\"Number of Missing Values Left in the Training Data :\", train.isnull().sum().sum())"
      ],
      "metadata": {
        "id": "XdOXGPmYzmNp",
        "colab": {
          "base_uri": "https://localhost:8080/"
        },
        "outputId": "c90e0a89-a969-403e-d2ad-56183c419603"
      },
      "execution_count": 23,
      "outputs": [
        {
          "output_type": "stream",
          "name": "stdout",
          "text": [
            "Number of Missing Values Left in the Training Data : 0\n"
          ]
        }
      ]
    },
    {
      "cell_type": "code",
      "source": [
        "# lets impute the missing values in the Testing Data\n",
        "\n",
        "test['education'] = test['education'].fillna(test['education'].mode()[0])\n",
        "test['previous_year_rating'] = test['previous_year_rating'].fillna(test['previous_year_rating'].mode()[0])\n",
        "\n",
        "# lets check whether the Null values are still present or not?\n",
        "print(\"Number of Missing Values Left in the Training Data :\", test.isnull().sum().sum())"
      ],
      "metadata": {
        "id": "ymISRYxozmQ1",
        "colab": {
          "base_uri": "https://localhost:8080/"
        },
        "outputId": "29f5944c-b8e4-49e4-ad4b-623d926cb478"
      },
      "execution_count": 24,
      "outputs": [
        {
          "output_type": "stream",
          "name": "stdout",
          "text": [
            "Number of Missing Values Left in the Training Data : 0\n"
          ]
        }
      ]
    },
    {
      "cell_type": "code",
      "source": [
        "train['education'].value_counts()"
      ],
      "metadata": {
        "colab": {
          "base_uri": "https://localhost:8080/"
        },
        "id": "JNDyGqyT8UoI",
        "outputId": "141ddd36-a639-4d15-fc90-561a4836e8cd"
      },
      "execution_count": 25,
      "outputs": [
        {
          "output_type": "execute_result",
          "data": {
            "text/plain": [
              "Bachelor's          39078\n",
              "Master's & above    14925\n",
              "Below Secondary       805\n",
              "Name: education, dtype: int64"
            ]
          },
          "metadata": {},
          "execution_count": 25
        }
      ]
    },
    {
      "cell_type": "markdown",
      "source": [
        "## Outlier Detection\n",
        "\n",
        "The presence of outliers in a classification or regression dataset can result in a poor fit and lower predictive modeling performance. Instead, automatic outlier detection methods can be used in the modeling pipeline and compared, just like other data preparation transforms that may be applied to the dataset."
      ],
      "metadata": {
        "id": "lXzaIGjHiZP7"
      }
    },
    {
      "cell_type": "code",
      "source": [
        "# Lets first analyze the Numberical Columns\n",
        "train.select_dtypes('number').head()"
      ],
      "metadata": {
        "id": "N_s_g9J2zmTl",
        "colab": {
          "base_uri": "https://localhost:8080/",
          "height": 206
        },
        "outputId": "cd758aa9-15fa-491d-a88e-34143dfce92c"
      },
      "execution_count": 26,
      "outputs": [
        {
          "output_type": "execute_result",
          "data": {
            "text/plain": [
              "   employee_id  no_of_trainings  age  previous_year_rating  length_of_service  \\\n",
              "0        65438                1   35                   5.0                  8   \n",
              "1        65141                1   30                   5.0                  4   \n",
              "2         7513                1   34                   3.0                  7   \n",
              "3         2542                2   39                   1.0                 10   \n",
              "4        48945                1   45                   3.0                  2   \n",
              "\n",
              "   KPIs_met >80%  awards_won?  avg_training_score  is_promoted  \n",
              "0              1            0                  49            0  \n",
              "1              0            0                  60            0  \n",
              "2              0            0                  50            0  \n",
              "3              0            0                  50            0  \n",
              "4              0            0                  73            0  "
            ],
            "text/html": [
              "\n",
              "  <div id=\"df-7d124c7d-5b5c-4ae2-89c9-f18842d0ba2a\">\n",
              "    <div class=\"colab-df-container\">\n",
              "      <div>\n",
              "<style scoped>\n",
              "    .dataframe tbody tr th:only-of-type {\n",
              "        vertical-align: middle;\n",
              "    }\n",
              "\n",
              "    .dataframe tbody tr th {\n",
              "        vertical-align: top;\n",
              "    }\n",
              "\n",
              "    .dataframe thead th {\n",
              "        text-align: right;\n",
              "    }\n",
              "</style>\n",
              "<table border=\"1\" class=\"dataframe\">\n",
              "  <thead>\n",
              "    <tr style=\"text-align: right;\">\n",
              "      <th></th>\n",
              "      <th>employee_id</th>\n",
              "      <th>no_of_trainings</th>\n",
              "      <th>age</th>\n",
              "      <th>previous_year_rating</th>\n",
              "      <th>length_of_service</th>\n",
              "      <th>KPIs_met &gt;80%</th>\n",
              "      <th>awards_won?</th>\n",
              "      <th>avg_training_score</th>\n",
              "      <th>is_promoted</th>\n",
              "    </tr>\n",
              "  </thead>\n",
              "  <tbody>\n",
              "    <tr>\n",
              "      <th>0</th>\n",
              "      <td>65438</td>\n",
              "      <td>1</td>\n",
              "      <td>35</td>\n",
              "      <td>5.0</td>\n",
              "      <td>8</td>\n",
              "      <td>1</td>\n",
              "      <td>0</td>\n",
              "      <td>49</td>\n",
              "      <td>0</td>\n",
              "    </tr>\n",
              "    <tr>\n",
              "      <th>1</th>\n",
              "      <td>65141</td>\n",
              "      <td>1</td>\n",
              "      <td>30</td>\n",
              "      <td>5.0</td>\n",
              "      <td>4</td>\n",
              "      <td>0</td>\n",
              "      <td>0</td>\n",
              "      <td>60</td>\n",
              "      <td>0</td>\n",
              "    </tr>\n",
              "    <tr>\n",
              "      <th>2</th>\n",
              "      <td>7513</td>\n",
              "      <td>1</td>\n",
              "      <td>34</td>\n",
              "      <td>3.0</td>\n",
              "      <td>7</td>\n",
              "      <td>0</td>\n",
              "      <td>0</td>\n",
              "      <td>50</td>\n",
              "      <td>0</td>\n",
              "    </tr>\n",
              "    <tr>\n",
              "      <th>3</th>\n",
              "      <td>2542</td>\n",
              "      <td>2</td>\n",
              "      <td>39</td>\n",
              "      <td>1.0</td>\n",
              "      <td>10</td>\n",
              "      <td>0</td>\n",
              "      <td>0</td>\n",
              "      <td>50</td>\n",
              "      <td>0</td>\n",
              "    </tr>\n",
              "    <tr>\n",
              "      <th>4</th>\n",
              "      <td>48945</td>\n",
              "      <td>1</td>\n",
              "      <td>45</td>\n",
              "      <td>3.0</td>\n",
              "      <td>2</td>\n",
              "      <td>0</td>\n",
              "      <td>0</td>\n",
              "      <td>73</td>\n",
              "      <td>0</td>\n",
              "    </tr>\n",
              "  </tbody>\n",
              "</table>\n",
              "</div>\n",
              "      <button class=\"colab-df-convert\" onclick=\"convertToInteractive('df-7d124c7d-5b5c-4ae2-89c9-f18842d0ba2a')\"\n",
              "              title=\"Convert this dataframe to an interactive table.\"\n",
              "              style=\"display:none;\">\n",
              "        \n",
              "  <svg xmlns=\"http://www.w3.org/2000/svg\" height=\"24px\"viewBox=\"0 0 24 24\"\n",
              "       width=\"24px\">\n",
              "    <path d=\"M0 0h24v24H0V0z\" fill=\"none\"/>\n",
              "    <path d=\"M18.56 5.44l.94 2.06.94-2.06 2.06-.94-2.06-.94-.94-2.06-.94 2.06-2.06.94zm-11 1L8.5 8.5l.94-2.06 2.06-.94-2.06-.94L8.5 2.5l-.94 2.06-2.06.94zm10 10l.94 2.06.94-2.06 2.06-.94-2.06-.94-.94-2.06-.94 2.06-2.06.94z\"/><path d=\"M17.41 7.96l-1.37-1.37c-.4-.4-.92-.59-1.43-.59-.52 0-1.04.2-1.43.59L10.3 9.45l-7.72 7.72c-.78.78-.78 2.05 0 2.83L4 21.41c.39.39.9.59 1.41.59.51 0 1.02-.2 1.41-.59l7.78-7.78 2.81-2.81c.8-.78.8-2.07 0-2.86zM5.41 20L4 18.59l7.72-7.72 1.47 1.35L5.41 20z\"/>\n",
              "  </svg>\n",
              "      </button>\n",
              "      \n",
              "  <style>\n",
              "    .colab-df-container {\n",
              "      display:flex;\n",
              "      flex-wrap:wrap;\n",
              "      gap: 12px;\n",
              "    }\n",
              "\n",
              "    .colab-df-convert {\n",
              "      background-color: #E8F0FE;\n",
              "      border: none;\n",
              "      border-radius: 50%;\n",
              "      cursor: pointer;\n",
              "      display: none;\n",
              "      fill: #1967D2;\n",
              "      height: 32px;\n",
              "      padding: 0 0 0 0;\n",
              "      width: 32px;\n",
              "    }\n",
              "\n",
              "    .colab-df-convert:hover {\n",
              "      background-color: #E2EBFA;\n",
              "      box-shadow: 0px 1px 2px rgba(60, 64, 67, 0.3), 0px 1px 3px 1px rgba(60, 64, 67, 0.15);\n",
              "      fill: #174EA6;\n",
              "    }\n",
              "\n",
              "    [theme=dark] .colab-df-convert {\n",
              "      background-color: #3B4455;\n",
              "      fill: #D2E3FC;\n",
              "    }\n",
              "\n",
              "    [theme=dark] .colab-df-convert:hover {\n",
              "      background-color: #434B5C;\n",
              "      box-shadow: 0px 1px 3px 1px rgba(0, 0, 0, 0.15);\n",
              "      filter: drop-shadow(0px 1px 2px rgba(0, 0, 0, 0.3));\n",
              "      fill: #FFFFFF;\n",
              "    }\n",
              "  </style>\n",
              "\n",
              "      <script>\n",
              "        const buttonEl =\n",
              "          document.querySelector('#df-7d124c7d-5b5c-4ae2-89c9-f18842d0ba2a button.colab-df-convert');\n",
              "        buttonEl.style.display =\n",
              "          google.colab.kernel.accessAllowed ? 'block' : 'none';\n",
              "\n",
              "        async function convertToInteractive(key) {\n",
              "          const element = document.querySelector('#df-7d124c7d-5b5c-4ae2-89c9-f18842d0ba2a');\n",
              "          const dataTable =\n",
              "            await google.colab.kernel.invokeFunction('convertToInteractive',\n",
              "                                                     [key], {});\n",
              "          if (!dataTable) return;\n",
              "\n",
              "          const docLinkHtml = 'Like what you see? Visit the ' +\n",
              "            '<a target=\"_blank\" href=https://colab.research.google.com/notebooks/data_table.ipynb>data table notebook</a>'\n",
              "            + ' to learn more about interactive tables.';\n",
              "          element.innerHTML = '';\n",
              "          dataTable['output_type'] = 'display_data';\n",
              "          await google.colab.output.renderOutput(dataTable, element);\n",
              "          const docLink = document.createElement('div');\n",
              "          docLink.innerHTML = docLinkHtml;\n",
              "          element.appendChild(docLink);\n",
              "        }\n",
              "      </script>\n",
              "    </div>\n",
              "  </div>\n",
              "  "
            ]
          },
          "metadata": {},
          "execution_count": 26
        }
      ]
    },
    {
      "cell_type": "code",
      "source": [
        "# lets check the boxplots for the columns where we suspect for outliers\n",
        "plt.rcParams['figure.figsize'] = (15, 5)\n",
        "plt.style.use('fivethirtyeight')\n",
        "\n",
        "# Box plot for average training score\n",
        "plt.subplot(1, 2, 1)\n",
        "sns.boxplot(train['avg_training_score'], color = 'red')\n",
        "plt.xlabel('Average Training Score', fontsize = 12)\n",
        "plt.ylabel('Range', fontsize = 12)\n",
        "\n",
        "# Box plot for length of service\n",
        "plt.subplot(1, 2, 2)\n",
        "sns.boxplot(train['length_of_service'], color = 'red')\n",
        "plt.xlabel('Length of Service', fontsize = 12)\n",
        "plt.ylabel('Range', fontsize = 12)\n",
        "\n",
        "plt.suptitle('Box Plot', fontsize = 20)\n",
        "plt.show()"
      ],
      "metadata": {
        "id": "vtwXIwgUzmWp",
        "colab": {
          "base_uri": "https://localhost:8080/",
          "height": 393
        },
        "outputId": "f5a61ab1-e5c3-44a8-f078-9b08d374a437"
      },
      "execution_count": 27,
      "outputs": [
        {
          "output_type": "display_data",
          "data": {
            "text/plain": [
              "<Figure size 1080x360 with 2 Axes>"
            ],
            "image/png": "[encoded data removed]"
          },
          "metadata": {}
        }
      ]
    },
    {
      "cell_type": "markdown",
      "source": [
        "From the above box plots we can see that we have outliers in our Length of Service column. Let's handle this outliers in the next step"
      ],
      "metadata": {
        "id": "r82qOjFsitxI"
      }
    },
    {
      "cell_type": "code",
      "source": [
        "train['education'].value_counts()"
      ],
      "metadata": {
        "colab": {
          "base_uri": "https://localhost:8080/"
        },
        "id": "0tM2IOc68h89",
        "outputId": "9d2d878f-e97b-489a-b54f-4a3c25fcb80b"
      },
      "execution_count": 28,
      "outputs": [
        {
          "output_type": "execute_result",
          "data": {
            "text/plain": [
              "Bachelor's          39078\n",
              "Master's & above    14925\n",
              "Below Secondary       805\n",
              "Name: education, dtype: int64"
            ]
          },
          "metadata": {},
          "execution_count": 28
        }
      ]
    },
    {
      "cell_type": "code",
      "source": [
        "train['length_of_service'].value_counts().sort_values()"
      ],
      "metadata": {
        "colab": {
          "base_uri": "https://localhost:8080/"
        },
        "id": "WiuAXbNV8kSO",
        "outputId": "61157edd-ac70-4780-cb29-70a3b5f810d5"
      },
      "execution_count": 29,
      "outputs": [
        {
          "output_type": "execute_result",
          "data": {
            "text/plain": [
              "37       1\n",
              "34       4\n",
              "33       9\n",
              "32      10\n",
              "30      12\n",
              "31      20\n",
              "29      30\n",
              "28      30\n",
              "27      36\n",
              "26      41\n",
              "25      51\n",
              "22      61\n",
              "23      65\n",
              "24      70\n",
              "21      78\n",
              "20     128\n",
              "19     329\n",
              "18     392\n",
              "17     432\n",
              "16     548\n",
              "14     549\n",
              "15     593\n",
              "13     687\n",
              "12     794\n",
              "11     916\n",
              "10    2193\n",
              "9     2629\n",
              "8     2883\n",
              "1     4547\n",
              "6     4734\n",
              "7     5551\n",
              "5     5832\n",
              "2     6684\n",
              "4     6836\n",
              "3     7033\n",
              "Name: length_of_service, dtype: int64"
            ]
          },
          "metadata": {},
          "execution_count": 29
        }
      ]
    },
    {
      "cell_type": "code",
      "source": [
        "# lets remove the outliers from the length of service column\n",
        "\n",
        "train = train[train['length_of_service'] <= 16]"
      ],
      "metadata": {
        "id": "syfxlTCgihr9"
      },
      "execution_count": 30,
      "outputs": []
    },
    {
      "cell_type": "code",
      "source": [
        "train['education'].value_counts()"
      ],
      "metadata": {
        "colab": {
          "base_uri": "https://localhost:8080/"
        },
        "id": "dbYm2GRf9H01",
        "outputId": "567d058c-c21c-4ce3-a49c-0606b25db734"
      },
      "execution_count": 31,
      "outputs": [
        {
          "output_type": "execute_result",
          "data": {
            "text/plain": [
              "Bachelor's          38194\n",
              "Master's & above    14010\n",
              "Below Secondary       805\n",
              "Name: education, dtype: int64"
            ]
          },
          "metadata": {},
          "execution_count": 31
        }
      ]
    },
    {
      "cell_type": "markdown",
      "source": [
        "## Univariate Analysis\n",
        "\n",
        "Univariate analysis is perhaps the simplest form of statistical analysis. Like other forms of statistics, it can be inferential or descriptive. The key fact is that only one variable is involved. Univariate analysis can yield misleading results in cases in which multivariate analysis is more appropriate.\n",
        "\n",
        "* This is an Essential step, to understand the variables present in the dataset one by one.\n",
        "* First, we will check the Univariate Analysis for Numerical Columns to check for Outliers by using Box plots.\n",
        "* Then, we will use Distribution plots to check the distribution of the Numerical Columns in the Dataset.\n",
        "* After that we will check the Univariate Analysis for Categorical Columns using Pie charts, and Count plots.\n",
        "* We Use Pie charts, when we have very few categories in the categorical column, and we use count plots we have more categorises in the dataset."
      ],
      "metadata": {
        "id": "nzLqgLeCi95U"
      }
    },
    {
      "cell_type": "code",
      "source": [
        "# lets plot pie chart for the columns where we have very few categories\n",
        "plt.rcParams['figure.figsize'] = (16,5)\n",
        "plt.style.use('fivethirtyeight')\n",
        "\n",
        "# plotting a pie chart to represent share of Previous year Rating of the Employees\n",
        "plt.subplot(1, 3, 1)\n",
        "labels = ['0','1']\n",
        "sizes = train['KPIs_met >80%'].value_counts()\n",
        "explode = [0, 0]    #explode parameter specifies how far each slice is separated from the center of the chart\n",
        "\n",
        "plt.pie(sizes, labels = labels, explode = explode, shadow = True, startangle = 90)\n",
        "plt.title('KPIs Met > 80%', fontsize = 20)\n",
        "\n",
        "# plotting a pie chart to represent share of Previous year Rating of the Employees\n",
        "plt.subplot(1, 3, 2)\n",
        "labels = ['1', '2', '3', '4', '5']\n",
        "sizes = train['previous_year_rating'].value_counts()\n",
        "explode = [0, 0, 0, 0, 0.1]\n",
        "\n",
        "plt.pie(sizes, labels = labels, explode = explode, shadow = True, startangle = 90)\n",
        "plt.title('Previous year Ratings', fontsize = 20)\n",
        "\n",
        "# plotting a pie chart to represent share of Previous year Rating of the Employees\n",
        "plt.subplot(1, 3, 3)\n",
        "labels = ['0', '1']\n",
        "sizes = train['awards_won?'].value_counts()\n",
        "explode = [0,0.1]\n",
        "\n",
        "plt.pie(sizes, labels = labels, explode = explode, shadow = True, startangle = 90)\n",
        "plt.title('Awards Won?', fontsize = 20)\n",
        "\n",
        "\n",
        "plt.legend()\n",
        "plt.show()"
      ],
      "metadata": {
        "colab": {
          "base_uri": "https://localhost:8080/",
          "height": 343
        },
        "id": "ZKC2yNvvi41y",
        "outputId": "a57cd317-5f47-4ac3-bfc3-de8701c5382b"
      },
      "execution_count": 32,
      "outputs": [
        {
          "output_type": "display_data",
          "data": {
            "text/plain": [
              "<Figure size 1152x360 with 3 Axes>"
            ],
            "image/png": "[encoded data removed]"
          },
          "metadata": {}
        }
      ]
    },
    {
      "cell_type": "code",
      "source": [
        "train['no_of_trainings'].value_counts()"
      ],
      "metadata": {
        "colab": {
          "base_uri": "https://localhost:8080/"
        },
        "id": "bTlTCReu23IG",
        "outputId": "5a910daa-2a17-4109-83bb-27220708b03c"
      },
      "execution_count": 33,
      "outputs": [
        {
          "output_type": "execute_result",
          "data": {
            "text/plain": [
              "1     42806\n",
              "2      7808\n",
              "3      1744\n",
              "4       459\n",
              "5       124\n",
              "6        42\n",
              "7        11\n",
              "8         5\n",
              "10        5\n",
              "9         5\n",
              "Name: no_of_trainings, dtype: int64"
            ]
          },
          "metadata": {},
          "execution_count": 33
        }
      ]
    },
    {
      "cell_type": "code",
      "source": [
        "# Get the counts for each category\n",
        "counts = train['no_of_trainings'].value_counts()\n",
        "\n",
        "# Set the style of the plot\n",
        "plt.style.use('seaborn')\n",
        "\n",
        "# Create a bar chart with custom colors\n",
        "plt.bar(counts.index, counts.values, color=['#1f77b4', '#ff7f0e', '#2ca02c', '#d62728', '#9467bd', '#8c564b', '#e377c2'])\n",
        "\n",
        "# Add labels and title with custom fonts and sizes\n",
        "plt.xlabel('Number of Trainings', fontsize=12, fontweight='bold')\n",
        "plt.ylabel('Count', fontsize=12, fontweight='bold')\n",
        "plt.title('Training Counts', fontsize=14, fontweight='bold')\n",
        "\n",
        "# Customize the tick labels\n",
        "plt.xticks(counts.index, fontsize=10)\n",
        "plt.yticks(fontsize=10)\n",
        "\n",
        "# Remove the top and right spines\n",
        "plt.gca().spines['top'].set_visible(False)\n",
        "plt.gca().spines['right'].set_visible(False)\n",
        "\n",
        "# Add grid lines and set the alpha level\n",
        "plt.grid(axis='y', alpha=0.5)\n",
        "\n",
        "# Show the plot\n",
        "plt.show()"
      ],
      "metadata": {
        "colab": {
          "base_uri": "https://localhost:8080/",
          "height": 457
        },
        "id": "wcVZWzUVi5vh",
        "outputId": "44c7cb7e-025b-41a6-dd8b-53c6b9612995"
      },
      "execution_count": 34,
      "outputs": [
        {
          "output_type": "stream",
          "name": "stderr",
          "text": [
            "<ipython-input-34-cbe564816bb7>:5: MatplotlibDeprecationWarning: The seaborn styles shipped by Matplotlib are deprecated since 3.6, as they no longer correspond to the styles shipped by seaborn. However, they will remain available as 'seaborn-v0_8-<style>'. Alternatively, directly use the seaborn API instead.\n",
            "  plt.style.use('seaborn')\n"
          ]
        },
        {
          "output_type": "display_data",
          "data": {
            "text/plain": [
              "<Figure size 576x396 with 1 Axes>"
            ],
            "image/png": "[encoded data removed]"
          },
          "metadata": {}
        }
      ]
    },
    {
      "cell_type": "code",
      "source": [
        "train['age'].value_counts()"
      ],
      "metadata": {
        "colab": {
          "base_uri": "https://localhost:8080/"
        },
        "id": "XqjqPcki6uxP",
        "outputId": "22ded8f0-c698-4b0d-842c-9585bc354a0d"
      },
      "execution_count": 35,
      "outputs": [
        {
          "output_type": "execute_result",
          "data": {
            "text/plain": [
              "30    3665\n",
              "31    3534\n",
              "32    3534\n",
              "29    3405\n",
              "33    3210\n",
              "28    3147\n",
              "34    3076\n",
              "27    2827\n",
              "35    2711\n",
              "36    2517\n",
              "37    2165\n",
              "26    2060\n",
              "38    1922\n",
              "39    1694\n",
              "40    1659\n",
              "25    1299\n",
              "41    1284\n",
              "42    1130\n",
              "43     956\n",
              "24     845\n",
              "44     796\n",
              "45     671\n",
              "46     555\n",
              "47     443\n",
              "23     428\n",
              "48     394\n",
              "50     350\n",
              "49     308\n",
              "51     275\n",
              "53     265\n",
              "52     247\n",
              "22     231\n",
              "54     222\n",
              "55     218\n",
              "56     177\n",
              "57     165\n",
              "60     143\n",
              "58     137\n",
              "59     133\n",
              "20     113\n",
              "21      98\n",
              "Name: age, dtype: int64"
            ]
          },
          "metadata": {},
          "execution_count": 35
        }
      ]
    },
    {
      "cell_type": "code",
      "source": [
        "# lets check the Age of the Employees\n",
        "\n",
        "plt.rcParams['figure.figsize'] = (8, 4)\n",
        "plt.hist(train['age'], color = 'black')\n",
        "plt.title('Distribution of Age among the Employees', fontsize = 15)\n",
        "plt.xlabel('Age of the Employees')\n",
        "plt.grid()\n",
        "plt.show()"
      ],
      "metadata": {
        "colab": {
          "base_uri": "https://localhost:8080/",
          "height": 312
        },
        "id": "Eshkgplx320Y",
        "outputId": "af9bf9c8-522f-4c76-e2d6-90b42b3cc31a"
      },
      "execution_count": 36,
      "outputs": [
        {
          "output_type": "display_data",
          "data": {
            "text/plain": [
              "<Figure size 576x288 with 1 Axes>"
            ],
            "image/png": "[encoded data removed]"
          },
          "metadata": {}
        }
      ]
    },
    {
      "cell_type": "code",
      "source": [
        "# lets check different Departments\n",
        "\n",
        "plt.rcParams['figure.figsize'] = (12, 6)\n",
        "sns.countplot(y = train['department'], palette = 'cividis', orient = 'v')\n",
        "plt.xlabel('')\n",
        "plt.ylabel('Department Name')\n",
        "plt.title('Distribution of Employees in Different Departments', fontsize = 15)\n",
        "plt.grid()\n",
        "\n",
        "plt.show()"
      ],
      "metadata": {
        "colab": {
          "base_uri": "https://localhost:8080/",
          "height": 415
        },
        "id": "UEVtG9re4sO5",
        "outputId": "91248610-8cca-4931-84a4-0e2b603f91b3"
      },
      "execution_count": 37,
      "outputs": [
        {
          "output_type": "display_data",
          "data": {
            "text/plain": [
              "<Figure size 864x432 with 1 Axes>"
            ],
            "image/png": "[encoded data removed]"
          },
          "metadata": {}
        }
      ]
    },
    {
      "cell_type": "markdown",
      "source": [
        "Company has maximum number of employees in the sales and marketing department"
      ],
      "metadata": {
        "id": "D59Tw21a47RA"
      }
    },
    {
      "cell_type": "code",
      "source": [
        "# lets check distribution of different Regions\n",
        "\n",
        "plt.rcParams['figure.figsize'] = (12,15)\n",
        "plt.style.use('fivethirtyeight')\n",
        "sns.countplot(y = train['region'], palette = 'inferno', orient = 'v')\n",
        "plt.xlabel('')\n",
        "plt.ylabel('Region')\n",
        "plt.title('Different Regions', fontsize = 15)\n",
        "plt.xticks(rotation = 90)\n",
        "plt.grid()\n",
        "plt.show()"
      ],
      "metadata": {
        "colab": {
          "base_uri": "https://localhost:8080/",
          "height": 958
        },
        "id": "JL_41Jj_42qr",
        "outputId": "87208ea6-4934-47d7-94bd-c936ca4a76fb"
      },
      "execution_count": 38,
      "outputs": [
        {
          "output_type": "display_data",
          "data": {
            "text/plain": [
              "<Figure size 864x1080 with 1 Axes>"
            ],
            "image/png": "[encoded data removed]"
          },
          "metadata": {}
        }
      ]
    },
    {
      "cell_type": "markdown",
      "source": [
        "region 2 has the maximum number of employees working there"
      ],
      "metadata": {
        "id": "HCL24p_a5JCj"
      }
    },
    {
      "cell_type": "code",
      "source": [
        "train['education'].unique()"
      ],
      "metadata": {
        "colab": {
          "base_uri": "https://localhost:8080/"
        },
        "id": "i-AWORwq5dle",
        "outputId": "17c2f29c-931c-490a-cb91-5ef24a991733"
      },
      "execution_count": 39,
      "outputs": [
        {
          "output_type": "execute_result",
          "data": {
            "text/plain": [
              "array([\"Master's & above\", \"Bachelor's\", 'Below Secondary'], dtype=object)"
            ]
          },
          "metadata": {},
          "execution_count": 39
        }
      ]
    },
    {
      "cell_type": "code",
      "source": [
        "# lets plot pie chart for the columns where we have very few categories\n",
        "plt.rcParams['figure.figsize'] = (16,5)\n",
        "\n",
        "# plotting a pie chart to represent share of Previous year Rating of the Employees\n",
        "plt.subplot(1, 3, 1)\n",
        "labels = train['education'].value_counts().index\n",
        "sizes = train['education'].value_counts()\n",
        "colors = plt.cm.copper(np.linspace(0, 1, 5))\n",
        "explode = [0, 0, 0.1]\n",
        "\n",
        "plt.pie(sizes, labels = labels, colors = colors, explode = explode, shadow = True, startangle = 90)\n",
        "plt.title('Education', fontsize = 20)\n",
        "\n",
        "# plotting a pie chart to represent share of Previous year Rating of the Employees\n",
        "plt.subplot(1, 3, 2)\n",
        "labels = train['gender'].value_counts().index\n",
        "sizes = train['gender'].value_counts()\n",
        "colors = plt.cm.copper(np.linspace(0, 1, 5))\n",
        "explode = [0, 0]\n",
        "\n",
        "plt.pie(sizes, labels = labels, colors = colors, explode = explode, shadow = True, startangle = 90)\n",
        "plt.title('Gender', fontsize = 20)\n",
        "\n",
        "# plotting a pie chart to represent share of Previous year Rating of the Employees\n",
        "plt.subplot(1, 3, 3)\n",
        "labels = train['recruitment_channel'].value_counts().index\n",
        "sizes = train['recruitment_channel'].value_counts()\n",
        "colors = plt.cm.copper(np.linspace(0, 1, 5))\n",
        "explode = [0,0,0.1]\n",
        "\n",
        "plt.pie(sizes, labels = labels, colors = colors, explode = explode, shadow = True, startangle = 90)\n",
        "plt.title('Recruitment Channel', fontsize = 20)\n",
        "\n",
        "plt.show()"
      ],
      "metadata": {
        "colab": {
          "base_uri": "https://localhost:8080/",
          "height": 343
        },
        "id": "z135NmLH5BQw",
        "outputId": "6499766c-81d1-48ed-8107-86b3428f68ee"
      },
      "execution_count": 41,
      "outputs": [
        {
          "output_type": "display_data",
          "data": {
            "text/plain": [
              "<Figure size 1152x360 with 3 Axes>"
            ],
            "image/png": "[encoded data removed]"
          },
          "metadata": {}
        }
      ]
    },
    {
      "cell_type": "markdown",
      "source": [
        "## Bivariate Analysis\n",
        "\n",
        "Bivariate analysis is one of the simplest forms of quantitative analysis. It involves the analysis of two variables, for the purpose of determining the empirical relationship between them. Bivariate analysis can be helpful in testing simple hypotheses of association.\n",
        "\n",
        "* Types of Bivariate Analysis\n",
        "    * Categorical vs Categorical \n",
        "    * Categorical vs Numerical\n",
        "    * Numerical vs Numerical\n",
        "    \n",
        "* First, we will perform Categorical vs Categorical Analysis using Stacked and Grouped Bar Charts with the help of crosstab function.\n",
        "* Second, we will perform Categorical vs Numerical Analysis using Bar Charts, Box plots, Strip plots, Swarm plots, Boxen plots, Violin Plots, etc\n",
        "* Atlast, we will perform Numerical vs Numerical Analysis using Scatter plots."
      ],
      "metadata": {
        "id": "qFf0Inym9nCi"
      }
    },
    {
      "cell_type": "code",
      "source": [
        "import warnings\n",
        "warnings.filterwarnings('ignore')\n",
        "\n",
        "plt.rcParams['figure.figsize'] = (15, 3)\n",
        "x = pd.crosstab(train['gender'], train['is_promoted'])\n",
        "colors = plt.cm.viridis(np.linspace(0, 1, 5))\n",
        "x.div(x.sum(1).astype(float), axis = 0).plot(kind = 'bar', stacked = False, color = colors) #stacked parameter is set to False to create a horizontal bar chart with bars side by side\n",
        "plt.title('Effect of Gender on Promotion', fontsize = 15)\n",
        "plt.xlabel('Gender')\n",
        "plt.show()"
      ],
      "metadata": {
        "colab": {
          "base_uri": "https://localhost:8080/",
          "height": 257
        },
        "id": "KK_bsZ3T5Yl4",
        "outputId": "1e30db01-4737-4674-cc49-d811fd4863af"
      },
      "execution_count": 57,
      "outputs": [
        {
          "output_type": "display_data",
          "data": {
            "text/plain": [
              "<Figure size 1080x216 with 1 Axes>"
            ],
            "image/png": "[encoded data removed]"
          },
          "metadata": {}
        }
      ]
    },
    {
      "cell_type": "code",
      "source": [
        "h = pd.crosstab(train['gender'], train['is_promoted'])\n",
        "h"
      ],
      "metadata": {
        "colab": {
          "base_uri": "https://localhost:8080/",
          "height": 143
        },
        "id": "czihxpcN9qGy",
        "outputId": "254f779e-2107-4282-a63a-ec4d29d25bb8"
      },
      "execution_count": 54,
      "outputs": [
        {
          "output_type": "execute_result",
          "data": {
            "text/plain": [
              "is_promoted      0     1\n",
              "gender                  \n",
              "f            14321  1428\n",
              "m            34141  3119"
            ],
            "text/html": [
              "\n",
              "  <div id=\"df-5cc08b40-676b-45a3-84e2-ecc740da5e69\">\n",
              "    <div class=\"colab-df-container\">\n",
              "      <div>\n",
              "<style scoped>\n",
              "    .dataframe tbody tr th:only-of-type {\n",
              "        vertical-align: middle;\n",
              "    }\n",
              "\n",
              "    .dataframe tbody tr th {\n",
              "        vertical-align: top;\n",
              "    }\n",
              "\n",
              "    .dataframe thead th {\n",
              "        text-align: right;\n",
              "    }\n",
              "</style>\n",
              "<table border=\"1\" class=\"dataframe\">\n",
              "  <thead>\n",
              "    <tr style=\"text-align: right;\">\n",
              "      <th>is_promoted</th>\n",
              "      <th>0</th>\n",
              "      <th>1</th>\n",
              "    </tr>\n",
              "    <tr>\n",
              "      <th>gender</th>\n",
              "      <th></th>\n",
              "      <th></th>\n",
              "    </tr>\n",
              "  </thead>\n",
              "  <tbody>\n",
              "    <tr>\n",
              "      <th>f</th>\n",
              "      <td>14321</td>\n",
              "      <td>1428</td>\n",
              "    </tr>\n",
              "    <tr>\n",
              "      <th>m</th>\n",
              "      <td>34141</td>\n",
              "      <td>3119</td>\n",
              "    </tr>\n",
              "  </tbody>\n",
              "</table>\n",
              "</div>\n",
              "      <button class=\"colab-df-convert\" onclick=\"convertToInteractive('df-5cc08b40-676b-45a3-84e2-ecc740da5e69')\"\n",
              "              title=\"Convert this dataframe to an interactive table.\"\n",
              "              style=\"display:none;\">\n",
              "        \n",
              "  <svg xmlns=\"http://www.w3.org/2000/svg\" height=\"24px\"viewBox=\"0 0 24 24\"\n",
              "       width=\"24px\">\n",
              "    <path d=\"M0 0h24v24H0V0z\" fill=\"none\"/>\n",
              "    <path d=\"M18.56 5.44l.94 2.06.94-2.06 2.06-.94-2.06-.94-.94-2.06-.94 2.06-2.06.94zm-11 1L8.5 8.5l.94-2.06 2.06-.94-2.06-.94L8.5 2.5l-.94 2.06-2.06.94zm10 10l.94 2.06.94-2.06 2.06-.94-2.06-.94-.94-2.06-.94 2.06-2.06.94z\"/><path d=\"M17.41 7.96l-1.37-1.37c-.4-.4-.92-.59-1.43-.59-.52 0-1.04.2-1.43.59L10.3 9.45l-7.72 7.72c-.78.78-.78 2.05 0 2.83L4 21.41c.39.39.9.59 1.41.59.51 0 1.02-.2 1.41-.59l7.78-7.78 2.81-2.81c.8-.78.8-2.07 0-2.86zM5.41 20L4 18.59l7.72-7.72 1.47 1.35L5.41 20z\"/>\n",
              "  </svg>\n",
              "      </button>\n",
              "      \n",
              "  <style>\n",
              "    .colab-df-container {\n",
              "      display:flex;\n",
              "      flex-wrap:wrap;\n",
              "      gap: 12px;\n",
              "    }\n",
              "\n",
              "    .colab-df-convert {\n",
              "      background-color: #E8F0FE;\n",
              "      border: none;\n",
              "      border-radius: 50%;\n",
              "      cursor: pointer;\n",
              "      display: none;\n",
              "      fill: #1967D2;\n",
              "      height: 32px;\n",
              "      padding: 0 0 0 0;\n",
              "      width: 32px;\n",
              "    }\n",
              "\n",
              "    .colab-df-convert:hover {\n",
              "      background-color: #E2EBFA;\n",
              "      box-shadow: 0px 1px 2px rgba(60, 64, 67, 0.3), 0px 1px 3px 1px rgba(60, 64, 67, 0.15);\n",
              "      fill: #174EA6;\n",
              "    }\n",
              "\n",
              "    [theme=dark] .colab-df-convert {\n",
              "      background-color: #3B4455;\n",
              "      fill: #D2E3FC;\n",
              "    }\n",
              "\n",
              "    [theme=dark] .colab-df-convert:hover {\n",
              "      background-color: #434B5C;\n",
              "      box-shadow: 0px 1px 3px 1px rgba(0, 0, 0, 0.15);\n",
              "      filter: drop-shadow(0px 1px 2px rgba(0, 0, 0, 0.3));\n",
              "      fill: #FFFFFF;\n",
              "    }\n",
              "  </style>\n",
              "\n",
              "      <script>\n",
              "        const buttonEl =\n",
              "          document.querySelector('#df-5cc08b40-676b-45a3-84e2-ecc740da5e69 button.colab-df-convert');\n",
              "        buttonEl.style.display =\n",
              "          google.colab.kernel.accessAllowed ? 'block' : 'none';\n",
              "\n",
              "        async function convertToInteractive(key) {\n",
              "          const element = document.querySelector('#df-5cc08b40-676b-45a3-84e2-ecc740da5e69');\n",
              "          const dataTable =\n",
              "            await google.colab.kernel.invokeFunction('convertToInteractive',\n",
              "                                                     [key], {});\n",
              "          if (!dataTable) return;\n",
              "\n",
              "          const docLinkHtml = 'Like what you see? Visit the ' +\n",
              "            '<a target=\"_blank\" href=https://colab.research.google.com/notebooks/data_table.ipynb>data table notebook</a>'\n",
              "            + ' to learn more about interactive tables.';\n",
              "          element.innerHTML = '';\n",
              "          dataTable['output_type'] = 'display_data';\n",
              "          await google.colab.output.renderOutput(dataTable, element);\n",
              "          const docLink = document.createElement('div');\n",
              "          docLink.innerHTML = docLinkHtml;\n",
              "          element.appendChild(docLink);\n",
              "        }\n",
              "      </script>\n",
              "    </div>\n",
              "  </div>\n",
              "  "
            ]
          },
          "metadata": {},
          "execution_count": 54
        }
      ]
    },
    {
      "cell_type": "code",
      "source": [
        "h.div(x.sum(1).astype(float), axis = 0)   #This normalizes the contingency table by dividing each row by the sum of its values. \n",
        "                                          #This converts the frequency counts into proportions that can be easily compared across categories\n",
        "                                          # i.e. 14321/(14321+1428) and 1428/(14321+1428)"
      ],
      "metadata": {
        "colab": {
          "base_uri": "https://localhost:8080/",
          "height": 143
        },
        "id": "y8SgS96aAMcx",
        "outputId": "3c2e7b72-1c80-4db2-d018-77e6ada02ee3"
      },
      "execution_count": 55,
      "outputs": [
        {
          "output_type": "execute_result",
          "data": {
            "text/plain": [
              "is_promoted         0         1\n",
              "gender                         \n",
              "f            0.909328  0.090672\n",
              "m            0.916291  0.083709"
            ],
            "text/html": [
              "\n",
              "  <div id=\"df-03c722e7-dc60-4d31-bb60-4eb00761a76f\">\n",
              "    <div class=\"colab-df-container\">\n",
              "      <div>\n",
              "<style scoped>\n",
              "    .dataframe tbody tr th:only-of-type {\n",
              "        vertical-align: middle;\n",
              "    }\n",
              "\n",
              "    .dataframe tbody tr th {\n",
              "        vertical-align: top;\n",
              "    }\n",
              "\n",
              "    .dataframe thead th {\n",
              "        text-align: right;\n",
              "    }\n",
              "</style>\n",
              "<table border=\"1\" class=\"dataframe\">\n",
              "  <thead>\n",
              "    <tr style=\"text-align: right;\">\n",
              "      <th>is_promoted</th>\n",
              "      <th>0</th>\n",
              "      <th>1</th>\n",
              "    </tr>\n",
              "    <tr>\n",
              "      <th>gender</th>\n",
              "      <th></th>\n",
              "      <th></th>\n",
              "    </tr>\n",
              "  </thead>\n",
              "  <tbody>\n",
              "    <tr>\n",
              "      <th>f</th>\n",
              "      <td>0.909328</td>\n",
              "      <td>0.090672</td>\n",
              "    </tr>\n",
              "    <tr>\n",
              "      <th>m</th>\n",
              "      <td>0.916291</td>\n",
              "      <td>0.083709</td>\n",
              "    </tr>\n",
              "  </tbody>\n",
              "</table>\n",
              "</div>\n",
              "      <button class=\"colab-df-convert\" onclick=\"convertToInteractive('df-03c722e7-dc60-4d31-bb60-4eb00761a76f')\"\n",
              "              title=\"Convert this dataframe to an interactive table.\"\n",
              "              style=\"display:none;\">\n",
              "        \n",
              "  <svg xmlns=\"http://www.w3.org/2000/svg\" height=\"24px\"viewBox=\"0 0 24 24\"\n",
              "       width=\"24px\">\n",
              "    <path d=\"M0 0h24v24H0V0z\" fill=\"none\"/>\n",
              "    <path d=\"M18.56 5.44l.94 2.06.94-2.06 2.06-.94-2.06-.94-.94-2.06-.94 2.06-2.06.94zm-11 1L8.5 8.5l.94-2.06 2.06-.94-2.06-.94L8.5 2.5l-.94 2.06-2.06.94zm10 10l.94 2.06.94-2.06 2.06-.94-2.06-.94-.94-2.06-.94 2.06-2.06.94z\"/><path d=\"M17.41 7.96l-1.37-1.37c-.4-.4-.92-.59-1.43-.59-.52 0-1.04.2-1.43.59L10.3 9.45l-7.72 7.72c-.78.78-.78 2.05 0 2.83L4 21.41c.39.39.9.59 1.41.59.51 0 1.02-.2 1.41-.59l7.78-7.78 2.81-2.81c.8-.78.8-2.07 0-2.86zM5.41 20L4 18.59l7.72-7.72 1.47 1.35L5.41 20z\"/>\n",
              "  </svg>\n",
              "      </button>\n",
              "      \n",
              "  <style>\n",
              "    .colab-df-container {\n",
              "      display:flex;\n",
              "      flex-wrap:wrap;\n",
              "      gap: 12px;\n",
              "    }\n",
              "\n",
              "    .colab-df-convert {\n",
              "      background-color: #E8F0FE;\n",
              "      border: none;\n",
              "      border-radius: 50%;\n",
              "      cursor: pointer;\n",
              "      display: none;\n",
              "      fill: #1967D2;\n",
              "      height: 32px;\n",
              "      padding: 0 0 0 0;\n",
              "      width: 32px;\n",
              "    }\n",
              "\n",
              "    .colab-df-convert:hover {\n",
              "      background-color: #E2EBFA;\n",
              "      box-shadow: 0px 1px 2px rgba(60, 64, 67, 0.3), 0px 1px 3px 1px rgba(60, 64, 67, 0.15);\n",
              "      fill: #174EA6;\n",
              "    }\n",
              "\n",
              "    [theme=dark] .colab-df-convert {\n",
              "      background-color: #3B4455;\n",
              "      fill: #D2E3FC;\n",
              "    }\n",
              "\n",
              "    [theme=dark] .colab-df-convert:hover {\n",
              "      background-color: #434B5C;\n",
              "      box-shadow: 0px 1px 3px 1px rgba(0, 0, 0, 0.15);\n",
              "      filter: drop-shadow(0px 1px 2px rgba(0, 0, 0, 0.3));\n",
              "      fill: #FFFFFF;\n",
              "    }\n",
              "  </style>\n",
              "\n",
              "      <script>\n",
              "        const buttonEl =\n",
              "          document.querySelector('#df-03c722e7-dc60-4d31-bb60-4eb00761a76f button.colab-df-convert');\n",
              "        buttonEl.style.display =\n",
              "          google.colab.kernel.accessAllowed ? 'block' : 'none';\n",
              "\n",
              "        async function convertToInteractive(key) {\n",
              "          const element = document.querySelector('#df-03c722e7-dc60-4d31-bb60-4eb00761a76f');\n",
              "          const dataTable =\n",
              "            await google.colab.kernel.invokeFunction('convertToInteractive',\n",
              "                                                     [key], {});\n",
              "          if (!dataTable) return;\n",
              "\n",
              "          const docLinkHtml = 'Like what you see? Visit the ' +\n",
              "            '<a target=\"_blank\" href=https://colab.research.google.com/notebooks/data_table.ipynb>data table notebook</a>'\n",
              "            + ' to learn more about interactive tables.';\n",
              "          element.innerHTML = '';\n",
              "          dataTable['output_type'] = 'display_data';\n",
              "          await google.colab.output.renderOutput(dataTable, element);\n",
              "          const docLink = document.createElement('div');\n",
              "          docLink.innerHTML = docLinkHtml;\n",
              "          element.appendChild(docLink);\n",
              "        }\n",
              "      </script>\n",
              "    </div>\n",
              "  </div>\n",
              "  "
            ]
          },
          "metadata": {},
          "execution_count": 55
        }
      ]
    },
    {
      "cell_type": "code",
      "source": [],
      "metadata": {
        "id": "gC2fbemQBCNL"
      },
      "execution_count": null,
      "outputs": []
    }
  ]
}