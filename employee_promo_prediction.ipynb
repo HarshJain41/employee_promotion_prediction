{
  "cells": [
    {
      "cell_type": "markdown",
      "metadata": {
        "id": "view-in-github",
        "colab_type": "text"
      },
      "source": [
        "<a href=\"https://colab.research.google.com/github/HarshJain41/employee_promotion_prediction/blob/main/employee_promo_prediction.ipynb\" target=\"_parent\"><img src=\"https://colab.research.google.com/assets/colab-badge.svg\" alt=\"Open In Colab\"/></a>"
      ]
    },
    {
      "cell_type": "markdown",
      "metadata": {
        "id": "5klLHeY8uujQ"
      },
      "source": [
        "## <center>Predict whether the Employee of an Organization should get Promotion or Not?</center>\n",
        "\n",
        "&nbsp;\n",
        "\n",
        "Your client is a large MNC and they have 9 broad verticals across the organisation. One of the problem your client is facing is around identifying the right people for promotion (only for manager position and below) and prepare them in time. Currently the process, they are following is:\n",
        "    * They first identify a set of employees based on recommendations/ past performance.\n",
        "    * Selected employees go through the separate training and evaluation program for each vertical. These programs are based on he required skill of each vertical\n",
        "    * At the end of the program, based on various factors such as training performance, an employee gets the promotion\n",
        "\n"
      ]
    },
    {
      "cell_type": "markdown",
      "metadata": {
        "id": "6dCBkGGNuujX"
      },
      "source": [
        "## Importing all the Required Libraries\n",
        "\n",
        "* We Import Numpy, Pandas, Matplot, and Seaborn for Data Analysis and Visualizations\n",
        "* We import ipywidgets, Sweetviz, ppscore for Exploratory Data Analysis\n",
        "* We Import Sklearn, Imblearn for Machine Learning Modelling"
      ]
    },
    {
      "cell_type": "code",
      "source": [
        "from google.colab import drive\n",
        "drive.mount('/content/drive')"
      ],
      "metadata": {
        "colab": {
          "base_uri": "https://localhost:8080/"
        },
        "id": "u06nD2nsu4iH",
        "outputId": "7d07aaff-7812-4d67-bf88-c2bc2c4fad16"
      },
      "execution_count": 74,
      "outputs": [
        {
          "output_type": "stream",
          "name": "stdout",
          "text": [
            "Drive already mounted at /content/drive; to attempt to forcibly remount, call drive.mount(\"/content/drive\", force_remount=True).\n"
          ]
        }
      ]
    },
    {
      "cell_type": "code",
      "execution_count": 75,
      "metadata": {
        "id": "C7NdZla4uujb"
      },
      "outputs": [],
      "source": [
        "# lets import all the required libraries\n",
        "\n",
        "# for mathematical operations\n",
        "import numpy as np\n",
        "# for dataframe operations\n",
        "import pandas as pd\n",
        "\n",
        "# for data visualizations\n",
        "import seaborn as sns\n",
        "import matplotlib.pyplot as plt\n",
        "\n",
        "# for machine learning\n",
        "import sklearn\n",
        "import imblearn\n",
        "\n",
        "# setting up the size of the figures\n",
        "plt.rcParams['figure.figsize'] = (16, 5)\n",
        "# setting up the style of the plot\n",
        "plt.style.use('fivethirtyeight')"
      ]
    },
    {
      "cell_type": "markdown",
      "metadata": {
        "id": "IMxhsK_Muujd"
      },
      "source": [
        "## Reading the Dataset\n",
        "\n",
        "* Here, we are having two datasets, i.e., Training and Testing Datasets\n",
        "* We will read both the datasets \n",
        "* Training Datasets is used to train the Machine learning Models\n",
        "* After learning the patterns from the Testing Datasets, We have to predict the Target Variable."
      ]
    },
    {
      "cell_type": "code",
      "execution_count": 76,
      "metadata": {
        "id": "4r1dje8auujd"
      },
      "outputs": [],
      "source": [
        "# reading the datasets\n",
        "\n",
        "train = pd.read_csv('/content/drive/MyDrive/Machine Learning/Employee_Promotion_Prediction/train (1).csv')\n",
        "test = pd.read_csv('/content/drive/MyDrive/Machine Learning/Employee_Promotion_Prediction/test (1).csv')"
      ]
    },
    {
      "cell_type": "markdown",
      "metadata": {
        "id": "n6tmQ6REuuje"
      },
      "source": [
        "## Examining the Data\n",
        "\n",
        "* This is an Important Step in Data Science and Machine Learning to ensure about the columns, and rows present.\n",
        "* First, we will check the shape of the dataset\n",
        "* Second, we will check the head, tail, and sample of the datasets\n",
        "* Third, we will check the Data Description\n",
        "* Then, we will check the Data Types of the columns present in the data.\n",
        "* Atlast, we will check the Target Class Balance"
      ]
    },
    {
      "cell_type": "code",
      "execution_count": 77,
      "metadata": {
        "colab": {
          "base_uri": "https://localhost:8080/"
        },
        "id": "uYzNoGnFuujf",
        "outputId": "c427af62-86df-457d-b653-11583736b8b0"
      },
      "outputs": [
        {
          "output_type": "stream",
          "name": "stdout",
          "text": [
            "Shape of the Training Data : (54808, 14)\n",
            "Shape of the Test Data : (23490, 13)\n"
          ]
        }
      ],
      "source": [
        "# lets check the shape of the train and test datasets\n",
        "print(\"Shape of the Training Data :\", train.shape)\n",
        "print(\"Shape of the Test Data :\", test.shape)"
      ]
    },
    {
      "cell_type": "code",
      "execution_count": 78,
      "metadata": {
        "colab": {
          "base_uri": "https://localhost:8080/"
        },
        "id": "9SyXRTuUuujg",
        "outputId": "232d5352-1400-4c3d-e7b7-459ba3bfb524"
      },
      "outputs": [
        {
          "output_type": "execute_result",
          "data": {
            "text/plain": [
              "Index(['employee_id', 'department', 'region', 'education', 'gender',\n",
              "       'recruitment_channel', 'no_of_trainings', 'age', 'previous_year_rating',\n",
              "       'length_of_service', 'KPIs_met >80%', 'awards_won?',\n",
              "       'avg_training_score', 'is_promoted'],\n",
              "      dtype='object')"
            ]
          },
          "metadata": {},
          "execution_count": 78
        }
      ],
      "source": [
        "# columns in Training Data\n",
        "train.columns"
      ]
    },
    {
      "cell_type": "code",
      "execution_count": 79,
      "metadata": {
        "colab": {
          "base_uri": "https://localhost:8080/"
        },
        "id": "Ryf4GQE4uujg",
        "outputId": "98c6234d-59bb-4c4b-9ad3-15b2f20818a7"
      },
      "outputs": [
        {
          "output_type": "execute_result",
          "data": {
            "text/plain": [
              "Index(['employee_id', 'department', 'region', 'education', 'gender',\n",
              "       'recruitment_channel', 'no_of_trainings', 'age', 'previous_year_rating',\n",
              "       'length_of_service', 'KPIs_met >80%', 'awards_won?',\n",
              "       'avg_training_score'],\n",
              "      dtype='object')"
            ]
          },
          "metadata": {},
          "execution_count": 79
        }
      ],
      "source": [
        "# columns in Testing Data\n",
        "test.columns"
      ]
    },
    {
      "cell_type": "code",
      "execution_count": 80,
      "metadata": {
        "colab": {
          "base_uri": "https://localhost:8080/",
          "height": 339
        },
        "id": "0M76kQWhuujh",
        "outputId": "e1c50c43-cfdc-43a1-fe1a-64f3be091ccd"
      },
      "outputs": [
        {
          "output_type": "execute_result",
          "data": {
            "text/plain": [
              "   employee_id         department     region         education gender  \\\n",
              "0        65438  Sales & Marketing   region_7  Master's & above      f   \n",
              "1        65141         Operations  region_22        Bachelor's      m   \n",
              "2         7513  Sales & Marketing  region_19        Bachelor's      m   \n",
              "3         2542  Sales & Marketing  region_23        Bachelor's      m   \n",
              "4        48945         Technology  region_26        Bachelor's      m   \n",
              "\n",
              "  recruitment_channel  no_of_trainings  age  previous_year_rating  \\\n",
              "0            sourcing                1   35                   5.0   \n",
              "1               other                1   30                   5.0   \n",
              "2            sourcing                1   34                   3.0   \n",
              "3               other                2   39                   1.0   \n",
              "4               other                1   45                   3.0   \n",
              "\n",
              "   length_of_service  KPIs_met >80%  awards_won?  avg_training_score  \\\n",
              "0                  8              1            0                  49   \n",
              "1                  4              0            0                  60   \n",
              "2                  7              0            0                  50   \n",
              "3                 10              0            0                  50   \n",
              "4                  2              0            0                  73   \n",
              "\n",
              "   is_promoted  \n",
              "0            0  \n",
              "1            0  \n",
              "2            0  \n",
              "3            0  \n",
              "4            0  "
            ],
            "text/html": [
              "\n",
              "  <div id=\"df-c122b9e1-e309-472c-82d4-fcc6201ad4a8\">\n",
              "    <div class=\"colab-df-container\">\n",
              "      <div>\n",
              "<style scoped>\n",
              "    .dataframe tbody tr th:only-of-type {\n",
              "        vertical-align: middle;\n",
              "    }\n",
              "\n",
              "    .dataframe tbody tr th {\n",
              "        vertical-align: top;\n",
              "    }\n",
              "\n",
              "    .dataframe thead th {\n",
              "        text-align: right;\n",
              "    }\n",
              "</style>\n",
              "<table border=\"1\" class=\"dataframe\">\n",
              "  <thead>\n",
              "    <tr style=\"text-align: right;\">\n",
              "      <th></th>\n",
              "      <th>employee_id</th>\n",
              "      <th>department</th>\n",
              "      <th>region</th>\n",
              "      <th>education</th>\n",
              "      <th>gender</th>\n",
              "      <th>recruitment_channel</th>\n",
              "      <th>no_of_trainings</th>\n",
              "      <th>age</th>\n",
              "      <th>previous_year_rating</th>\n",
              "      <th>length_of_service</th>\n",
              "      <th>KPIs_met &gt;80%</th>\n",
              "      <th>awards_won?</th>\n",
              "      <th>avg_training_score</th>\n",
              "      <th>is_promoted</th>\n",
              "    </tr>\n",
              "  </thead>\n",
              "  <tbody>\n",
              "    <tr>\n",
              "      <th>0</th>\n",
              "      <td>65438</td>\n",
              "      <td>Sales &amp; Marketing</td>\n",
              "      <td>region_7</td>\n",
              "      <td>Master's &amp; above</td>\n",
              "      <td>f</td>\n",
              "      <td>sourcing</td>\n",
              "      <td>1</td>\n",
              "      <td>35</td>\n",
              "      <td>5.0</td>\n",
              "      <td>8</td>\n",
              "      <td>1</td>\n",
              "      <td>0</td>\n",
              "      <td>49</td>\n",
              "      <td>0</td>\n",
              "    </tr>\n",
              "    <tr>\n",
              "      <th>1</th>\n",
              "      <td>65141</td>\n",
              "      <td>Operations</td>\n",
              "      <td>region_22</td>\n",
              "      <td>Bachelor's</td>\n",
              "      <td>m</td>\n",
              "      <td>other</td>\n",
              "      <td>1</td>\n",
              "      <td>30</td>\n",
              "      <td>5.0</td>\n",
              "      <td>4</td>\n",
              "      <td>0</td>\n",
              "      <td>0</td>\n",
              "      <td>60</td>\n",
              "      <td>0</td>\n",
              "    </tr>\n",
              "    <tr>\n",
              "      <th>2</th>\n",
              "      <td>7513</td>\n",
              "      <td>Sales &amp; Marketing</td>\n",
              "      <td>region_19</td>\n",
              "      <td>Bachelor's</td>\n",
              "      <td>m</td>\n",
              "      <td>sourcing</td>\n",
              "      <td>1</td>\n",
              "      <td>34</td>\n",
              "      <td>3.0</td>\n",
              "      <td>7</td>\n",
              "      <td>0</td>\n",
              "      <td>0</td>\n",
              "      <td>50</td>\n",
              "      <td>0</td>\n",
              "    </tr>\n",
              "    <tr>\n",
              "      <th>3</th>\n",
              "      <td>2542</td>\n",
              "      <td>Sales &amp; Marketing</td>\n",
              "      <td>region_23</td>\n",
              "      <td>Bachelor's</td>\n",
              "      <td>m</td>\n",
              "      <td>other</td>\n",
              "      <td>2</td>\n",
              "      <td>39</td>\n",
              "      <td>1.0</td>\n",
              "      <td>10</td>\n",
              "      <td>0</td>\n",
              "      <td>0</td>\n",
              "      <td>50</td>\n",
              "      <td>0</td>\n",
              "    </tr>\n",
              "    <tr>\n",
              "      <th>4</th>\n",
              "      <td>48945</td>\n",
              "      <td>Technology</td>\n",
              "      <td>region_26</td>\n",
              "      <td>Bachelor's</td>\n",
              "      <td>m</td>\n",
              "      <td>other</td>\n",
              "      <td>1</td>\n",
              "      <td>45</td>\n",
              "      <td>3.0</td>\n",
              "      <td>2</td>\n",
              "      <td>0</td>\n",
              "      <td>0</td>\n",
              "      <td>73</td>\n",
              "      <td>0</td>\n",
              "    </tr>\n",
              "  </tbody>\n",
              "</table>\n",
              "</div>\n",
              "      <button class=\"colab-df-convert\" onclick=\"convertToInteractive('df-c122b9e1-e309-472c-82d4-fcc6201ad4a8')\"\n",
              "              title=\"Convert this dataframe to an interactive table.\"\n",
              "              style=\"display:none;\">\n",
              "        \n",
              "  <svg xmlns=\"http://www.w3.org/2000/svg\" height=\"24px\"viewBox=\"0 0 24 24\"\n",
              "       width=\"24px\">\n",
              "    <path d=\"M0 0h24v24H0V0z\" fill=\"none\"/>\n",
              "    <path d=\"M18.56 5.44l.94 2.06.94-2.06 2.06-.94-2.06-.94-.94-2.06-.94 2.06-2.06.94zm-11 1L8.5 8.5l.94-2.06 2.06-.94-2.06-.94L8.5 2.5l-.94 2.06-2.06.94zm10 10l.94 2.06.94-2.06 2.06-.94-2.06-.94-.94-2.06-.94 2.06-2.06.94z\"/><path d=\"M17.41 7.96l-1.37-1.37c-.4-.4-.92-.59-1.43-.59-.52 0-1.04.2-1.43.59L10.3 9.45l-7.72 7.72c-.78.78-.78 2.05 0 2.83L4 21.41c.39.39.9.59 1.41.59.51 0 1.02-.2 1.41-.59l7.78-7.78 2.81-2.81c.8-.78.8-2.07 0-2.86zM5.41 20L4 18.59l7.72-7.72 1.47 1.35L5.41 20z\"/>\n",
              "  </svg>\n",
              "      </button>\n",
              "      \n",
              "  <style>\n",
              "    .colab-df-container {\n",
              "      display:flex;\n",
              "      flex-wrap:wrap;\n",
              "      gap: 12px;\n",
              "    }\n",
              "\n",
              "    .colab-df-convert {\n",
              "      background-color: #E8F0FE;\n",
              "      border: none;\n",
              "      border-radius: 50%;\n",
              "      cursor: pointer;\n",
              "      display: none;\n",
              "      fill: #1967D2;\n",
              "      height: 32px;\n",
              "      padding: 0 0 0 0;\n",
              "      width: 32px;\n",
              "    }\n",
              "\n",
              "    .colab-df-convert:hover {\n",
              "      background-color: #E2EBFA;\n",
              "      box-shadow: 0px 1px 2px rgba(60, 64, 67, 0.3), 0px 1px 3px 1px rgba(60, 64, 67, 0.15);\n",
              "      fill: #174EA6;\n",
              "    }\n",
              "\n",
              "    [theme=dark] .colab-df-convert {\n",
              "      background-color: #3B4455;\n",
              "      fill: #D2E3FC;\n",
              "    }\n",
              "\n",
              "    [theme=dark] .colab-df-convert:hover {\n",
              "      background-color: #434B5C;\n",
              "      box-shadow: 0px 1px 3px 1px rgba(0, 0, 0, 0.15);\n",
              "      filter: drop-shadow(0px 1px 2px rgba(0, 0, 0, 0.3));\n",
              "      fill: #FFFFFF;\n",
              "    }\n",
              "  </style>\n",
              "\n",
              "      <script>\n",
              "        const buttonEl =\n",
              "          document.querySelector('#df-c122b9e1-e309-472c-82d4-fcc6201ad4a8 button.colab-df-convert');\n",
              "        buttonEl.style.display =\n",
              "          google.colab.kernel.accessAllowed ? 'block' : 'none';\n",
              "\n",
              "        async function convertToInteractive(key) {\n",
              "          const element = document.querySelector('#df-c122b9e1-e309-472c-82d4-fcc6201ad4a8');\n",
              "          const dataTable =\n",
              "            await google.colab.kernel.invokeFunction('convertToInteractive',\n",
              "                                                     [key], {});\n",
              "          if (!dataTable) return;\n",
              "\n",
              "          const docLinkHtml = 'Like what you see? Visit the ' +\n",
              "            '<a target=\"_blank\" href=https://colab.research.google.com/notebooks/data_table.ipynb>data table notebook</a>'\n",
              "            + ' to learn more about interactive tables.';\n",
              "          element.innerHTML = '';\n",
              "          dataTable['output_type'] = 'display_data';\n",
              "          await google.colab.output.renderOutput(dataTable, element);\n",
              "          const docLink = document.createElement('div');\n",
              "          docLink.innerHTML = docLinkHtml;\n",
              "          element.appendChild(docLink);\n",
              "        }\n",
              "      </script>\n",
              "    </div>\n",
              "  </div>\n",
              "  "
            ]
          },
          "metadata": {},
          "execution_count": 80
        }
      ],
      "source": [
        "# lets check the head of the dataset\n",
        "train.head()"
      ]
    },
    {
      "cell_type": "code",
      "execution_count": 81,
      "metadata": {
        "colab": {
          "base_uri": "https://localhost:8080/",
          "height": 285
        },
        "id": "ePt_gvXruuji",
        "outputId": "f1951082-57d9-40b5-8907-566bd0d37f5b"
      },
      "outputs": [
        {
          "output_type": "execute_result",
          "data": {
            "text/plain": [
              "   employee_id         department     region   education gender  \\\n",
              "0         8724         Technology  region_26  Bachelor's      m   \n",
              "1        74430                 HR   region_4  Bachelor's      f   \n",
              "2        72255  Sales & Marketing  region_13  Bachelor's      m   \n",
              "3        38562        Procurement   region_2  Bachelor's      f   \n",
              "4        64486            Finance  region_29  Bachelor's      m   \n",
              "\n",
              "  recruitment_channel  no_of_trainings  age  previous_year_rating  \\\n",
              "0            sourcing                1   24                   NaN   \n",
              "1               other                1   31                   3.0   \n",
              "2               other                1   31                   1.0   \n",
              "3               other                3   31                   2.0   \n",
              "4            sourcing                1   30                   4.0   \n",
              "\n",
              "   length_of_service  KPIs_met >80%  awards_won?  avg_training_score  \n",
              "0                  1              1            0                  77  \n",
              "1                  5              0            0                  51  \n",
              "2                  4              0            0                  47  \n",
              "3                  9              0            0                  65  \n",
              "4                  7              0            0                  61  "
            ],
            "text/html": [
              "\n",
              "  <div id=\"df-9177cf51-fde6-4224-ab90-1b705cd185c6\">\n",
              "    <div class=\"colab-df-container\">\n",
              "      <div>\n",
              "<style scoped>\n",
              "    .dataframe tbody tr th:only-of-type {\n",
              "        vertical-align: middle;\n",
              "    }\n",
              "\n",
              "    .dataframe tbody tr th {\n",
              "        vertical-align: top;\n",
              "    }\n",
              "\n",
              "    .dataframe thead th {\n",
              "        text-align: right;\n",
              "    }\n",
              "</style>\n",
              "<table border=\"1\" class=\"dataframe\">\n",
              "  <thead>\n",
              "    <tr style=\"text-align: right;\">\n",
              "      <th></th>\n",
              "      <th>employee_id</th>\n",
              "      <th>department</th>\n",
              "      <th>region</th>\n",
              "      <th>education</th>\n",
              "      <th>gender</th>\n",
              "      <th>recruitment_channel</th>\n",
              "      <th>no_of_trainings</th>\n",
              "      <th>age</th>\n",
              "      <th>previous_year_rating</th>\n",
              "      <th>length_of_service</th>\n",
              "      <th>KPIs_met &gt;80%</th>\n",
              "      <th>awards_won?</th>\n",
              "      <th>avg_training_score</th>\n",
              "    </tr>\n",
              "  </thead>\n",
              "  <tbody>\n",
              "    <tr>\n",
              "      <th>0</th>\n",
              "      <td>8724</td>\n",
              "      <td>Technology</td>\n",
              "      <td>region_26</td>\n",
              "      <td>Bachelor's</td>\n",
              "      <td>m</td>\n",
              "      <td>sourcing</td>\n",
              "      <td>1</td>\n",
              "      <td>24</td>\n",
              "      <td>NaN</td>\n",
              "      <td>1</td>\n",
              "      <td>1</td>\n",
              "      <td>0</td>\n",
              "      <td>77</td>\n",
              "    </tr>\n",
              "    <tr>\n",
              "      <th>1</th>\n",
              "      <td>74430</td>\n",
              "      <td>HR</td>\n",
              "      <td>region_4</td>\n",
              "      <td>Bachelor's</td>\n",
              "      <td>f</td>\n",
              "      <td>other</td>\n",
              "      <td>1</td>\n",
              "      <td>31</td>\n",
              "      <td>3.0</td>\n",
              "      <td>5</td>\n",
              "      <td>0</td>\n",
              "      <td>0</td>\n",
              "      <td>51</td>\n",
              "    </tr>\n",
              "    <tr>\n",
              "      <th>2</th>\n",
              "      <td>72255</td>\n",
              "      <td>Sales &amp; Marketing</td>\n",
              "      <td>region_13</td>\n",
              "      <td>Bachelor's</td>\n",
              "      <td>m</td>\n",
              "      <td>other</td>\n",
              "      <td>1</td>\n",
              "      <td>31</td>\n",
              "      <td>1.0</td>\n",
              "      <td>4</td>\n",
              "      <td>0</td>\n",
              "      <td>0</td>\n",
              "      <td>47</td>\n",
              "    </tr>\n",
              "    <tr>\n",
              "      <th>3</th>\n",
              "      <td>38562</td>\n",
              "      <td>Procurement</td>\n",
              "      <td>region_2</td>\n",
              "      <td>Bachelor's</td>\n",
              "      <td>f</td>\n",
              "      <td>other</td>\n",
              "      <td>3</td>\n",
              "      <td>31</td>\n",
              "      <td>2.0</td>\n",
              "      <td>9</td>\n",
              "      <td>0</td>\n",
              "      <td>0</td>\n",
              "      <td>65</td>\n",
              "    </tr>\n",
              "    <tr>\n",
              "      <th>4</th>\n",
              "      <td>64486</td>\n",
              "      <td>Finance</td>\n",
              "      <td>region_29</td>\n",
              "      <td>Bachelor's</td>\n",
              "      <td>m</td>\n",
              "      <td>sourcing</td>\n",
              "      <td>1</td>\n",
              "      <td>30</td>\n",
              "      <td>4.0</td>\n",
              "      <td>7</td>\n",
              "      <td>0</td>\n",
              "      <td>0</td>\n",
              "      <td>61</td>\n",
              "    </tr>\n",
              "  </tbody>\n",
              "</table>\n",
              "</div>\n",
              "      <button class=\"colab-df-convert\" onclick=\"convertToInteractive('df-9177cf51-fde6-4224-ab90-1b705cd185c6')\"\n",
              "              title=\"Convert this dataframe to an interactive table.\"\n",
              "              style=\"display:none;\">\n",
              "        \n",
              "  <svg xmlns=\"http://www.w3.org/2000/svg\" height=\"24px\"viewBox=\"0 0 24 24\"\n",
              "       width=\"24px\">\n",
              "    <path d=\"M0 0h24v24H0V0z\" fill=\"none\"/>\n",
              "    <path d=\"M18.56 5.44l.94 2.06.94-2.06 2.06-.94-2.06-.94-.94-2.06-.94 2.06-2.06.94zm-11 1L8.5 8.5l.94-2.06 2.06-.94-2.06-.94L8.5 2.5l-.94 2.06-2.06.94zm10 10l.94 2.06.94-2.06 2.06-.94-2.06-.94-.94-2.06-.94 2.06-2.06.94z\"/><path d=\"M17.41 7.96l-1.37-1.37c-.4-.4-.92-.59-1.43-.59-.52 0-1.04.2-1.43.59L10.3 9.45l-7.72 7.72c-.78.78-.78 2.05 0 2.83L4 21.41c.39.39.9.59 1.41.59.51 0 1.02-.2 1.41-.59l7.78-7.78 2.81-2.81c.8-.78.8-2.07 0-2.86zM5.41 20L4 18.59l7.72-7.72 1.47 1.35L5.41 20z\"/>\n",
              "  </svg>\n",
              "      </button>\n",
              "      \n",
              "  <style>\n",
              "    .colab-df-container {\n",
              "      display:flex;\n",
              "      flex-wrap:wrap;\n",
              "      gap: 12px;\n",
              "    }\n",
              "\n",
              "    .colab-df-convert {\n",
              "      background-color: #E8F0FE;\n",
              "      border: none;\n",
              "      border-radius: 50%;\n",
              "      cursor: pointer;\n",
              "      display: none;\n",
              "      fill: #1967D2;\n",
              "      height: 32px;\n",
              "      padding: 0 0 0 0;\n",
              "      width: 32px;\n",
              "    }\n",
              "\n",
              "    .colab-df-convert:hover {\n",
              "      background-color: #E2EBFA;\n",
              "      box-shadow: 0px 1px 2px rgba(60, 64, 67, 0.3), 0px 1px 3px 1px rgba(60, 64, 67, 0.15);\n",
              "      fill: #174EA6;\n",
              "    }\n",
              "\n",
              "    [theme=dark] .colab-df-convert {\n",
              "      background-color: #3B4455;\n",
              "      fill: #D2E3FC;\n",
              "    }\n",
              "\n",
              "    [theme=dark] .colab-df-convert:hover {\n",
              "      background-color: #434B5C;\n",
              "      box-shadow: 0px 1px 3px 1px rgba(0, 0, 0, 0.15);\n",
              "      filter: drop-shadow(0px 1px 2px rgba(0, 0, 0, 0.3));\n",
              "      fill: #FFFFFF;\n",
              "    }\n",
              "  </style>\n",
              "\n",
              "      <script>\n",
              "        const buttonEl =\n",
              "          document.querySelector('#df-9177cf51-fde6-4224-ab90-1b705cd185c6 button.colab-df-convert');\n",
              "        buttonEl.style.display =\n",
              "          google.colab.kernel.accessAllowed ? 'block' : 'none';\n",
              "\n",
              "        async function convertToInteractive(key) {\n",
              "          const element = document.querySelector('#df-9177cf51-fde6-4224-ab90-1b705cd185c6');\n",
              "          const dataTable =\n",
              "            await google.colab.kernel.invokeFunction('convertToInteractive',\n",
              "                                                     [key], {});\n",
              "          if (!dataTable) return;\n",
              "\n",
              "          const docLinkHtml = 'Like what you see? Visit the ' +\n",
              "            '<a target=\"_blank\" href=https://colab.research.google.com/notebooks/data_table.ipynb>data table notebook</a>'\n",
              "            + ' to learn more about interactive tables.';\n",
              "          element.innerHTML = '';\n",
              "          dataTable['output_type'] = 'display_data';\n",
              "          await google.colab.output.renderOutput(dataTable, element);\n",
              "          const docLink = document.createElement('div');\n",
              "          docLink.innerHTML = docLinkHtml;\n",
              "          element.appendChild(docLink);\n",
              "        }\n",
              "      </script>\n",
              "    </div>\n",
              "  </div>\n",
              "  "
            ]
          },
          "metadata": {},
          "execution_count": 81
        }
      ],
      "source": [
        "# lets check the head of the test data\n",
        "test.head()"
      ]
    },
    {
      "cell_type": "code",
      "execution_count": 82,
      "metadata": {
        "colab": {
          "base_uri": "https://localhost:8080/",
          "height": 322
        },
        "id": "EP0kYW69uuji",
        "outputId": "0cb795e4-6a07-4965-db93-c50f080b6306"
      },
      "outputs": [
        {
          "output_type": "execute_result",
          "data": {
            "text/plain": [
              "       employee_id         department     region         education gender  \\\n",
              "54803         3030         Technology  region_14        Bachelor's      m   \n",
              "54804        74592         Operations  region_27  Master's & above      f   \n",
              "54805        13918          Analytics   region_1        Bachelor's      m   \n",
              "54806        13614  Sales & Marketing   region_9               NaN      m   \n",
              "54807        51526                 HR  region_22        Bachelor's      m   \n",
              "\n",
              "      recruitment_channel  no_of_trainings  age  previous_year_rating  \\\n",
              "54803            sourcing                1   48                   3.0   \n",
              "54804               other                1   37                   2.0   \n",
              "54805               other                1   27                   5.0   \n",
              "54806            sourcing                1   29                   1.0   \n",
              "54807               other                1   27                   1.0   \n",
              "\n",
              "       length_of_service  KPIs_met >80%  awards_won?  avg_training_score  \\\n",
              "54803                 17              0            0                  78   \n",
              "54804                  6              0            0                  56   \n",
              "54805                  3              1            0                  79   \n",
              "54806                  2              0            0                  45   \n",
              "54807                  5              0            0                  49   \n",
              "\n",
              "       is_promoted  \n",
              "54803            0  \n",
              "54804            0  \n",
              "54805            0  \n",
              "54806            0  \n",
              "54807            0  "
            ],
            "text/html": [
              "\n",
              "  <div id=\"df-b9339528-2251-4561-8c26-8ebee8360555\">\n",
              "    <div class=\"colab-df-container\">\n",
              "      <div>\n",
              "<style scoped>\n",
              "    .dataframe tbody tr th:only-of-type {\n",
              "        vertical-align: middle;\n",
              "    }\n",
              "\n",
              "    .dataframe tbody tr th {\n",
              "        vertical-align: top;\n",
              "    }\n",
              "\n",
              "    .dataframe thead th {\n",
              "        text-align: right;\n",
              "    }\n",
              "</style>\n",
              "<table border=\"1\" class=\"dataframe\">\n",
              "  <thead>\n",
              "    <tr style=\"text-align: right;\">\n",
              "      <th></th>\n",
              "      <th>employee_id</th>\n",
              "      <th>department</th>\n",
              "      <th>region</th>\n",
              "      <th>education</th>\n",
              "      <th>gender</th>\n",
              "      <th>recruitment_channel</th>\n",
              "      <th>no_of_trainings</th>\n",
              "      <th>age</th>\n",
              "      <th>previous_year_rating</th>\n",
              "      <th>length_of_service</th>\n",
              "      <th>KPIs_met &gt;80%</th>\n",
              "      <th>awards_won?</th>\n",
              "      <th>avg_training_score</th>\n",
              "      <th>is_promoted</th>\n",
              "    </tr>\n",
              "  </thead>\n",
              "  <tbody>\n",
              "    <tr>\n",
              "      <th>54803</th>\n",
              "      <td>3030</td>\n",
              "      <td>Technology</td>\n",
              "      <td>region_14</td>\n",
              "      <td>Bachelor's</td>\n",
              "      <td>m</td>\n",
              "      <td>sourcing</td>\n",
              "      <td>1</td>\n",
              "      <td>48</td>\n",
              "      <td>3.0</td>\n",
              "      <td>17</td>\n",
              "      <td>0</td>\n",
              "      <td>0</td>\n",
              "      <td>78</td>\n",
              "      <td>0</td>\n",
              "    </tr>\n",
              "    <tr>\n",
              "      <th>54804</th>\n",
              "      <td>74592</td>\n",
              "      <td>Operations</td>\n",
              "      <td>region_27</td>\n",
              "      <td>Master's &amp; above</td>\n",
              "      <td>f</td>\n",
              "      <td>other</td>\n",
              "      <td>1</td>\n",
              "      <td>37</td>\n",
              "      <td>2.0</td>\n",
              "      <td>6</td>\n",
              "      <td>0</td>\n",
              "      <td>0</td>\n",
              "      <td>56</td>\n",
              "      <td>0</td>\n",
              "    </tr>\n",
              "    <tr>\n",
              "      <th>54805</th>\n",
              "      <td>13918</td>\n",
              "      <td>Analytics</td>\n",
              "      <td>region_1</td>\n",
              "      <td>Bachelor's</td>\n",
              "      <td>m</td>\n",
              "      <td>other</td>\n",
              "      <td>1</td>\n",
              "      <td>27</td>\n",
              "      <td>5.0</td>\n",
              "      <td>3</td>\n",
              "      <td>1</td>\n",
              "      <td>0</td>\n",
              "      <td>79</td>\n",
              "      <td>0</td>\n",
              "    </tr>\n",
              "    <tr>\n",
              "      <th>54806</th>\n",
              "      <td>13614</td>\n",
              "      <td>Sales &amp; Marketing</td>\n",
              "      <td>region_9</td>\n",
              "      <td>NaN</td>\n",
              "      <td>m</td>\n",
              "      <td>sourcing</td>\n",
              "      <td>1</td>\n",
              "      <td>29</td>\n",
              "      <td>1.0</td>\n",
              "      <td>2</td>\n",
              "      <td>0</td>\n",
              "      <td>0</td>\n",
              "      <td>45</td>\n",
              "      <td>0</td>\n",
              "    </tr>\n",
              "    <tr>\n",
              "      <th>54807</th>\n",
              "      <td>51526</td>\n",
              "      <td>HR</td>\n",
              "      <td>region_22</td>\n",
              "      <td>Bachelor's</td>\n",
              "      <td>m</td>\n",
              "      <td>other</td>\n",
              "      <td>1</td>\n",
              "      <td>27</td>\n",
              "      <td>1.0</td>\n",
              "      <td>5</td>\n",
              "      <td>0</td>\n",
              "      <td>0</td>\n",
              "      <td>49</td>\n",
              "      <td>0</td>\n",
              "    </tr>\n",
              "  </tbody>\n",
              "</table>\n",
              "</div>\n",
              "      <button class=\"colab-df-convert\" onclick=\"convertToInteractive('df-b9339528-2251-4561-8c26-8ebee8360555')\"\n",
              "              title=\"Convert this dataframe to an interactive table.\"\n",
              "              style=\"display:none;\">\n",
              "        \n",
              "  <svg xmlns=\"http://www.w3.org/2000/svg\" height=\"24px\"viewBox=\"0 0 24 24\"\n",
              "       width=\"24px\">\n",
              "    <path d=\"M0 0h24v24H0V0z\" fill=\"none\"/>\n",
              "    <path d=\"M18.56 5.44l.94 2.06.94-2.06 2.06-.94-2.06-.94-.94-2.06-.94 2.06-2.06.94zm-11 1L8.5 8.5l.94-2.06 2.06-.94-2.06-.94L8.5 2.5l-.94 2.06-2.06.94zm10 10l.94 2.06.94-2.06 2.06-.94-2.06-.94-.94-2.06-.94 2.06-2.06.94z\"/><path d=\"M17.41 7.96l-1.37-1.37c-.4-.4-.92-.59-1.43-.59-.52 0-1.04.2-1.43.59L10.3 9.45l-7.72 7.72c-.78.78-.78 2.05 0 2.83L4 21.41c.39.39.9.59 1.41.59.51 0 1.02-.2 1.41-.59l7.78-7.78 2.81-2.81c.8-.78.8-2.07 0-2.86zM5.41 20L4 18.59l7.72-7.72 1.47 1.35L5.41 20z\"/>\n",
              "  </svg>\n",
              "      </button>\n",
              "      \n",
              "  <style>\n",
              "    .colab-df-container {\n",
              "      display:flex;\n",
              "      flex-wrap:wrap;\n",
              "      gap: 12px;\n",
              "    }\n",
              "\n",
              "    .colab-df-convert {\n",
              "      background-color: #E8F0FE;\n",
              "      border: none;\n",
              "      border-radius: 50%;\n",
              "      cursor: pointer;\n",
              "      display: none;\n",
              "      fill: #1967D2;\n",
              "      height: 32px;\n",
              "      padding: 0 0 0 0;\n",
              "      width: 32px;\n",
              "    }\n",
              "\n",
              "    .colab-df-convert:hover {\n",
              "      background-color: #E2EBFA;\n",
              "      box-shadow: 0px 1px 2px rgba(60, 64, 67, 0.3), 0px 1px 3px 1px rgba(60, 64, 67, 0.15);\n",
              "      fill: #174EA6;\n",
              "    }\n",
              "\n",
              "    [theme=dark] .colab-df-convert {\n",
              "      background-color: #3B4455;\n",
              "      fill: #D2E3FC;\n",
              "    }\n",
              "\n",
              "    [theme=dark] .colab-df-convert:hover {\n",
              "      background-color: #434B5C;\n",
              "      box-shadow: 0px 1px 3px 1px rgba(0, 0, 0, 0.15);\n",
              "      filter: drop-shadow(0px 1px 2px rgba(0, 0, 0, 0.3));\n",
              "      fill: #FFFFFF;\n",
              "    }\n",
              "  </style>\n",
              "\n",
              "      <script>\n",
              "        const buttonEl =\n",
              "          document.querySelector('#df-b9339528-2251-4561-8c26-8ebee8360555 button.colab-df-convert');\n",
              "        buttonEl.style.display =\n",
              "          google.colab.kernel.accessAllowed ? 'block' : 'none';\n",
              "\n",
              "        async function convertToInteractive(key) {\n",
              "          const element = document.querySelector('#df-b9339528-2251-4561-8c26-8ebee8360555');\n",
              "          const dataTable =\n",
              "            await google.colab.kernel.invokeFunction('convertToInteractive',\n",
              "                                                     [key], {});\n",
              "          if (!dataTable) return;\n",
              "\n",
              "          const docLinkHtml = 'Like what you see? Visit the ' +\n",
              "            '<a target=\"_blank\" href=https://colab.research.google.com/notebooks/data_table.ipynb>data table notebook</a>'\n",
              "            + ' to learn more about interactive tables.';\n",
              "          element.innerHTML = '';\n",
              "          dataTable['output_type'] = 'display_data';\n",
              "          await google.colab.output.renderOutput(dataTable, element);\n",
              "          const docLink = document.createElement('div');\n",
              "          docLink.innerHTML = docLinkHtml;\n",
              "          element.appendChild(docLink);\n",
              "        }\n",
              "      </script>\n",
              "    </div>\n",
              "  </div>\n",
              "  "
            ]
          },
          "metadata": {},
          "execution_count": 82
        }
      ],
      "source": [
        "# lets also check the tail of the test data\n",
        "train.tail()"
      ]
    },
    {
      "cell_type": "code",
      "execution_count": 83,
      "metadata": {
        "colab": {
          "base_uri": "https://localhost:8080/",
          "height": 322
        },
        "id": "c6kuiia_uujj",
        "outputId": "3b6d1f5c-a8e2-4f9e-f418-55dfaeee6ee0"
      },
      "outputs": [
        {
          "output_type": "execute_result",
          "data": {
            "text/plain": [
              "       employee_id   department     region         education gender  \\\n",
              "23485        53478        Legal   region_2   Below Secondary      m   \n",
              "23486        25600   Technology  region_25        Bachelor's      m   \n",
              "23487        45409           HR  region_16        Bachelor's      f   \n",
              "23488         1186  Procurement  region_31        Bachelor's      m   \n",
              "23489         5973   Technology  region_17  Master's & above      m   \n",
              "\n",
              "      recruitment_channel  no_of_trainings  age  previous_year_rating  \\\n",
              "23485            sourcing                1   24                   3.0   \n",
              "23486            sourcing                1   31                   3.0   \n",
              "23487            sourcing                1   26                   4.0   \n",
              "23488            sourcing                3   27                   NaN   \n",
              "23489               other                3   40                   5.0   \n",
              "\n",
              "       length_of_service  KPIs_met >80%  awards_won?  avg_training_score  \n",
              "23485                  1              0            0                  61  \n",
              "23486                  7              0            0                  74  \n",
              "23487                  4              0            0                  50  \n",
              "23488                  1              0            0                  70  \n",
              "23489                  5              1            0                  89  "
            ],
            "text/html": [
              "\n",
              "  <div id=\"df-adf26842-0339-401f-8181-01a9480872ad\">\n",
              "    <div class=\"colab-df-container\">\n",
              "      <div>\n",
              "<style scoped>\n",
              "    .dataframe tbody tr th:only-of-type {\n",
              "        vertical-align: middle;\n",
              "    }\n",
              "\n",
              "    .dataframe tbody tr th {\n",
              "        vertical-align: top;\n",
              "    }\n",
              "\n",
              "    .dataframe thead th {\n",
              "        text-align: right;\n",
              "    }\n",
              "</style>\n",
              "<table border=\"1\" class=\"dataframe\">\n",
              "  <thead>\n",
              "    <tr style=\"text-align: right;\">\n",
              "      <th></th>\n",
              "      <th>employee_id</th>\n",
              "      <th>department</th>\n",
              "      <th>region</th>\n",
              "      <th>education</th>\n",
              "      <th>gender</th>\n",
              "      <th>recruitment_channel</th>\n",
              "      <th>no_of_trainings</th>\n",
              "      <th>age</th>\n",
              "      <th>previous_year_rating</th>\n",
              "      <th>length_of_service</th>\n",
              "      <th>KPIs_met &gt;80%</th>\n",
              "      <th>awards_won?</th>\n",
              "      <th>avg_training_score</th>\n",
              "    </tr>\n",
              "  </thead>\n",
              "  <tbody>\n",
              "    <tr>\n",
              "      <th>23485</th>\n",
              "      <td>53478</td>\n",
              "      <td>Legal</td>\n",
              "      <td>region_2</td>\n",
              "      <td>Below Secondary</td>\n",
              "      <td>m</td>\n",
              "      <td>sourcing</td>\n",
              "      <td>1</td>\n",
              "      <td>24</td>\n",
              "      <td>3.0</td>\n",
              "      <td>1</td>\n",
              "      <td>0</td>\n",
              "      <td>0</td>\n",
              "      <td>61</td>\n",
              "    </tr>\n",
              "    <tr>\n",
              "      <th>23486</th>\n",
              "      <td>25600</td>\n",
              "      <td>Technology</td>\n",
              "      <td>region_25</td>\n",
              "      <td>Bachelor's</td>\n",
              "      <td>m</td>\n",
              "      <td>sourcing</td>\n",
              "      <td>1</td>\n",
              "      <td>31</td>\n",
              "      <td>3.0</td>\n",
              "      <td>7</td>\n",
              "      <td>0</td>\n",
              "      <td>0</td>\n",
              "      <td>74</td>\n",
              "    </tr>\n",
              "    <tr>\n",
              "      <th>23487</th>\n",
              "      <td>45409</td>\n",
              "      <td>HR</td>\n",
              "      <td>region_16</td>\n",
              "      <td>Bachelor's</td>\n",
              "      <td>f</td>\n",
              "      <td>sourcing</td>\n",
              "      <td>1</td>\n",
              "      <td>26</td>\n",
              "      <td>4.0</td>\n",
              "      <td>4</td>\n",
              "      <td>0</td>\n",
              "      <td>0</td>\n",
              "      <td>50</td>\n",
              "    </tr>\n",
              "    <tr>\n",
              "      <th>23488</th>\n",
              "      <td>1186</td>\n",
              "      <td>Procurement</td>\n",
              "      <td>region_31</td>\n",
              "      <td>Bachelor's</td>\n",
              "      <td>m</td>\n",
              "      <td>sourcing</td>\n",
              "      <td>3</td>\n",
              "      <td>27</td>\n",
              "      <td>NaN</td>\n",
              "      <td>1</td>\n",
              "      <td>0</td>\n",
              "      <td>0</td>\n",
              "      <td>70</td>\n",
              "    </tr>\n",
              "    <tr>\n",
              "      <th>23489</th>\n",
              "      <td>5973</td>\n",
              "      <td>Technology</td>\n",
              "      <td>region_17</td>\n",
              "      <td>Master's &amp; above</td>\n",
              "      <td>m</td>\n",
              "      <td>other</td>\n",
              "      <td>3</td>\n",
              "      <td>40</td>\n",
              "      <td>5.0</td>\n",
              "      <td>5</td>\n",
              "      <td>1</td>\n",
              "      <td>0</td>\n",
              "      <td>89</td>\n",
              "    </tr>\n",
              "  </tbody>\n",
              "</table>\n",
              "</div>\n",
              "      <button class=\"colab-df-convert\" onclick=\"convertToInteractive('df-adf26842-0339-401f-8181-01a9480872ad')\"\n",
              "              title=\"Convert this dataframe to an interactive table.\"\n",
              "              style=\"display:none;\">\n",
              "        \n",
              "  <svg xmlns=\"http://www.w3.org/2000/svg\" height=\"24px\"viewBox=\"0 0 24 24\"\n",
              "       width=\"24px\">\n",
              "    <path d=\"M0 0h24v24H0V0z\" fill=\"none\"/>\n",
              "    <path d=\"M18.56 5.44l.94 2.06.94-2.06 2.06-.94-2.06-.94-.94-2.06-.94 2.06-2.06.94zm-11 1L8.5 8.5l.94-2.06 2.06-.94-2.06-.94L8.5 2.5l-.94 2.06-2.06.94zm10 10l.94 2.06.94-2.06 2.06-.94-2.06-.94-.94-2.06-.94 2.06-2.06.94z\"/><path d=\"M17.41 7.96l-1.37-1.37c-.4-.4-.92-.59-1.43-.59-.52 0-1.04.2-1.43.59L10.3 9.45l-7.72 7.72c-.78.78-.78 2.05 0 2.83L4 21.41c.39.39.9.59 1.41.59.51 0 1.02-.2 1.41-.59l7.78-7.78 2.81-2.81c.8-.78.8-2.07 0-2.86zM5.41 20L4 18.59l7.72-7.72 1.47 1.35L5.41 20z\"/>\n",
              "  </svg>\n",
              "      </button>\n",
              "      \n",
              "  <style>\n",
              "    .colab-df-container {\n",
              "      display:flex;\n",
              "      flex-wrap:wrap;\n",
              "      gap: 12px;\n",
              "    }\n",
              "\n",
              "    .colab-df-convert {\n",
              "      background-color: #E8F0FE;\n",
              "      border: none;\n",
              "      border-radius: 50%;\n",
              "      cursor: pointer;\n",
              "      display: none;\n",
              "      fill: #1967D2;\n",
              "      height: 32px;\n",
              "      padding: 0 0 0 0;\n",
              "      width: 32px;\n",
              "    }\n",
              "\n",
              "    .colab-df-convert:hover {\n",
              "      background-color: #E2EBFA;\n",
              "      box-shadow: 0px 1px 2px rgba(60, 64, 67, 0.3), 0px 1px 3px 1px rgba(60, 64, 67, 0.15);\n",
              "      fill: #174EA6;\n",
              "    }\n",
              "\n",
              "    [theme=dark] .colab-df-convert {\n",
              "      background-color: #3B4455;\n",
              "      fill: #D2E3FC;\n",
              "    }\n",
              "\n",
              "    [theme=dark] .colab-df-convert:hover {\n",
              "      background-color: #434B5C;\n",
              "      box-shadow: 0px 1px 3px 1px rgba(0, 0, 0, 0.15);\n",
              "      filter: drop-shadow(0px 1px 2px rgba(0, 0, 0, 0.3));\n",
              "      fill: #FFFFFF;\n",
              "    }\n",
              "  </style>\n",
              "\n",
              "      <script>\n",
              "        const buttonEl =\n",
              "          document.querySelector('#df-adf26842-0339-401f-8181-01a9480872ad button.colab-df-convert');\n",
              "        buttonEl.style.display =\n",
              "          google.colab.kernel.accessAllowed ? 'block' : 'none';\n",
              "\n",
              "        async function convertToInteractive(key) {\n",
              "          const element = document.querySelector('#df-adf26842-0339-401f-8181-01a9480872ad');\n",
              "          const dataTable =\n",
              "            await google.colab.kernel.invokeFunction('convertToInteractive',\n",
              "                                                     [key], {});\n",
              "          if (!dataTable) return;\n",
              "\n",
              "          const docLinkHtml = 'Like what you see? Visit the ' +\n",
              "            '<a target=\"_blank\" href=https://colab.research.google.com/notebooks/data_table.ipynb>data table notebook</a>'\n",
              "            + ' to learn more about interactive tables.';\n",
              "          element.innerHTML = '';\n",
              "          dataTable['output_type'] = 'display_data';\n",
              "          await google.colab.output.renderOutput(dataTable, element);\n",
              "          const docLink = document.createElement('div');\n",
              "          docLink.innerHTML = docLinkHtml;\n",
              "          element.appendChild(docLink);\n",
              "        }\n",
              "      </script>\n",
              "    </div>\n",
              "  </div>\n",
              "  "
            ]
          },
          "metadata": {},
          "execution_count": 83
        }
      ],
      "source": [
        "# lets also check the tail of the test data\n",
        "test.tail()"
      ]
    },
    {
      "cell_type": "markdown",
      "metadata": {
        "id": "OT0ukeEsuujj"
      },
      "source": [
        "## <center>Data Description</center>\n",
        "\n",
        "<table>\n",
        "    <tr>\n",
        "        <td><b>Variable</b></td>\n",
        "        <td><b>Definition</b></td>\n",
        "    </tr>\n",
        "    <tr>\n",
        "        <td>employee_id</td>\n",
        "        <td>Unique ID for employee<td>\n",
        "    </tr>\n",
        "    <tr>\n",
        "        <td>department</td>\n",
        "        <td>Department of employee</td>\n",
        "    </tr>\n",
        "    <tr>\n",
        "        <td>region</td>\n",
        "        <td>Region of employment (unordered)</td>\n",
        "    </tr>\n",
        "    <tr>\n",
        "        <td>education</td>\n",
        "        <td>Education Level</td>\n",
        "    </tr>\n",
        "    <tr>\n",
        "        <td>gender</td>\n",
        "        <td>Gender of Employee</td>\n",
        "    </tr>\n",
        "    <tr>\n",
        "        <td>recruitment_channel</td>\n",
        "        <td>Channel of recruitment for employee</td>\n",
        "    </tr>\n",
        "    <tr>\n",
        "        <td>no_of_trainings</td>\n",
        "        <td>no of other trainings completed in previous year on soft skills, technical skills etc.</td>\n",
        "    </tr>\n",
        "    <tr>\n",
        "        <td>age</td>\n",
        "        <td>Age of Employee</td>\n",
        "    </tr>\n",
        "    <tr>\n",
        "        <td>previous_year_rating</td>\n",
        "        <td>Employee Rating for the previous year</td>\n",
        "    </tr>\n",
        "    <tr>\n",
        "        <td>length_of_service</td>\n",
        "        <td>Length of service in years</td>\n",
        "    </tr>\n",
        "    <tr>\n",
        "        <td>KPIs_met >80%</td>\n",
        "        <td>if Percent of KPIs(Key performance Indicators) >80% then 1 else 0</td>\n",
        "    </tr>\n",
        "    <tr>\n",
        "        <td>awards_won?</td>\n",
        "        <td>if awards won during previous year then 1 else 0</td>\n",
        "    </tr>\n",
        "    <tr>\n",
        "        <td>avg_training_score</td>\n",
        "        <td>Average score in current training evaluations</td>\n",
        "    </tr>\n",
        "    <tr>\n",
        "        <td>is_promoted\t(Target)</td>\n",
        "        <td>Recommended for promotion</td>\n",
        "    </tr>\n",
        "</table>"
      ]
    },
    {
      "cell_type": "code",
      "execution_count": 84,
      "metadata": {
        "colab": {
          "base_uri": "https://localhost:8080/"
        },
        "id": "3EE-vtXkuujl",
        "outputId": "fa865a5f-f77c-4ca9-d636-a570b17cc8be"
      },
      "outputs": [
        {
          "output_type": "execute_result",
          "data": {
            "text/plain": [
              "Sales & Marketing    16840\n",
              "Operations           11348\n",
              "Technology            7138\n",
              "Procurement           7138\n",
              "Analytics             5352\n",
              "Finance               2536\n",
              "HR                    2418\n",
              "Legal                 1039\n",
              "R&D                    999\n",
              "Name: department, dtype: int64"
            ]
          },
          "metadata": {},
          "execution_count": 84
        }
      ],
      "source": [
        "# values in Departments\n",
        "\n",
        "train['department'].value_counts()"
      ]
    },
    {
      "cell_type": "code",
      "execution_count": 85,
      "metadata": {
        "colab": {
          "base_uri": "https://localhost:8080/"
        },
        "id": "EyF7vCJ4uujm",
        "outputId": "dfca1925-f34b-4817-beb9-6962d44f72a3"
      },
      "outputs": [
        {
          "output_type": "execute_result",
          "data": {
            "text/plain": [
              "region_2     12343\n",
              "region_22     6428\n",
              "region_7      4843\n",
              "region_15     2808\n",
              "region_13     2648\n",
              "region_26     2260\n",
              "region_31     1935\n",
              "region_4      1703\n",
              "region_27     1659\n",
              "region_16     1465\n",
              "region_28     1318\n",
              "region_11     1315\n",
              "region_23     1175\n",
              "region_29      994\n",
              "region_32      945\n",
              "region_19      874\n",
              "region_20      850\n",
              "region_14      827\n",
              "region_25      819\n",
              "region_17      796\n",
              "region_5       766\n",
              "region_6       690\n",
              "region_30      657\n",
              "region_8       655\n",
              "region_10      648\n",
              "region_1       610\n",
              "region_24      508\n",
              "region_12      500\n",
              "region_9       420\n",
              "region_21      411\n",
              "region_3       346\n",
              "region_34      292\n",
              "region_33      269\n",
              "region_18       31\n",
              "Name: region, dtype: int64"
            ]
          },
          "metadata": {},
          "execution_count": 85
        }
      ],
      "source": [
        "# values in Region\n",
        "\n",
        "train['region'].value_counts()"
      ]
    },
    {
      "cell_type": "markdown",
      "metadata": {
        "id": "2LM_shKkuujm"
      },
      "source": [
        "## Descriptive Statistics\n",
        "\n",
        "* Descriptive Statistics is one of the most Important Step to Understand the Data and take out Insights\n",
        "* First we will the Descriptive Statistics for the Numerical Columns\n",
        "* for Numerical Columns we check for stats such as Max, Min, Mean, count, standard deviation, 25 percentile, 50 percentile, and 75 percentile.\n",
        "* Then we will check for the Descriptive Statistics for Categorical Columns\n",
        "* for Categorical Columns we check for stats such as count, frequency, top, and unique elements."
      ]
    },
    {
      "cell_type": "code",
      "execution_count": 86,
      "metadata": {
        "colab": {
          "base_uri": "https://localhost:8080/",
          "height": 300
        },
        "id": "MjP-Fifhuujm",
        "outputId": "851fafc4-85d0-4285-d794-e3ff83daf97e"
      },
      "outputs": [
        {
          "output_type": "execute_result",
          "data": {
            "text/plain": [
              "<pandas.io.formats.style.Styler at 0x7fef124dbb80>"
            ],
            "text/html": [
              "<style type=\"text/css\">\n",
              "#T_ac755_row0_col0 {\n",
              "  background-color: #dd8c59;\n",
              "  color: #f1f1f1;\n",
              "}\n",
              "#T_ac755_row0_col1, #T_ac755_row0_col2, #T_ac755_row0_col3, #T_ac755_row0_col4, #T_ac755_row0_col5, #T_ac755_row0_col6, #T_ac755_row0_col7, #T_ac755_row0_col8, #T_ac755_row7_col0 {\n",
              "  background-color: #ffc77f;\n",
              "  color: #000000;\n",
              "}\n",
              "#T_ac755_row1_col0, #T_ac755_row5_col0 {\n",
              "  background-color: #9e6440;\n",
              "  color: #f1f1f1;\n",
              "}\n",
              "#T_ac755_row1_col1, #T_ac755_row1_col2, #T_ac755_row1_col3, #T_ac755_row1_col4, #T_ac755_row1_col5, #T_ac755_row1_col6, #T_ac755_row1_col7, #T_ac755_row1_col8, #T_ac755_row2_col1, #T_ac755_row2_col2, #T_ac755_row2_col3, #T_ac755_row2_col4, #T_ac755_row2_col5, #T_ac755_row2_col6, #T_ac755_row2_col7, #T_ac755_row2_col8, #T_ac755_row3_col0, #T_ac755_row3_col1, #T_ac755_row3_col2, #T_ac755_row3_col3, #T_ac755_row3_col4, #T_ac755_row3_col5, #T_ac755_row3_col6, #T_ac755_row3_col7, #T_ac755_row3_col8, #T_ac755_row4_col1, #T_ac755_row4_col2, #T_ac755_row4_col3, #T_ac755_row4_col4, #T_ac755_row4_col5, #T_ac755_row4_col6, #T_ac755_row4_col7, #T_ac755_row4_col8, #T_ac755_row5_col1, #T_ac755_row5_col2, #T_ac755_row5_col3, #T_ac755_row5_col4, #T_ac755_row5_col5, #T_ac755_row5_col6, #T_ac755_row5_col7, #T_ac755_row5_col8, #T_ac755_row6_col1, #T_ac755_row6_col2, #T_ac755_row6_col3, #T_ac755_row6_col4, #T_ac755_row6_col5, #T_ac755_row6_col6, #T_ac755_row6_col7, #T_ac755_row6_col8, #T_ac755_row7_col1, #T_ac755_row7_col2, #T_ac755_row7_col3, #T_ac755_row7_col4, #T_ac755_row7_col5, #T_ac755_row7_col6, #T_ac755_row7_col7, #T_ac755_row7_col8 {\n",
              "  background-color: #000000;\n",
              "  color: #f1f1f1;\n",
              "}\n",
              "#T_ac755_row2_col0 {\n",
              "  background-color: #5a3924;\n",
              "  color: #f1f1f1;\n",
              "}\n",
              "#T_ac755_row4_col0 {\n",
              "  background-color: #4f3220;\n",
              "  color: #f1f1f1;\n",
              "}\n",
              "#T_ac755_row6_col0 {\n",
              "  background-color: #ed9660;\n",
              "  color: #f1f1f1;\n",
              "}\n",
              "</style>\n",
              "<table id=\"T_ac755\" class=\"dataframe\">\n",
              "  <thead>\n",
              "    <tr>\n",
              "      <th class=\"blank level0\" >&nbsp;</th>\n",
              "      <th id=\"T_ac755_level0_col0\" class=\"col_heading level0 col0\" >employee_id</th>\n",
              "      <th id=\"T_ac755_level0_col1\" class=\"col_heading level0 col1\" >no_of_trainings</th>\n",
              "      <th id=\"T_ac755_level0_col2\" class=\"col_heading level0 col2\" >age</th>\n",
              "      <th id=\"T_ac755_level0_col3\" class=\"col_heading level0 col3\" >previous_year_rating</th>\n",
              "      <th id=\"T_ac755_level0_col4\" class=\"col_heading level0 col4\" >length_of_service</th>\n",
              "      <th id=\"T_ac755_level0_col5\" class=\"col_heading level0 col5\" >KPIs_met >80%</th>\n",
              "      <th id=\"T_ac755_level0_col6\" class=\"col_heading level0 col6\" >awards_won?</th>\n",
              "      <th id=\"T_ac755_level0_col7\" class=\"col_heading level0 col7\" >avg_training_score</th>\n",
              "      <th id=\"T_ac755_level0_col8\" class=\"col_heading level0 col8\" >is_promoted</th>\n",
              "    </tr>\n",
              "  </thead>\n",
              "  <tbody>\n",
              "    <tr>\n",
              "      <th id=\"T_ac755_level0_row0\" class=\"row_heading level0 row0\" >count</th>\n",
              "      <td id=\"T_ac755_row0_col0\" class=\"data row0 col0\" >54808.000000</td>\n",
              "      <td id=\"T_ac755_row0_col1\" class=\"data row0 col1\" >54808.000000</td>\n",
              "      <td id=\"T_ac755_row0_col2\" class=\"data row0 col2\" >54808.000000</td>\n",
              "      <td id=\"T_ac755_row0_col3\" class=\"data row0 col3\" >50684.000000</td>\n",
              "      <td id=\"T_ac755_row0_col4\" class=\"data row0 col4\" >54808.000000</td>\n",
              "      <td id=\"T_ac755_row0_col5\" class=\"data row0 col5\" >54808.000000</td>\n",
              "      <td id=\"T_ac755_row0_col6\" class=\"data row0 col6\" >54808.000000</td>\n",
              "      <td id=\"T_ac755_row0_col7\" class=\"data row0 col7\" >54808.000000</td>\n",
              "      <td id=\"T_ac755_row0_col8\" class=\"data row0 col8\" >54808.000000</td>\n",
              "    </tr>\n",
              "    <tr>\n",
              "      <th id=\"T_ac755_level0_row1\" class=\"row_heading level0 row1\" >mean</th>\n",
              "      <td id=\"T_ac755_row1_col0\" class=\"data row1 col0\" >39195.830627</td>\n",
              "      <td id=\"T_ac755_row1_col1\" class=\"data row1 col1\" >1.253011</td>\n",
              "      <td id=\"T_ac755_row1_col2\" class=\"data row1 col2\" >34.803915</td>\n",
              "      <td id=\"T_ac755_row1_col3\" class=\"data row1 col3\" >3.329256</td>\n",
              "      <td id=\"T_ac755_row1_col4\" class=\"data row1 col4\" >5.865512</td>\n",
              "      <td id=\"T_ac755_row1_col5\" class=\"data row1 col5\" >0.351974</td>\n",
              "      <td id=\"T_ac755_row1_col6\" class=\"data row1 col6\" >0.023172</td>\n",
              "      <td id=\"T_ac755_row1_col7\" class=\"data row1 col7\" >63.386750</td>\n",
              "      <td id=\"T_ac755_row1_col8\" class=\"data row1 col8\" >0.085170</td>\n",
              "    </tr>\n",
              "    <tr>\n",
              "      <th id=\"T_ac755_level0_row2\" class=\"row_heading level0 row2\" >std</th>\n",
              "      <td id=\"T_ac755_row2_col0\" class=\"data row2 col0\" >22586.581449</td>\n",
              "      <td id=\"T_ac755_row2_col1\" class=\"data row2 col1\" >0.609264</td>\n",
              "      <td id=\"T_ac755_row2_col2\" class=\"data row2 col2\" >7.660169</td>\n",
              "      <td id=\"T_ac755_row2_col3\" class=\"data row2 col3\" >1.259993</td>\n",
              "      <td id=\"T_ac755_row2_col4\" class=\"data row2 col4\" >4.265094</td>\n",
              "      <td id=\"T_ac755_row2_col5\" class=\"data row2 col5\" >0.477590</td>\n",
              "      <td id=\"T_ac755_row2_col6\" class=\"data row2 col6\" >0.150450</td>\n",
              "      <td id=\"T_ac755_row2_col7\" class=\"data row2 col7\" >13.371559</td>\n",
              "      <td id=\"T_ac755_row2_col8\" class=\"data row2 col8\" >0.279137</td>\n",
              "    </tr>\n",
              "    <tr>\n",
              "      <th id=\"T_ac755_level0_row3\" class=\"row_heading level0 row3\" >min</th>\n",
              "      <td id=\"T_ac755_row3_col0\" class=\"data row3 col0\" >1.000000</td>\n",
              "      <td id=\"T_ac755_row3_col1\" class=\"data row3 col1\" >1.000000</td>\n",
              "      <td id=\"T_ac755_row3_col2\" class=\"data row3 col2\" >20.000000</td>\n",
              "      <td id=\"T_ac755_row3_col3\" class=\"data row3 col3\" >1.000000</td>\n",
              "      <td id=\"T_ac755_row3_col4\" class=\"data row3 col4\" >1.000000</td>\n",
              "      <td id=\"T_ac755_row3_col5\" class=\"data row3 col5\" >0.000000</td>\n",
              "      <td id=\"T_ac755_row3_col6\" class=\"data row3 col6\" >0.000000</td>\n",
              "      <td id=\"T_ac755_row3_col7\" class=\"data row3 col7\" >39.000000</td>\n",
              "      <td id=\"T_ac755_row3_col8\" class=\"data row3 col8\" >0.000000</td>\n",
              "    </tr>\n",
              "    <tr>\n",
              "      <th id=\"T_ac755_level0_row4\" class=\"row_heading level0 row4\" >25%</th>\n",
              "      <td id=\"T_ac755_row4_col0\" class=\"data row4 col0\" >19669.750000</td>\n",
              "      <td id=\"T_ac755_row4_col1\" class=\"data row4 col1\" >1.000000</td>\n",
              "      <td id=\"T_ac755_row4_col2\" class=\"data row4 col2\" >29.000000</td>\n",
              "      <td id=\"T_ac755_row4_col3\" class=\"data row4 col3\" >3.000000</td>\n",
              "      <td id=\"T_ac755_row4_col4\" class=\"data row4 col4\" >3.000000</td>\n",
              "      <td id=\"T_ac755_row4_col5\" class=\"data row4 col5\" >0.000000</td>\n",
              "      <td id=\"T_ac755_row4_col6\" class=\"data row4 col6\" >0.000000</td>\n",
              "      <td id=\"T_ac755_row4_col7\" class=\"data row4 col7\" >51.000000</td>\n",
              "      <td id=\"T_ac755_row4_col8\" class=\"data row4 col8\" >0.000000</td>\n",
              "    </tr>\n",
              "    <tr>\n",
              "      <th id=\"T_ac755_level0_row5\" class=\"row_heading level0 row5\" >50%</th>\n",
              "      <td id=\"T_ac755_row5_col0\" class=\"data row5 col0\" >39225.500000</td>\n",
              "      <td id=\"T_ac755_row5_col1\" class=\"data row5 col1\" >1.000000</td>\n",
              "      <td id=\"T_ac755_row5_col2\" class=\"data row5 col2\" >33.000000</td>\n",
              "      <td id=\"T_ac755_row5_col3\" class=\"data row5 col3\" >3.000000</td>\n",
              "      <td id=\"T_ac755_row5_col4\" class=\"data row5 col4\" >5.000000</td>\n",
              "      <td id=\"T_ac755_row5_col5\" class=\"data row5 col5\" >0.000000</td>\n",
              "      <td id=\"T_ac755_row5_col6\" class=\"data row5 col6\" >0.000000</td>\n",
              "      <td id=\"T_ac755_row5_col7\" class=\"data row5 col7\" >60.000000</td>\n",
              "      <td id=\"T_ac755_row5_col8\" class=\"data row5 col8\" >0.000000</td>\n",
              "    </tr>\n",
              "    <tr>\n",
              "      <th id=\"T_ac755_level0_row6\" class=\"row_heading level0 row6\" >75%</th>\n",
              "      <td id=\"T_ac755_row6_col0\" class=\"data row6 col0\" >58730.500000</td>\n",
              "      <td id=\"T_ac755_row6_col1\" class=\"data row6 col1\" >1.000000</td>\n",
              "      <td id=\"T_ac755_row6_col2\" class=\"data row6 col2\" >39.000000</td>\n",
              "      <td id=\"T_ac755_row6_col3\" class=\"data row6 col3\" >4.000000</td>\n",
              "      <td id=\"T_ac755_row6_col4\" class=\"data row6 col4\" >7.000000</td>\n",
              "      <td id=\"T_ac755_row6_col5\" class=\"data row6 col5\" >1.000000</td>\n",
              "      <td id=\"T_ac755_row6_col6\" class=\"data row6 col6\" >0.000000</td>\n",
              "      <td id=\"T_ac755_row6_col7\" class=\"data row6 col7\" >76.000000</td>\n",
              "      <td id=\"T_ac755_row6_col8\" class=\"data row6 col8\" >0.000000</td>\n",
              "    </tr>\n",
              "    <tr>\n",
              "      <th id=\"T_ac755_level0_row7\" class=\"row_heading level0 row7\" >max</th>\n",
              "      <td id=\"T_ac755_row7_col0\" class=\"data row7 col0\" >78298.000000</td>\n",
              "      <td id=\"T_ac755_row7_col1\" class=\"data row7 col1\" >10.000000</td>\n",
              "      <td id=\"T_ac755_row7_col2\" class=\"data row7 col2\" >60.000000</td>\n",
              "      <td id=\"T_ac755_row7_col3\" class=\"data row7 col3\" >5.000000</td>\n",
              "      <td id=\"T_ac755_row7_col4\" class=\"data row7 col4\" >37.000000</td>\n",
              "      <td id=\"T_ac755_row7_col5\" class=\"data row7 col5\" >1.000000</td>\n",
              "      <td id=\"T_ac755_row7_col6\" class=\"data row7 col6\" >1.000000</td>\n",
              "      <td id=\"T_ac755_row7_col7\" class=\"data row7 col7\" >99.000000</td>\n",
              "      <td id=\"T_ac755_row7_col8\" class=\"data row7 col8\" >1.000000</td>\n",
              "    </tr>\n",
              "  </tbody>\n",
              "</table>\n"
            ]
          },
          "metadata": {},
          "execution_count": 86
        }
      ],
      "source": [
        "# lets check descriptive statistics for numerical columns\n",
        "train.describe().style.background_gradient(cmap = 'copper')"
      ]
    },
    {
      "cell_type": "raw",
      "metadata": {
        "id": "4DpcG1W4uujn"
      },
      "source": [
        "It is quite clear that we are not having Outliers in our Dataset, the average training score for most of the Employee lie between 40 to 100, which is a very good distribution, also th mean is 50.\n",
        "\n",
        "Also, the Length of service, is not having very disruptive values, so we can keep them for model training. they are not going to harm us a lot."
      ]
    },
    {
      "cell_type": "code",
      "execution_count": 87,
      "metadata": {
        "colab": {
          "base_uri": "https://localhost:8080/",
          "height": 175
        },
        "id": "hXVSkT6Kuujn",
        "outputId": "472f1b4b-8a48-4a9a-8ad8-c60858727262"
      },
      "outputs": [
        {
          "output_type": "execute_result",
          "data": {
            "text/plain": [
              "               department    region   education gender recruitment_channel\n",
              "count               54808     54808       52399  54808               54808\n",
              "unique                  9        34           3      2                   3\n",
              "top     Sales & Marketing  region_2  Bachelor's      m               other\n",
              "freq                16840     12343       36669  38496               30446"
            ],
            "text/html": [
              "\n",
              "  <div id=\"df-b3869189-1a0a-402d-97be-8bddf73090ef\">\n",
              "    <div class=\"colab-df-container\">\n",
              "      <div>\n",
              "<style scoped>\n",
              "    .dataframe tbody tr th:only-of-type {\n",
              "        vertical-align: middle;\n",
              "    }\n",
              "\n",
              "    .dataframe tbody tr th {\n",
              "        vertical-align: top;\n",
              "    }\n",
              "\n",
              "    .dataframe thead th {\n",
              "        text-align: right;\n",
              "    }\n",
              "</style>\n",
              "<table border=\"1\" class=\"dataframe\">\n",
              "  <thead>\n",
              "    <tr style=\"text-align: right;\">\n",
              "      <th></th>\n",
              "      <th>department</th>\n",
              "      <th>region</th>\n",
              "      <th>education</th>\n",
              "      <th>gender</th>\n",
              "      <th>recruitment_channel</th>\n",
              "    </tr>\n",
              "  </thead>\n",
              "  <tbody>\n",
              "    <tr>\n",
              "      <th>count</th>\n",
              "      <td>54808</td>\n",
              "      <td>54808</td>\n",
              "      <td>52399</td>\n",
              "      <td>54808</td>\n",
              "      <td>54808</td>\n",
              "    </tr>\n",
              "    <tr>\n",
              "      <th>unique</th>\n",
              "      <td>9</td>\n",
              "      <td>34</td>\n",
              "      <td>3</td>\n",
              "      <td>2</td>\n",
              "      <td>3</td>\n",
              "    </tr>\n",
              "    <tr>\n",
              "      <th>top</th>\n",
              "      <td>Sales &amp; Marketing</td>\n",
              "      <td>region_2</td>\n",
              "      <td>Bachelor's</td>\n",
              "      <td>m</td>\n",
              "      <td>other</td>\n",
              "    </tr>\n",
              "    <tr>\n",
              "      <th>freq</th>\n",
              "      <td>16840</td>\n",
              "      <td>12343</td>\n",
              "      <td>36669</td>\n",
              "      <td>38496</td>\n",
              "      <td>30446</td>\n",
              "    </tr>\n",
              "  </tbody>\n",
              "</table>\n",
              "</div>\n",
              "      <button class=\"colab-df-convert\" onclick=\"convertToInteractive('df-b3869189-1a0a-402d-97be-8bddf73090ef')\"\n",
              "              title=\"Convert this dataframe to an interactive table.\"\n",
              "              style=\"display:none;\">\n",
              "        \n",
              "  <svg xmlns=\"http://www.w3.org/2000/svg\" height=\"24px\"viewBox=\"0 0 24 24\"\n",
              "       width=\"24px\">\n",
              "    <path d=\"M0 0h24v24H0V0z\" fill=\"none\"/>\n",
              "    <path d=\"M18.56 5.44l.94 2.06.94-2.06 2.06-.94-2.06-.94-.94-2.06-.94 2.06-2.06.94zm-11 1L8.5 8.5l.94-2.06 2.06-.94-2.06-.94L8.5 2.5l-.94 2.06-2.06.94zm10 10l.94 2.06.94-2.06 2.06-.94-2.06-.94-.94-2.06-.94 2.06-2.06.94z\"/><path d=\"M17.41 7.96l-1.37-1.37c-.4-.4-.92-.59-1.43-.59-.52 0-1.04.2-1.43.59L10.3 9.45l-7.72 7.72c-.78.78-.78 2.05 0 2.83L4 21.41c.39.39.9.59 1.41.59.51 0 1.02-.2 1.41-.59l7.78-7.78 2.81-2.81c.8-.78.8-2.07 0-2.86zM5.41 20L4 18.59l7.72-7.72 1.47 1.35L5.41 20z\"/>\n",
              "  </svg>\n",
              "      </button>\n",
              "      \n",
              "  <style>\n",
              "    .colab-df-container {\n",
              "      display:flex;\n",
              "      flex-wrap:wrap;\n",
              "      gap: 12px;\n",
              "    }\n",
              "\n",
              "    .colab-df-convert {\n",
              "      background-color: #E8F0FE;\n",
              "      border: none;\n",
              "      border-radius: 50%;\n",
              "      cursor: pointer;\n",
              "      display: none;\n",
              "      fill: #1967D2;\n",
              "      height: 32px;\n",
              "      padding: 0 0 0 0;\n",
              "      width: 32px;\n",
              "    }\n",
              "\n",
              "    .colab-df-convert:hover {\n",
              "      background-color: #E2EBFA;\n",
              "      box-shadow: 0px 1px 2px rgba(60, 64, 67, 0.3), 0px 1px 3px 1px rgba(60, 64, 67, 0.15);\n",
              "      fill: #174EA6;\n",
              "    }\n",
              "\n",
              "    [theme=dark] .colab-df-convert {\n",
              "      background-color: #3B4455;\n",
              "      fill: #D2E3FC;\n",
              "    }\n",
              "\n",
              "    [theme=dark] .colab-df-convert:hover {\n",
              "      background-color: #434B5C;\n",
              "      box-shadow: 0px 1px 3px 1px rgba(0, 0, 0, 0.15);\n",
              "      filter: drop-shadow(0px 1px 2px rgba(0, 0, 0, 0.3));\n",
              "      fill: #FFFFFF;\n",
              "    }\n",
              "  </style>\n",
              "\n",
              "      <script>\n",
              "        const buttonEl =\n",
              "          document.querySelector('#df-b3869189-1a0a-402d-97be-8bddf73090ef button.colab-df-convert');\n",
              "        buttonEl.style.display =\n",
              "          google.colab.kernel.accessAllowed ? 'block' : 'none';\n",
              "\n",
              "        async function convertToInteractive(key) {\n",
              "          const element = document.querySelector('#df-b3869189-1a0a-402d-97be-8bddf73090ef');\n",
              "          const dataTable =\n",
              "            await google.colab.kernel.invokeFunction('convertToInteractive',\n",
              "                                                     [key], {});\n",
              "          if (!dataTable) return;\n",
              "\n",
              "          const docLinkHtml = 'Like what you see? Visit the ' +\n",
              "            '<a target=\"_blank\" href=https://colab.research.google.com/notebooks/data_table.ipynb>data table notebook</a>'\n",
              "            + ' to learn more about interactive tables.';\n",
              "          element.innerHTML = '';\n",
              "          dataTable['output_type'] = 'display_data';\n",
              "          await google.colab.output.renderOutput(dataTable, element);\n",
              "          const docLink = document.createElement('div');\n",
              "          docLink.innerHTML = docLinkHtml;\n",
              "          element.appendChild(docLink);\n",
              "        }\n",
              "      </script>\n",
              "    </div>\n",
              "  </div>\n",
              "  "
            ]
          },
          "metadata": {},
          "execution_count": 87
        }
      ],
      "source": [
        "# lets check descriptive statistics for categorical columns\n",
        "train.describe(include = 'object')"
      ]
    },
    {
      "cell_type": "code",
      "execution_count": 88,
      "metadata": {
        "colab": {
          "base_uri": "https://localhost:8080/",
          "height": 390
        },
        "id": "EPalSRfauujn",
        "outputId": "5c7a072b-1809-4652-e4e6-59ca8c5c63a0"
      },
      "outputs": [
        {
          "output_type": "display_data",
          "data": {
            "text/plain": [
              "<Figure size 1080x360 with 2 Axes>"
            ],
            "image/png": "[encoded data removed]"
          },
          "metadata": {}
        }
      ],
      "source": [
        "# lets check the Target Class Balance\n",
        "\n",
        "plt.rcParams['figure.figsize'] = (15, 5)\n",
        "plt.style.use('fivethirtyeight')\n",
        "\n",
        "plt.subplot(1, 2, 1)\n",
        "sns.countplot(train['is_promoted'],)\n",
        "\n",
        "plt.xlabel('Promoted or Not?', fontsize = 10)\n",
        "\n",
        "plt.subplot(1, 2, 2)\n",
        "train['is_promoted'].value_counts().plot(kind = 'pie', explode = [0, 0.1], autopct = '%.2f%%', startangle = 90,\n",
        "                                       labels = ['1','0'], shadow = True, pctdistance = 0.5)\n",
        "plt.axis('off')\n",
        "\n",
        "plt.suptitle('Target Class Balance', fontsize = 15)\n",
        "plt.show()"
      ]
    },
    {
      "cell_type": "raw",
      "metadata": {
        "id": "iLRaXEdGuujo"
      },
      "source": [
        "we can easily, see that the Target Class is Highly Imbalanced, and we must balance these classes of Target Class. Most of the Times, when we use Machine Learning Models with Imbalanced Classes, we have very poor Results which are completely biased towards the class having Higher Distribution."
      ]
    },
    {
      "cell_type": "markdown",
      "metadata": {
        "id": "9oCa9JZ8uujo"
      },
      "source": [
        "## Treatment of Missing Values\n",
        "\n",
        "* Treatment of Missing Values is very Important Step in any Machine Learning Model Creation \n",
        "* Missing Values can be cause due to varios reasons such as the filling incomplete forms, values not available, etc\n",
        "* There are so many types of Missing Values such as \n",
        "     * Missing values at Random\n",
        "     * Missing values at not Random\n",
        "     * Missing Values at Completely Random\n",
        "* What can we do to Impute or Treat Missing values to make a Good Machine Learning Model\n",
        "    * We can use Business Logic to Impute the Missing Values\n",
        "    * We can use Statistical Methods such as Mean, Median, and Mode.\n",
        "    * We can use ML Techniques to impute the Missing values\n",
        "    * We can delete the Missing values, when the Missing values percentage is very High.\n",
        "    \n",
        "* When to use Mean, and when to use Median?\n",
        "    * We use Mean, when we do not have Outliers in the dataset for the Numerical Variables.\n",
        "    * We use Median, when we have outliers in the dataset for the Numerical Variables.\n",
        "    * We use Mode, When we have Categorical Variables."
      ]
    },
    {
      "cell_type": "code",
      "execution_count": 89,
      "metadata": {
        "colab": {
          "base_uri": "https://localhost:8080/",
          "height": 397
        },
        "id": "FJCD8t5Ruujo",
        "outputId": "322f53a2-fd9c-4194-9814-f490c7b84e1d"
      },
      "outputs": [
        {
          "output_type": "error",
          "ename": "IndexError",
          "evalue": "ignored",
          "traceback": [
            "\u001b[0;31m---------------------------------------------------------------------------\u001b[0m",
            "\u001b[0;31mIndexError\u001b[0m                                Traceback (most recent call last)",
            "\u001b[0;32m/usr/local/lib/python3.9/dist-packages/IPython/core/formatters.py\u001b[0m in \u001b[0;36m__call__\u001b[0;34m(self, obj)\u001b[0m\n\u001b[1;32m    339\u001b[0m                 \u001b[0;32mpass\u001b[0m\u001b[0;34m\u001b[0m\u001b[0;34m\u001b[0m\u001b[0m\n\u001b[1;32m    340\u001b[0m             \u001b[0;32melse\u001b[0m\u001b[0;34m:\u001b[0m\u001b[0;34m\u001b[0m\u001b[0;34m\u001b[0m\u001b[0m\n\u001b[0;32m--> 341\u001b[0;31m                 \u001b[0;32mreturn\u001b[0m \u001b[0mprinter\u001b[0m\u001b[0;34m(\u001b[0m\u001b[0mobj\u001b[0m\u001b[0;34m)\u001b[0m\u001b[0;34m\u001b[0m\u001b[0;34m\u001b[0m\u001b[0m\n\u001b[0m\u001b[1;32m    342\u001b[0m             \u001b[0;31m# Finally look for special method names\u001b[0m\u001b[0;34m\u001b[0m\u001b[0;34m\u001b[0m\u001b[0m\n\u001b[1;32m    343\u001b[0m             \u001b[0mmethod\u001b[0m \u001b[0;34m=\u001b[0m \u001b[0mget_real_method\u001b[0m\u001b[0;34m(\u001b[0m\u001b[0mobj\u001b[0m\u001b[0;34m,\u001b[0m \u001b[0mself\u001b[0m\u001b[0;34m.\u001b[0m\u001b[0mprint_method\u001b[0m\u001b[0;34m)\u001b[0m\u001b[0;34m\u001b[0m\u001b[0;34m\u001b[0m\u001b[0m\n",
            "\u001b[0;32m/usr/local/lib/python3.9/dist-packages/google/colab/_reprs.py\u001b[0m in \u001b[0;36mnew_formatter\u001b[0;34m(dataframe)\u001b[0m\n\u001b[1;32m     85\u001b[0m \u001b[0;34m\u001b[0m\u001b[0m\n\u001b[1;32m     86\u001b[0m   \u001b[0;32mdef\u001b[0m \u001b[0mnew_formatter\u001b[0m\u001b[0;34m(\u001b[0m\u001b[0mdataframe\u001b[0m\u001b[0;34m)\u001b[0m\u001b[0;34m:\u001b[0m\u001b[0;34m\u001b[0m\u001b[0;34m\u001b[0m\u001b[0m\n\u001b[0;32m---> 87\u001b[0;31m     \u001b[0;32mreturn\u001b[0m \u001b[0mdataframe\u001b[0m\u001b[0;34m.\u001b[0m\u001b[0mset_table_attributes\u001b[0m\u001b[0;34m(\u001b[0m\u001b[0;34m'class=\"dataframe\"'\u001b[0m\u001b[0;34m)\u001b[0m\u001b[0;34m.\u001b[0m\u001b[0m_repr_html_\u001b[0m\u001b[0;34m(\u001b[0m\u001b[0;34m)\u001b[0m  \u001b[0;31m# pylint: disable=protected-access\u001b[0m\u001b[0;34m\u001b[0m\u001b[0;34m\u001b[0m\u001b[0m\n\u001b[0m\u001b[1;32m     88\u001b[0m \u001b[0;34m\u001b[0m\u001b[0m\n\u001b[1;32m     89\u001b[0m   _original_df_formatters[key] = formatters[key].for_type_by_name(\n",
            "\u001b[0;32m/usr/local/lib/python3.9/dist-packages/pandas/io/formats/style.py\u001b[0m in \u001b[0;36m_repr_html_\u001b[0;34m(self)\u001b[0m\n\u001b[1;32m    270\u001b[0m         \"\"\"\n\u001b[1;32m    271\u001b[0m         \u001b[0;32mif\u001b[0m \u001b[0mget_option\u001b[0m\u001b[0;34m(\u001b[0m\u001b[0;34m\"styler.render.repr\"\u001b[0m\u001b[0;34m)\u001b[0m \u001b[0;34m==\u001b[0m \u001b[0;34m\"html\"\u001b[0m\u001b[0;34m:\u001b[0m\u001b[0;34m\u001b[0m\u001b[0;34m\u001b[0m\u001b[0m\n\u001b[0;32m--> 272\u001b[0;31m             \u001b[0;32mreturn\u001b[0m \u001b[0mself\u001b[0m\u001b[0;34m.\u001b[0m\u001b[0mto_html\u001b[0m\u001b[0;34m(\u001b[0m\u001b[0;34m)\u001b[0m\u001b[0;34m\u001b[0m\u001b[0;34m\u001b[0m\u001b[0m\n\u001b[0m\u001b[1;32m    273\u001b[0m         \u001b[0;32mreturn\u001b[0m \u001b[0;32mNone\u001b[0m\u001b[0;34m\u001b[0m\u001b[0;34m\u001b[0m\u001b[0m\n\u001b[1;32m    274\u001b[0m \u001b[0;34m\u001b[0m\u001b[0m\n",
            "\u001b[0;32m/usr/local/lib/python3.9/dist-packages/pandas/io/formats/style.py\u001b[0m in \u001b[0;36mto_html\u001b[0;34m(self, buf, table_uuid, table_attributes, sparse_index, sparse_columns, bold_headers, caption, max_rows, max_columns, encoding, doctype_html, exclude_styles, **kwargs)\u001b[0m\n\u001b[1;32m   1177\u001b[0m \u001b[0;34m\u001b[0m\u001b[0m\n\u001b[1;32m   1178\u001b[0m         \u001b[0;31m# Build HTML string..\u001b[0m\u001b[0;34m\u001b[0m\u001b[0;34m\u001b[0m\u001b[0m\n\u001b[0;32m-> 1179\u001b[0;31m         html = obj._render_html(\n\u001b[0m\u001b[1;32m   1180\u001b[0m             \u001b[0msparse_index\u001b[0m\u001b[0;34m=\u001b[0m\u001b[0msparse_index\u001b[0m\u001b[0;34m,\u001b[0m\u001b[0;34m\u001b[0m\u001b[0;34m\u001b[0m\u001b[0m\n\u001b[1;32m   1181\u001b[0m             \u001b[0msparse_columns\u001b[0m\u001b[0;34m=\u001b[0m\u001b[0msparse_columns\u001b[0m\u001b[0;34m,\u001b[0m\u001b[0;34m\u001b[0m\u001b[0;34m\u001b[0m\u001b[0m\n",
            "\u001b[0;32m/usr/local/lib/python3.9/dist-packages/pandas/io/formats/style_render.py\u001b[0m in \u001b[0;36m_render_html\u001b[0;34m(self, sparse_index, sparse_columns, max_rows, max_cols, **kwargs)\u001b[0m\n\u001b[1;32m    160\u001b[0m         \u001b[0mGenerates\u001b[0m \u001b[0ma\u001b[0m \u001b[0mdict\u001b[0m \u001b[0;32mwith\u001b[0m \u001b[0mnecessary\u001b[0m \u001b[0mkwargs\u001b[0m \u001b[0mpassed\u001b[0m \u001b[0mto\u001b[0m \u001b[0mjinja2\u001b[0m \u001b[0mtemplate\u001b[0m\u001b[0;34m.\u001b[0m\u001b[0;34m\u001b[0m\u001b[0;34m\u001b[0m\u001b[0m\n\u001b[1;32m    161\u001b[0m         \"\"\"\n\u001b[0;32m--> 162\u001b[0;31m         \u001b[0mself\u001b[0m\u001b[0;34m.\u001b[0m\u001b[0m_compute\u001b[0m\u001b[0;34m(\u001b[0m\u001b[0;34m)\u001b[0m\u001b[0;34m\u001b[0m\u001b[0;34m\u001b[0m\u001b[0m\n\u001b[0m\u001b[1;32m    163\u001b[0m         \u001b[0;31m# TODO: namespace all the pandas keys\u001b[0m\u001b[0;34m\u001b[0m\u001b[0;34m\u001b[0m\u001b[0m\n\u001b[1;32m    164\u001b[0m         \u001b[0md\u001b[0m \u001b[0;34m=\u001b[0m \u001b[0mself\u001b[0m\u001b[0;34m.\u001b[0m\u001b[0m_translate\u001b[0m\u001b[0;34m(\u001b[0m\u001b[0msparse_index\u001b[0m\u001b[0;34m,\u001b[0m \u001b[0msparse_columns\u001b[0m\u001b[0;34m,\u001b[0m \u001b[0mmax_rows\u001b[0m\u001b[0;34m,\u001b[0m \u001b[0mmax_cols\u001b[0m\u001b[0;34m)\u001b[0m\u001b[0;34m\u001b[0m\u001b[0;34m\u001b[0m\u001b[0m\n",
            "\u001b[0;32m/usr/local/lib/python3.9/dist-packages/pandas/io/formats/style_render.py\u001b[0m in \u001b[0;36m_compute\u001b[0;34m(self)\u001b[0m\n\u001b[1;32m    203\u001b[0m         \u001b[0mr\u001b[0m \u001b[0;34m=\u001b[0m \u001b[0mself\u001b[0m\u001b[0;34m\u001b[0m\u001b[0;34m\u001b[0m\u001b[0m\n\u001b[1;32m    204\u001b[0m         \u001b[0;32mfor\u001b[0m \u001b[0mfunc\u001b[0m\u001b[0;34m,\u001b[0m \u001b[0margs\u001b[0m\u001b[0;34m,\u001b[0m \u001b[0mkwargs\u001b[0m \u001b[0;32min\u001b[0m \u001b[0mself\u001b[0m\u001b[0;34m.\u001b[0m\u001b[0m_todo\u001b[0m\u001b[0;34m:\u001b[0m\u001b[0;34m\u001b[0m\u001b[0;34m\u001b[0m\u001b[0m\n\u001b[0;32m--> 205\u001b[0;31m             \u001b[0mr\u001b[0m \u001b[0;34m=\u001b[0m \u001b[0mfunc\u001b[0m\u001b[0;34m(\u001b[0m\u001b[0mself\u001b[0m\u001b[0;34m)\u001b[0m\u001b[0;34m(\u001b[0m\u001b[0;34m*\u001b[0m\u001b[0margs\u001b[0m\u001b[0;34m,\u001b[0m \u001b[0;34m**\u001b[0m\u001b[0mkwargs\u001b[0m\u001b[0;34m)\u001b[0m\u001b[0;34m\u001b[0m\u001b[0;34m\u001b[0m\u001b[0m\n\u001b[0m\u001b[1;32m    206\u001b[0m         \u001b[0;32mreturn\u001b[0m \u001b[0mr\u001b[0m\u001b[0;34m\u001b[0m\u001b[0;34m\u001b[0m\u001b[0m\n\u001b[1;32m    207\u001b[0m \u001b[0;34m\u001b[0m\u001b[0m\n",
            "\u001b[0;32m/usr/local/lib/python3.9/dist-packages/pandas/io/formats/style.py\u001b[0m in \u001b[0;36m_apply\u001b[0;34m(self, func, axis, subset, **kwargs)\u001b[0m\n\u001b[1;32m   1440\u001b[0m             \u001b[0maxis\u001b[0m \u001b[0;34m=\u001b[0m \u001b[0mself\u001b[0m\u001b[0;34m.\u001b[0m\u001b[0mdata\u001b[0m\u001b[0;34m.\u001b[0m\u001b[0m_get_axis_number\u001b[0m\u001b[0;34m(\u001b[0m\u001b[0maxis\u001b[0m\u001b[0;34m)\u001b[0m\u001b[0;34m\u001b[0m\u001b[0;34m\u001b[0m\u001b[0m\n\u001b[1;32m   1441\u001b[0m             \u001b[0;32mif\u001b[0m \u001b[0maxis\u001b[0m \u001b[0;34m==\u001b[0m \u001b[0;36m0\u001b[0m\u001b[0;34m:\u001b[0m\u001b[0;34m\u001b[0m\u001b[0;34m\u001b[0m\u001b[0m\n\u001b[0;32m-> 1442\u001b[0;31m                 \u001b[0mresult\u001b[0m \u001b[0;34m=\u001b[0m \u001b[0mdata\u001b[0m\u001b[0;34m.\u001b[0m\u001b[0mapply\u001b[0m\u001b[0;34m(\u001b[0m\u001b[0mfunc\u001b[0m\u001b[0;34m,\u001b[0m \u001b[0maxis\u001b[0m\u001b[0;34m=\u001b[0m\u001b[0;36m0\u001b[0m\u001b[0;34m,\u001b[0m \u001b[0;34m**\u001b[0m\u001b[0mkwargs\u001b[0m\u001b[0;34m)\u001b[0m\u001b[0;34m\u001b[0m\u001b[0;34m\u001b[0m\u001b[0m\n\u001b[0m\u001b[1;32m   1443\u001b[0m             \u001b[0;32melse\u001b[0m\u001b[0;34m:\u001b[0m\u001b[0;34m\u001b[0m\u001b[0;34m\u001b[0m\u001b[0m\n\u001b[1;32m   1444\u001b[0m                 \u001b[0mresult\u001b[0m \u001b[0;34m=\u001b[0m \u001b[0mdata\u001b[0m\u001b[0;34m.\u001b[0m\u001b[0mT\u001b[0m\u001b[0;34m.\u001b[0m\u001b[0mapply\u001b[0m\u001b[0;34m(\u001b[0m\u001b[0mfunc\u001b[0m\u001b[0;34m,\u001b[0m \u001b[0maxis\u001b[0m\u001b[0;34m=\u001b[0m\u001b[0;36m0\u001b[0m\u001b[0;34m,\u001b[0m \u001b[0;34m**\u001b[0m\u001b[0mkwargs\u001b[0m\u001b[0;34m)\u001b[0m\u001b[0;34m.\u001b[0m\u001b[0mT\u001b[0m  \u001b[0;31m# see GH 42005\u001b[0m\u001b[0;34m\u001b[0m\u001b[0;34m\u001b[0m\u001b[0m\n",
            "\u001b[0;32m/usr/local/lib/python3.9/dist-packages/pandas/core/frame.py\u001b[0m in \u001b[0;36mapply\u001b[0;34m(self, func, axis, raw, result_type, args, **kwargs)\u001b[0m\n\u001b[1;32m   8846\u001b[0m             \u001b[0mkwargs\u001b[0m\u001b[0;34m=\u001b[0m\u001b[0mkwargs\u001b[0m\u001b[0;34m,\u001b[0m\u001b[0;34m\u001b[0m\u001b[0;34m\u001b[0m\u001b[0m\n\u001b[1;32m   8847\u001b[0m         )\n\u001b[0;32m-> 8848\u001b[0;31m         \u001b[0;32mreturn\u001b[0m \u001b[0mop\u001b[0m\u001b[0;34m.\u001b[0m\u001b[0mapply\u001b[0m\u001b[0;34m(\u001b[0m\u001b[0;34m)\u001b[0m\u001b[0;34m.\u001b[0m\u001b[0m__finalize__\u001b[0m\u001b[0;34m(\u001b[0m\u001b[0mself\u001b[0m\u001b[0;34m,\u001b[0m \u001b[0mmethod\u001b[0m\u001b[0;34m=\u001b[0m\u001b[0;34m\"apply\"\u001b[0m\u001b[0;34m)\u001b[0m\u001b[0;34m\u001b[0m\u001b[0;34m\u001b[0m\u001b[0m\n\u001b[0m\u001b[1;32m   8849\u001b[0m \u001b[0;34m\u001b[0m\u001b[0m\n\u001b[1;32m   8850\u001b[0m     def applymap(\n",
            "\u001b[0;32m/usr/local/lib/python3.9/dist-packages/pandas/core/apply.py\u001b[0m in \u001b[0;36mapply\u001b[0;34m(self)\u001b[0m\n\u001b[1;32m    731\u001b[0m             \u001b[0;32mreturn\u001b[0m \u001b[0mself\u001b[0m\u001b[0;34m.\u001b[0m\u001b[0mapply_raw\u001b[0m\u001b[0;34m(\u001b[0m\u001b[0;34m)\u001b[0m\u001b[0;34m\u001b[0m\u001b[0;34m\u001b[0m\u001b[0m\n\u001b[1;32m    732\u001b[0m \u001b[0;34m\u001b[0m\u001b[0m\n\u001b[0;32m--> 733\u001b[0;31m         \u001b[0;32mreturn\u001b[0m \u001b[0mself\u001b[0m\u001b[0;34m.\u001b[0m\u001b[0mapply_standard\u001b[0m\u001b[0;34m(\u001b[0m\u001b[0;34m)\u001b[0m\u001b[0;34m\u001b[0m\u001b[0;34m\u001b[0m\u001b[0m\n\u001b[0m\u001b[1;32m    734\u001b[0m \u001b[0;34m\u001b[0m\u001b[0m\n\u001b[1;32m    735\u001b[0m     \u001b[0;32mdef\u001b[0m \u001b[0magg\u001b[0m\u001b[0;34m(\u001b[0m\u001b[0mself\u001b[0m\u001b[0;34m)\u001b[0m\u001b[0;34m:\u001b[0m\u001b[0;34m\u001b[0m\u001b[0;34m\u001b[0m\u001b[0m\n",
            "\u001b[0;32m/usr/local/lib/python3.9/dist-packages/pandas/core/apply.py\u001b[0m in \u001b[0;36mapply_standard\u001b[0;34m(self)\u001b[0m\n\u001b[1;32m    855\u001b[0m \u001b[0;34m\u001b[0m\u001b[0m\n\u001b[1;32m    856\u001b[0m     \u001b[0;32mdef\u001b[0m \u001b[0mapply_standard\u001b[0m\u001b[0;34m(\u001b[0m\u001b[0mself\u001b[0m\u001b[0;34m)\u001b[0m\u001b[0;34m:\u001b[0m\u001b[0;34m\u001b[0m\u001b[0;34m\u001b[0m\u001b[0m\n\u001b[0;32m--> 857\u001b[0;31m         \u001b[0mresults\u001b[0m\u001b[0;34m,\u001b[0m \u001b[0mres_index\u001b[0m \u001b[0;34m=\u001b[0m \u001b[0mself\u001b[0m\u001b[0;34m.\u001b[0m\u001b[0mapply_series_generator\u001b[0m\u001b[0;34m(\u001b[0m\u001b[0;34m)\u001b[0m\u001b[0;34m\u001b[0m\u001b[0;34m\u001b[0m\u001b[0m\n\u001b[0m\u001b[1;32m    858\u001b[0m \u001b[0;34m\u001b[0m\u001b[0m\n\u001b[1;32m    859\u001b[0m         \u001b[0;31m# wrap results\u001b[0m\u001b[0;34m\u001b[0m\u001b[0;34m\u001b[0m\u001b[0m\n",
            "\u001b[0;32m/usr/local/lib/python3.9/dist-packages/pandas/core/apply.py\u001b[0m in \u001b[0;36mapply_series_generator\u001b[0;34m(self)\u001b[0m\n\u001b[1;32m    871\u001b[0m             \u001b[0;32mfor\u001b[0m \u001b[0mi\u001b[0m\u001b[0;34m,\u001b[0m \u001b[0mv\u001b[0m \u001b[0;32min\u001b[0m \u001b[0menumerate\u001b[0m\u001b[0;34m(\u001b[0m\u001b[0mseries_gen\u001b[0m\u001b[0;34m)\u001b[0m\u001b[0;34m:\u001b[0m\u001b[0;34m\u001b[0m\u001b[0;34m\u001b[0m\u001b[0m\n\u001b[1;32m    872\u001b[0m                 \u001b[0;31m# ignore SettingWithCopy here in case the user mutates\u001b[0m\u001b[0;34m\u001b[0m\u001b[0;34m\u001b[0m\u001b[0m\n\u001b[0;32m--> 873\u001b[0;31m                 \u001b[0mresults\u001b[0m\u001b[0;34m[\u001b[0m\u001b[0mi\u001b[0m\u001b[0;34m]\u001b[0m \u001b[0;34m=\u001b[0m \u001b[0mself\u001b[0m\u001b[0;34m.\u001b[0m\u001b[0mf\u001b[0m\u001b[0;34m(\u001b[0m\u001b[0mv\u001b[0m\u001b[0;34m)\u001b[0m\u001b[0;34m\u001b[0m\u001b[0;34m\u001b[0m\u001b[0m\n\u001b[0m\u001b[1;32m    874\u001b[0m                 \u001b[0;32mif\u001b[0m \u001b[0misinstance\u001b[0m\u001b[0;34m(\u001b[0m\u001b[0mresults\u001b[0m\u001b[0;34m[\u001b[0m\u001b[0mi\u001b[0m\u001b[0;34m]\u001b[0m\u001b[0;34m,\u001b[0m \u001b[0mABCSeries\u001b[0m\u001b[0;34m)\u001b[0m\u001b[0;34m:\u001b[0m\u001b[0;34m\u001b[0m\u001b[0;34m\u001b[0m\u001b[0m\n\u001b[1;32m    875\u001b[0m                     \u001b[0;31m# If we have a view on v, we need to make a copy because\u001b[0m\u001b[0;34m\u001b[0m\u001b[0;34m\u001b[0m\u001b[0m\n",
            "\u001b[0;32m/usr/local/lib/python3.9/dist-packages/pandas/core/apply.py\u001b[0m in \u001b[0;36mf\u001b[0;34m(x)\u001b[0m\n\u001b[1;32m    136\u001b[0m \u001b[0;34m\u001b[0m\u001b[0m\n\u001b[1;32m    137\u001b[0m             \u001b[0;32mdef\u001b[0m \u001b[0mf\u001b[0m\u001b[0;34m(\u001b[0m\u001b[0mx\u001b[0m\u001b[0;34m)\u001b[0m\u001b[0;34m:\u001b[0m\u001b[0;34m\u001b[0m\u001b[0;34m\u001b[0m\u001b[0m\n\u001b[0;32m--> 138\u001b[0;31m                 \u001b[0;32mreturn\u001b[0m \u001b[0mfunc\u001b[0m\u001b[0;34m(\u001b[0m\u001b[0mx\u001b[0m\u001b[0;34m,\u001b[0m \u001b[0;34m*\u001b[0m\u001b[0margs\u001b[0m\u001b[0;34m,\u001b[0m \u001b[0;34m**\u001b[0m\u001b[0mkwargs\u001b[0m\u001b[0;34m)\u001b[0m\u001b[0;34m\u001b[0m\u001b[0;34m\u001b[0m\u001b[0m\n\u001b[0m\u001b[1;32m    139\u001b[0m \u001b[0;34m\u001b[0m\u001b[0m\n\u001b[1;32m    140\u001b[0m         \u001b[0;32melse\u001b[0m\u001b[0;34m:\u001b[0m\u001b[0;34m\u001b[0m\u001b[0;34m\u001b[0m\u001b[0m\n",
            "\u001b[0;32m/usr/local/lib/python3.9/dist-packages/pandas/io/formats/style.py\u001b[0m in \u001b[0;36m_bar\u001b[0;34m(data, align, colors, cmap, width, height, vmin, vmax, base_css)\u001b[0m\n\u001b[1;32m   3847\u001b[0m     \u001b[0;32massert\u001b[0m \u001b[0misinstance\u001b[0m\u001b[0;34m(\u001b[0m\u001b[0malign\u001b[0m\u001b[0;34m,\u001b[0m \u001b[0mstr\u001b[0m\u001b[0;34m)\u001b[0m  \u001b[0;31m# mypy: should now be in [left, right, mid, zero]\u001b[0m\u001b[0;34m\u001b[0m\u001b[0;34m\u001b[0m\u001b[0m\n\u001b[1;32m   3848\u001b[0m     \u001b[0;32mif\u001b[0m \u001b[0mdata\u001b[0m\u001b[0;34m.\u001b[0m\u001b[0mndim\u001b[0m \u001b[0;34m==\u001b[0m \u001b[0;36m1\u001b[0m\u001b[0;34m:\u001b[0m\u001b[0;34m\u001b[0m\u001b[0;34m\u001b[0m\u001b[0m\n\u001b[0;32m-> 3849\u001b[0;31m         return [\n\u001b[0m\u001b[1;32m   3850\u001b[0m             css_calc(\n\u001b[1;32m   3851\u001b[0m                 \u001b[0mx\u001b[0m \u001b[0;34m-\u001b[0m \u001b[0mz\u001b[0m\u001b[0;34m,\u001b[0m \u001b[0mleft\u001b[0m \u001b[0;34m-\u001b[0m \u001b[0mz\u001b[0m\u001b[0;34m,\u001b[0m \u001b[0mright\u001b[0m \u001b[0;34m-\u001b[0m \u001b[0mz\u001b[0m\u001b[0;34m,\u001b[0m \u001b[0malign\u001b[0m\u001b[0;34m,\u001b[0m \u001b[0mcolors\u001b[0m \u001b[0;32mif\u001b[0m \u001b[0mrgbas\u001b[0m \u001b[0;32mis\u001b[0m \u001b[0;32mNone\u001b[0m \u001b[0;32melse\u001b[0m \u001b[0mrgbas\u001b[0m\u001b[0;34m[\u001b[0m\u001b[0mi\u001b[0m\u001b[0;34m]\u001b[0m\u001b[0;34m\u001b[0m\u001b[0;34m\u001b[0m\u001b[0m\n",
            "\u001b[0;32m/usr/local/lib/python3.9/dist-packages/pandas/io/formats/style.py\u001b[0m in \u001b[0;36m<listcomp>\u001b[0;34m(.0)\u001b[0m\n\u001b[1;32m   3848\u001b[0m     \u001b[0;32mif\u001b[0m \u001b[0mdata\u001b[0m\u001b[0;34m.\u001b[0m\u001b[0mndim\u001b[0m \u001b[0;34m==\u001b[0m \u001b[0;36m1\u001b[0m\u001b[0;34m:\u001b[0m\u001b[0;34m\u001b[0m\u001b[0;34m\u001b[0m\u001b[0m\n\u001b[1;32m   3849\u001b[0m         return [\n\u001b[0;32m-> 3850\u001b[0;31m             css_calc(\n\u001b[0m\u001b[1;32m   3851\u001b[0m                 \u001b[0mx\u001b[0m \u001b[0;34m-\u001b[0m \u001b[0mz\u001b[0m\u001b[0;34m,\u001b[0m \u001b[0mleft\u001b[0m \u001b[0;34m-\u001b[0m \u001b[0mz\u001b[0m\u001b[0;34m,\u001b[0m \u001b[0mright\u001b[0m \u001b[0;34m-\u001b[0m \u001b[0mz\u001b[0m\u001b[0;34m,\u001b[0m \u001b[0malign\u001b[0m\u001b[0;34m,\u001b[0m \u001b[0mcolors\u001b[0m \u001b[0;32mif\u001b[0m \u001b[0mrgbas\u001b[0m \u001b[0;32mis\u001b[0m \u001b[0;32mNone\u001b[0m \u001b[0;32melse\u001b[0m \u001b[0mrgbas\u001b[0m\u001b[0;34m[\u001b[0m\u001b[0mi\u001b[0m\u001b[0;34m]\u001b[0m\u001b[0;34m\u001b[0m\u001b[0;34m\u001b[0m\u001b[0m\n\u001b[1;32m   3852\u001b[0m             )\n",
            "\u001b[0;32m/usr/local/lib/python3.9/dist-packages/pandas/io/formats/style.py\u001b[0m in \u001b[0;36mcss_calc\u001b[0;34m(x, left, right, align, color)\u001b[0m\n\u001b[1;32m   3764\u001b[0m \u001b[0;34m\u001b[0m\u001b[0m\n\u001b[1;32m   3765\u001b[0m         \u001b[0;32mif\u001b[0m \u001b[0misinstance\u001b[0m\u001b[0;34m(\u001b[0m\u001b[0mcolor\u001b[0m\u001b[0;34m,\u001b[0m \u001b[0;34m(\u001b[0m\u001b[0mlist\u001b[0m\u001b[0;34m,\u001b[0m \u001b[0mtuple\u001b[0m\u001b[0;34m)\u001b[0m\u001b[0;34m)\u001b[0m\u001b[0;34m:\u001b[0m\u001b[0;34m\u001b[0m\u001b[0;34m\u001b[0m\u001b[0m\n\u001b[0;32m-> 3766\u001b[0;31m             \u001b[0mcolor\u001b[0m \u001b[0;34m=\u001b[0m \u001b[0mcolor\u001b[0m\u001b[0;34m[\u001b[0m\u001b[0;36m0\u001b[0m\u001b[0;34m]\u001b[0m \u001b[0;32mif\u001b[0m \u001b[0mx\u001b[0m \u001b[0;34m<\u001b[0m \u001b[0;36m0\u001b[0m \u001b[0;32melse\u001b[0m \u001b[0mcolor\u001b[0m\u001b[0;34m[\u001b[0m\u001b[0;36m1\u001b[0m\u001b[0;34m]\u001b[0m\u001b[0;34m\u001b[0m\u001b[0;34m\u001b[0m\u001b[0m\n\u001b[0m\u001b[1;32m   3767\u001b[0m         \u001b[0;32massert\u001b[0m \u001b[0misinstance\u001b[0m\u001b[0;34m(\u001b[0m\u001b[0mcolor\u001b[0m\u001b[0;34m,\u001b[0m \u001b[0mstr\u001b[0m\u001b[0;34m)\u001b[0m  \u001b[0;31m# mypy redefinition\u001b[0m\u001b[0;34m\u001b[0m\u001b[0;34m\u001b[0m\u001b[0m\n\u001b[1;32m   3768\u001b[0m \u001b[0;34m\u001b[0m\u001b[0m\n",
            "\u001b[0;31mIndexError\u001b[0m: list index out of range"
          ]
        },
        {
          "output_type": "execute_result",
          "data": {
            "text/plain": [
              "<pandas.io.formats.style.Styler at 0x7fef124dbeb0>"
            ]
          },
          "metadata": {},
          "execution_count": 89
        }
      ],
      "source": [
        "# missing values in training data set\n",
        "\n",
        "# lets calculate the total missing values in the dataset\n",
        "train_total = train.isnull().sum()\n",
        "\n",
        "# lets calculate the percentage of missing values in the dataset\n",
        "train_percent = ((train.isnull().sum()/train.shape[0])*100).round(2)\n",
        "\n",
        "# lets calculate the total missing values in the dataset\n",
        "test_total = test.isnull().sum()\n",
        "\n",
        "# lets calculate the percentage of missing values in the dataset\n",
        "test_percent = ((test.isnull().sum()/test.shape[0])*100).round(2)\n",
        "\n",
        "# lets make a dataset consisting of total no. of missing values and percentage of missing values in the dataset\n",
        "train_missing_data = pd.concat([train_total, train_percent, test_total, test_percent],\n",
        "                                axis=1, \n",
        "                                keys=['Train_Total', 'Train_Percent %','Test_Total', 'Test_Percent %'],\n",
        "                                sort = True)\n",
        "\n",
        "# lets check the head\n",
        "train_missing_data.style.bar(color = ['gold'])"
      ]
    },
    {
      "cell_type": "raw",
      "metadata": {
        "id": "z0pj8-tXuujp"
      },
      "source": [
        "We can see from the above table, that Only two columns have missing values in Train and Test Dataset both. Also, the Percentage of Missing values is around 4 and 7% in education, and previous_year_rating respectively. So, do not have delete any missing values, we can simply impute the values using Mean, Median, and Mode Values. "
      ]
    },
    {
      "cell_type": "code",
      "execution_count": 90,
      "metadata": {
        "colab": {
          "base_uri": "https://localhost:8080/"
        },
        "id": "KvLhbKxWuujp",
        "outputId": "75b525b3-2d32-415a-8568-51ae72bf6d57"
      },
      "outputs": [
        {
          "output_type": "stream",
          "name": "stdout",
          "text": [
            "Number of Missing Values Left in the Training Data : 0\n"
          ]
        }
      ],
      "source": [
        "# lets impute the missing values in the Training Data\n",
        "\n",
        "train['education'] = train['education'].fillna(train['education'].mode()[0])\n",
        "train['previous_year_rating'] = train['previous_year_rating'].fillna(train['previous_year_rating'].mode()[0])\n",
        "\n",
        "# lets check whether the Null values are still present or not?\n",
        "print(\"Number of Missing Values Left in the Training Data :\", train.isnull().sum().sum())"
      ]
    },
    {
      "cell_type": "code",
      "execution_count": 91,
      "metadata": {
        "colab": {
          "base_uri": "https://localhost:8080/"
        },
        "id": "KT3FDntAuujp",
        "outputId": "483e00f5-9f9d-4e18-f2e0-6a4091db5a0d"
      },
      "outputs": [
        {
          "output_type": "stream",
          "name": "stdout",
          "text": [
            "Number of Missing Values Left in the Training Data : 0\n"
          ]
        }
      ],
      "source": [
        "# lets impute the missing values in the Testing Data\n",
        "\n",
        "test['education'] = test['education'].fillna(test['education'].mode()[0])\n",
        "test['previous_year_rating'] = test['previous_year_rating'].fillna(test['previous_year_rating'].mode()[0])\n",
        "\n",
        "# lets check whether the Null values are still present or not?\n",
        "print(\"Number of Missing Values Left in the Training Data :\", test.isnull().sum().sum())"
      ]
    },
    {
      "cell_type": "raw",
      "metadata": {
        "id": "lf5s1ogpuujq"
      },
      "source": [
        "we imputed the missing values, using the Mode values, even for the previous year rating, it only seems to be numerical, but in real it's also categorical.\n",
        "After, Imputing the missing values in the training and testing data set we can see that there are no Null Values left in any of the datasets.\n",
        "\n",
        "So, we are Done with the Treatment of the Missing Values."
      ]
    },
    {
      "cell_type": "markdown",
      "metadata": {
        "id": "MQUersjKuujq"
      },
      "source": [
        "## Outlier Detection\n",
        "\n",
        "The presence of outliers in a classification or regression dataset can result in a poor fit and lower predictive modeling performance. Instead, automatic outlier detection methods can be used in the modeling pipeline and compared, just like other data preparation transforms that may be applied to the dataset."
      ]
    },
    {
      "cell_type": "code",
      "execution_count": 92,
      "metadata": {
        "colab": {
          "base_uri": "https://localhost:8080/",
          "height": 206
        },
        "id": "F4cLN47fuujq",
        "outputId": "4cb9302c-aa4f-4ed7-b591-d26699b6dd45"
      },
      "outputs": [
        {
          "output_type": "execute_result",
          "data": {
            "text/plain": [
              "   employee_id  no_of_trainings  age  previous_year_rating  length_of_service  \\\n",
              "0        65438                1   35                   5.0                  8   \n",
              "1        65141                1   30                   5.0                  4   \n",
              "2         7513                1   34                   3.0                  7   \n",
              "3         2542                2   39                   1.0                 10   \n",
              "4        48945                1   45                   3.0                  2   \n",
              "\n",
              "   KPIs_met >80%  awards_won?  avg_training_score  is_promoted  \n",
              "0              1            0                  49            0  \n",
              "1              0            0                  60            0  \n",
              "2              0            0                  50            0  \n",
              "3              0            0                  50            0  \n",
              "4              0            0                  73            0  "
            ],
            "text/html": [
              "\n",
              "  <div id=\"df-c0b985de-71a9-485d-bcfa-5d456b7bc284\">\n",
              "    <div class=\"colab-df-container\">\n",
              "      <div>\n",
              "<style scoped>\n",
              "    .dataframe tbody tr th:only-of-type {\n",
              "        vertical-align: middle;\n",
              "    }\n",
              "\n",
              "    .dataframe tbody tr th {\n",
              "        vertical-align: top;\n",
              "    }\n",
              "\n",
              "    .dataframe thead th {\n",
              "        text-align: right;\n",
              "    }\n",
              "</style>\n",
              "<table border=\"1\" class=\"dataframe\">\n",
              "  <thead>\n",
              "    <tr style=\"text-align: right;\">\n",
              "      <th></th>\n",
              "      <th>employee_id</th>\n",
              "      <th>no_of_trainings</th>\n",
              "      <th>age</th>\n",
              "      <th>previous_year_rating</th>\n",
              "      <th>length_of_service</th>\n",
              "      <th>KPIs_met &gt;80%</th>\n",
              "      <th>awards_won?</th>\n",
              "      <th>avg_training_score</th>\n",
              "      <th>is_promoted</th>\n",
              "    </tr>\n",
              "  </thead>\n",
              "  <tbody>\n",
              "    <tr>\n",
              "      <th>0</th>\n",
              "      <td>65438</td>\n",
              "      <td>1</td>\n",
              "      <td>35</td>\n",
              "      <td>5.0</td>\n",
              "      <td>8</td>\n",
              "      <td>1</td>\n",
              "      <td>0</td>\n",
              "      <td>49</td>\n",
              "      <td>0</td>\n",
              "    </tr>\n",
              "    <tr>\n",
              "      <th>1</th>\n",
              "      <td>65141</td>\n",
              "      <td>1</td>\n",
              "      <td>30</td>\n",
              "      <td>5.0</td>\n",
              "      <td>4</td>\n",
              "      <td>0</td>\n",
              "      <td>0</td>\n",
              "      <td>60</td>\n",
              "      <td>0</td>\n",
              "    </tr>\n",
              "    <tr>\n",
              "      <th>2</th>\n",
              "      <td>7513</td>\n",
              "      <td>1</td>\n",
              "      <td>34</td>\n",
              "      <td>3.0</td>\n",
              "      <td>7</td>\n",
              "      <td>0</td>\n",
              "      <td>0</td>\n",
              "      <td>50</td>\n",
              "      <td>0</td>\n",
              "    </tr>\n",
              "    <tr>\n",
              "      <th>3</th>\n",
              "      <td>2542</td>\n",
              "      <td>2</td>\n",
              "      <td>39</td>\n",
              "      <td>1.0</td>\n",
              "      <td>10</td>\n",
              "      <td>0</td>\n",
              "      <td>0</td>\n",
              "      <td>50</td>\n",
              "      <td>0</td>\n",
              "    </tr>\n",
              "    <tr>\n",
              "      <th>4</th>\n",
              "      <td>48945</td>\n",
              "      <td>1</td>\n",
              "      <td>45</td>\n",
              "      <td>3.0</td>\n",
              "      <td>2</td>\n",
              "      <td>0</td>\n",
              "      <td>0</td>\n",
              "      <td>73</td>\n",
              "      <td>0</td>\n",
              "    </tr>\n",
              "  </tbody>\n",
              "</table>\n",
              "</div>\n",
              "      <button class=\"colab-df-convert\" onclick=\"convertToInteractive('df-c0b985de-71a9-485d-bcfa-5d456b7bc284')\"\n",
              "              title=\"Convert this dataframe to an interactive table.\"\n",
              "              style=\"display:none;\">\n",
              "        \n",
              "  <svg xmlns=\"http://www.w3.org/2000/svg\" height=\"24px\"viewBox=\"0 0 24 24\"\n",
              "       width=\"24px\">\n",
              "    <path d=\"M0 0h24v24H0V0z\" fill=\"none\"/>\n",
              "    <path d=\"M18.56 5.44l.94 2.06.94-2.06 2.06-.94-2.06-.94-.94-2.06-.94 2.06-2.06.94zm-11 1L8.5 8.5l.94-2.06 2.06-.94-2.06-.94L8.5 2.5l-.94 2.06-2.06.94zm10 10l.94 2.06.94-2.06 2.06-.94-2.06-.94-.94-2.06-.94 2.06-2.06.94z\"/><path d=\"M17.41 7.96l-1.37-1.37c-.4-.4-.92-.59-1.43-.59-.52 0-1.04.2-1.43.59L10.3 9.45l-7.72 7.72c-.78.78-.78 2.05 0 2.83L4 21.41c.39.39.9.59 1.41.59.51 0 1.02-.2 1.41-.59l7.78-7.78 2.81-2.81c.8-.78.8-2.07 0-2.86zM5.41 20L4 18.59l7.72-7.72 1.47 1.35L5.41 20z\"/>\n",
              "  </svg>\n",
              "      </button>\n",
              "      \n",
              "  <style>\n",
              "    .colab-df-container {\n",
              "      display:flex;\n",
              "      flex-wrap:wrap;\n",
              "      gap: 12px;\n",
              "    }\n",
              "\n",
              "    .colab-df-convert {\n",
              "      background-color: #E8F0FE;\n",
              "      border: none;\n",
              "      border-radius: 50%;\n",
              "      cursor: pointer;\n",
              "      display: none;\n",
              "      fill: #1967D2;\n",
              "      height: 32px;\n",
              "      padding: 0 0 0 0;\n",
              "      width: 32px;\n",
              "    }\n",
              "\n",
              "    .colab-df-convert:hover {\n",
              "      background-color: #E2EBFA;\n",
              "      box-shadow: 0px 1px 2px rgba(60, 64, 67, 0.3), 0px 1px 3px 1px rgba(60, 64, 67, 0.15);\n",
              "      fill: #174EA6;\n",
              "    }\n",
              "\n",
              "    [theme=dark] .colab-df-convert {\n",
              "      background-color: #3B4455;\n",
              "      fill: #D2E3FC;\n",
              "    }\n",
              "\n",
              "    [theme=dark] .colab-df-convert:hover {\n",
              "      background-color: #434B5C;\n",
              "      box-shadow: 0px 1px 3px 1px rgba(0, 0, 0, 0.15);\n",
              "      filter: drop-shadow(0px 1px 2px rgba(0, 0, 0, 0.3));\n",
              "      fill: #FFFFFF;\n",
              "    }\n",
              "  </style>\n",
              "\n",
              "      <script>\n",
              "        const buttonEl =\n",
              "          document.querySelector('#df-c0b985de-71a9-485d-bcfa-5d456b7bc284 button.colab-df-convert');\n",
              "        buttonEl.style.display =\n",
              "          google.colab.kernel.accessAllowed ? 'block' : 'none';\n",
              "\n",
              "        async function convertToInteractive(key) {\n",
              "          const element = document.querySelector('#df-c0b985de-71a9-485d-bcfa-5d456b7bc284');\n",
              "          const dataTable =\n",
              "            await google.colab.kernel.invokeFunction('convertToInteractive',\n",
              "                                                     [key], {});\n",
              "          if (!dataTable) return;\n",
              "\n",
              "          const docLinkHtml = 'Like what you see? Visit the ' +\n",
              "            '<a target=\"_blank\" href=https://colab.research.google.com/notebooks/data_table.ipynb>data table notebook</a>'\n",
              "            + ' to learn more about interactive tables.';\n",
              "          element.innerHTML = '';\n",
              "          dataTable['output_type'] = 'display_data';\n",
              "          await google.colab.output.renderOutput(dataTable, element);\n",
              "          const docLink = document.createElement('div');\n",
              "          docLink.innerHTML = docLinkHtml;\n",
              "          element.appendChild(docLink);\n",
              "        }\n",
              "      </script>\n",
              "    </div>\n",
              "  </div>\n",
              "  "
            ]
          },
          "metadata": {},
          "execution_count": 92
        }
      ],
      "source": [
        "# Lets first analyze the Numberical Columns\n",
        "train.select_dtypes('number').head()"
      ]
    },
    {
      "cell_type": "code",
      "execution_count": 93,
      "metadata": {
        "colab": {
          "base_uri": "https://localhost:8080/",
          "height": 393
        },
        "id": "YR5PlJqXuujr",
        "outputId": "127bd6ad-691c-4859-ea81-ef0a7b53e754"
      },
      "outputs": [
        {
          "output_type": "display_data",
          "data": {
            "text/plain": [
              "<Figure size 1080x360 with 2 Axes>"
            ],
            "image/png": "[encoded data removed]"
          },
          "metadata": {}
        }
      ],
      "source": [
        "# lets check the boxplots for the columns where we suspect for outliers\n",
        "plt.rcParams['figure.figsize'] = (15, 5)\n",
        "plt.style.use('fivethirtyeight')\n",
        "\n",
        "# Box plot for average training score\n",
        "plt.subplot(1, 2, 1)\n",
        "sns.boxplot(train['avg_training_score'], color = 'red')\n",
        "plt.xlabel('Average Training Score', fontsize = 12)\n",
        "plt.ylabel('Range', fontsize = 12)\n",
        "\n",
        "# Box plot for length of service\n",
        "plt.subplot(1, 2, 2)\n",
        "sns.boxplot(train['length_of_service'], color = 'red')\n",
        "plt.xlabel('Length of Service', fontsize = 12)\n",
        "plt.ylabel('Range', fontsize = 12)\n",
        "\n",
        "plt.suptitle('Box Plot', fontsize = 20)\n",
        "plt.show()"
      ]
    },
    {
      "cell_type": "raw",
      "metadata": {
        "id": "GbAIWigvuujs"
      },
      "source": [
        "Here, the Box plot, helps us to analyze the middle 50 percentile of the data, and we can clearly check the minimum, maximum, median, and outlier values.\n",
        "\n",
        "In the Length of service attribute, we can see some points after the Max Value, which can be termed to be as Outliers. We do not need to remove these values, as the values are not very far and Huge."
      ]
    },
    {
      "cell_type": "raw",
      "metadata": {
        "id": "j0MT7HxVuujs"
      },
      "source": [
        "We, also check the Distribution of these attributes after checking the Box Plot so that we can be more clear about the Values present in these columns."
      ]
    },
    {
      "cell_type": "code",
      "execution_count": 94,
      "metadata": {
        "id": "a0dA1Nszuujs"
      },
      "outputs": [],
      "source": [
        "# lets remove the outliers from the length of service column\n",
        "\n",
        "train = train[train['length_of_service'] > 13]"
      ]
    },
    {
      "cell_type": "markdown",
      "metadata": {
        "id": "pUqLCgPnuujt"
      },
      "source": [
        "## Univariate Analysis\n",
        "\n",
        "Univariate analysis is perhaps the simplest form of statistical analysis. Like other forms of statistics, it can be inferential or descriptive. The key fact is that only one variable is involved. Univariate analysis can yield misleading results in cases in which multivariate analysis is more appropriate.\n",
        "\n",
        "* This is an Essential step, to understand the variables present in the dataset one by one.\n",
        "* First, we will check the Univariate Analysis for Numerical Columns to check for Outliers by using Box plots.\n",
        "* Then, we will use Distribution plots to check the distribution of the Numerical Columns in the Dataset.\n",
        "* After that we will check the Univariate Analysis for Categorical Columns using Pie charts, and Count plots.\n",
        "* We Use Pie charts, when we have very few categories in the categorical column, and we use count plots we have more categorises in the dataset."
      ]
    },
    {
      "cell_type": "code",
      "execution_count": 95,
      "metadata": {
        "colab": {
          "base_uri": "https://localhost:8080/",
          "height": 343
        },
        "id": "2B0S7HKLuujt",
        "outputId": "cf230c75-3153-44f7-8c91-fd3f0ec34dde"
      },
      "outputs": [
        {
          "output_type": "display_data",
          "data": {
            "text/plain": [
              "<Figure size 1152x360 with 3 Axes>"
            ],
            "image/png": "[encoded data removed]"
          },
          "metadata": {}
        }
      ],
      "source": [
        "# lets plot pie chart for the columns where we have very few categories\n",
        "plt.rcParams['figure.figsize'] = (16,5)\n",
        "plt.style.use('fivethirtyeight')\n",
        "\n",
        "# plotting a pie chart to represent share of Previous year Rating of the Employees\n",
        "plt.subplot(1, 3, 1)\n",
        "labels = ['0','1']\n",
        "sizes = train['KPIs_met >80%'].value_counts()\n",
        "colors = plt.cm.Wistia(np.linspace(0, 1, 5))\n",
        "explode = [0, 0]\n",
        "\n",
        "plt.pie(sizes, labels = labels, colors = colors, explode = explode, shadow = True, startangle = 90)\n",
        "plt.title('KPIs Met > 80%', fontsize = 20)\n",
        "\n",
        "# plotting a pie chart to represent share of Previous year Rating of the Employees\n",
        "plt.subplot(1, 3, 2)\n",
        "labels = ['1', '2', '3', '4', '5']\n",
        "sizes = train['previous_year_rating'].value_counts()\n",
        "colors = plt.cm.Wistia(np.linspace(0, 1, 5))\n",
        "explode = [0, 0, 0, 0, 0.1]\n",
        "\n",
        "plt.pie(sizes, labels = labels, colors = colors, explode = explode, shadow = True, startangle = 90)\n",
        "plt.title('Previous year Ratings', fontsize = 20)\n",
        "\n",
        "# plotting a pie chart to represent share of Previous year Rating of the Employees\n",
        "plt.subplot(1, 3, 3)\n",
        "labels = ['0', '1']\n",
        "sizes = train['awards_won?'].value_counts()\n",
        "colors = plt.cm.Wistia(np.linspace(0, 1, 5))\n",
        "explode = [0,0.1]\n",
        "\n",
        "plt.pie(sizes, labels = labels, colors = colors, explode = explode, shadow = True, startangle = 90)\n",
        "plt.title('Awards Won?', fontsize = 20)\n",
        "\n",
        "\n",
        "plt.legend()\n",
        "plt.show()"
      ]
    },
    {
      "cell_type": "raw",
      "metadata": {
        "id": "7pohJSoIuuju"
      },
      "source": [
        "We, can see that there are some pie charts, we have for representing KPIs, Previous year Ratings, and Awards Won?\n",
        "\n",
        "Also, The one Big Pattern is that only some of the employees could reach above 80% of KPIs set.\n",
        "Most of the Employees have a very low rating for the previous year, and\n",
        "very few employees, probably 2% of them could get awards for their work, which is normal."
      ]
    },
    {
      "cell_type": "code",
      "source": [
        "train.columns"
      ],
      "metadata": {
        "colab": {
          "base_uri": "https://localhost:8080/"
        },
        "id": "x5Nj3cLVvVp7",
        "outputId": "8b279e59-9d41-4f13-f4ad-74574c7a0975"
      },
      "execution_count": 96,
      "outputs": [
        {
          "output_type": "execute_result",
          "data": {
            "text/plain": [
              "Index(['employee_id', 'department', 'region', 'education', 'gender',\n",
              "       'recruitment_channel', 'no_of_trainings', 'age', 'previous_year_rating',\n",
              "       'length_of_service', 'KPIs_met >80%', 'awards_won?',\n",
              "       'avg_training_score', 'is_promoted'],\n",
              "      dtype='object')"
            ]
          },
          "metadata": {},
          "execution_count": 96
        }
      ]
    },
    {
      "cell_type": "code",
      "execution_count": 97,
      "metadata": {
        "id": "6-sKP31Ouuju"
      },
      "outputs": [],
      "source": [
        "# lets check the distribution of trainings undertaken by the employees\n",
        "\n",
        "# plt.rcParams['figure.figsize'] = (17, 4)\n",
        "# sns.countplot(train['no_of_trainings'], palette = 'spring')\n",
        "# plt.xlabel(' ', fontsize = 14)\n",
        "# plt.title('Distribution of Trainings undertaken by the Employees')\n",
        "# plt.show()"
      ]
    },
    {
      "cell_type": "raw",
      "metadata": {
        "id": "nXbo5RDRuujv"
      },
      "source": [
        "The abov Countplot, where are checking the distribution of trainings undertaken by the Employee, It is clearly visible that 80 % of the employees have taken the training only once, and there are negligible no. of employees, who took trainings more than thrice."
      ]
    },
    {
      "cell_type": "code",
      "execution_count": 98,
      "metadata": {
        "colab": {
          "base_uri": "https://localhost:8080/",
          "height": 322
        },
        "id": "olXj6EBHuujv",
        "outputId": "d1574541-7d7b-458d-9602-22d474877538"
      },
      "outputs": [
        {
          "output_type": "display_data",
          "data": {
            "text/plain": [
              "<Figure size 576x288 with 1 Axes>"
            ],
            "image/png": "[encoded data removed]"
          },
          "metadata": {}
        }
      ],
      "source": [
        "# lets check the Age of the Employees\n",
        "\n",
        "plt.rcParams['figure.figsize'] = (8, 4)\n",
        "plt.hist(train['age'], color = 'black')\n",
        "plt.title('Distribution of Age among the Employees', fontsize = 15)\n",
        "plt.xlabel('Age of the Employees')\n",
        "plt.grid()\n",
        "plt.show()"
      ]
    },
    {
      "cell_type": "code",
      "execution_count": 99,
      "metadata": {
        "colab": {
          "base_uri": "https://localhost:8080/",
          "height": 416
        },
        "id": "Z9XgjB7Zuujv",
        "outputId": "5235dc8d-1d04-4650-bf85-9c010b85c99e"
      },
      "outputs": [
        {
          "output_type": "display_data",
          "data": {
            "text/plain": [
              "<Figure size 864x432 with 1 Axes>"
            ],
            "image/png": "[encoded data removed]"
          },
          "metadata": {}
        }
      ],
      "source": [
        "# lets check different Departments\n",
        "\n",
        "plt.rcParams['figure.figsize'] = (12, 6)\n",
        "sns.countplot(y = train['department'], palette = 'cividis', orient = 'v')\n",
        "plt.xlabel('')\n",
        "plt.ylabel('Department Name')\n",
        "plt.title('Distribution of Employees in Different Departments', fontsize = 15)\n",
        "plt.grid()\n",
        "\n",
        "plt.show()"
      ]
    },
    {
      "cell_type": "code",
      "execution_count": 100,
      "metadata": {
        "colab": {
          "base_uri": "https://localhost:8080/",
          "height": 963
        },
        "id": "2JQ6aR4Luujw",
        "outputId": "82e801e9-1493-4983-c2f5-9f8b66fcb89e"
      },
      "outputs": [
        {
          "output_type": "display_data",
          "data": {
            "text/plain": [
              "<Figure size 864x1080 with 1 Axes>"
            ],
            "image/png": "[encoded data removed]"
          },
          "metadata": {}
        }
      ],
      "source": [
        "# lets check distribution of different Regions\n",
        "\n",
        "plt.rcParams['figure.figsize'] = (12,15)\n",
        "plt.style.use('fivethirtyeight')\n",
        "sns.countplot(y = train['region'], palette = 'inferno', orient = 'v')\n",
        "plt.xlabel('')\n",
        "plt.ylabel('Region')\n",
        "plt.title('Different Regions', fontsize = 15)\n",
        "plt.xticks(rotation = 90)\n",
        "plt.grid()\n",
        "plt.show()"
      ]
    },
    {
      "cell_type": "code",
      "execution_count": 101,
      "metadata": {
        "id": "j0_WNprkuujw"
      },
      "outputs": [],
      "source": [
        "# # lets plot pie chart for the columns where we have very few categories\n",
        "# plt.rcParams['figure.figsize'] = (16,5)\n",
        "\n",
        "# # plotting a pie chart to represent share of Previous year Rating of the Employees\n",
        "# plt.subplot(1, 3, 1)\n",
        "# labels = train['education'].value_counts().index\n",
        "# sizes = train['education'].value_counts()\n",
        "# colors = plt.cm.copper(np.linspace(0, 1, 5))\n",
        "# explode = [0, 0, 0.1]\n",
        "\n",
        "# plt.pie(sizes, labels = labels, colors = colors, explode = explode, shadow = True, startangle = 90)\n",
        "# plt.title('Education', fontsize = 20)\n",
        "\n",
        "# # plotting a pie chart to represent share of Previous year Rating of the Employees\n",
        "# plt.subplot(1, 3, 2)\n",
        "# labels = train['gender'].value_counts().index\n",
        "# sizes = train['gender'].value_counts()\n",
        "# colors = plt.cm.copper(np.linspace(0, 1, 5))\n",
        "# explode = [0, 0]\n",
        "\n",
        "# plt.pie(sizes, labels = labels, colors = colors, explode = explode, shadow = True, startangle = 90)\n",
        "# plt.title('Gender', fontsize = 20)\n",
        "\n",
        "# # plotting a pie chart to represent share of Previous year Rating of the Employees\n",
        "# plt.subplot(1, 3, 3)\n",
        "# labels = train['recruitment_channel'].value_counts().index\n",
        "# sizes = train['recruitment_channel'].value_counts()\n",
        "# colors = plt.cm.copper(np.linspace(0, 1, 5))\n",
        "# explode = [0,0,0.1]\n",
        "\n",
        "# plt.pie(sizes, labels = labels, colors = colors, explode = explode, shadow = True, startangle = 90)\n",
        "# plt.title('Recruitment Channel', fontsize = 20)\n",
        "\n",
        "# plt.show()"
      ]
    },
    {
      "cell_type": "raw",
      "metadata": {
        "id": "eWuaVFKruujx"
      },
      "source": [
        "From, the above pie charts displayed for representing Education, Gender, and Recruitment Channel.\n",
        "\n",
        "lets infer the Main Highlights\n",
        "Very Few employees are actually working only after their Secondary Education, \n",
        "Obviously Females are again in Minority as compared to their Male Counterparts.\n",
        "and the Recruitment Channel, says that the Referred Employees are very less, i.e., most of the employees are recruited either by sourcing, or some other recruitment agencies, sources etc."
      ]
    },
    {
      "cell_type": "markdown",
      "metadata": {
        "id": "hayeXCc9uujx"
      },
      "source": [
        "## Bivariate Analysis\n",
        "\n",
        "Bivariate analysis is one of the simplest forms of quantitative analysis. It involves the analysis of two variables, for the purpose of determining the empirical relationship between them. Bivariate analysis can be helpful in testing simple hypotheses of association.\n",
        "\n",
        "* Types of Bivariate Analysis\n",
        "    * Categorical vs Categorical \n",
        "    * Categorical vs Numerical\n",
        "    * Numerical vs Numerical\n",
        "    \n",
        "* First, we will perform Categorical vs Categorical Analysis using Stacked and Grouped Bar Charts with the help of crosstab function.\n",
        "* Second, we will perform Categorical vs Numerical Analysis using Bar Charts, Box plots, Strip plots, Swarm plots, Boxen plots, Violin Plots, etc\n",
        "* Atlast, we will perform Numerical vs Numerical Analysis using Scatter plots."
      ]
    },
    {
      "cell_type": "code",
      "execution_count": 102,
      "metadata": {
        "id": "anB-rgw0uujx"
      },
      "outputs": [],
      "source": [
        "# # Lets compare the Gender Gap in the promotion\n",
        "\n",
        "# import warnings\n",
        "# warnings.filterwarnings('ignore')\n",
        "\n",
        "# plt.rcParams['figure.figsize'] = (15, 3)\n",
        "# x = pd.crosstab(train['gender'], train['is_promoted'])\n",
        "# colors = plt.cm.Wistia(np.linspace(0, 1, 5))\n",
        "# x.div(x.sum(1).astype(float), axis = 0).plot(kind = 'bar', stacked = False, colors = colors)\n",
        "# plt.title('Effect of Gender on Promotion', fontsize = 15)\n",
        "# plt.xlabel(' ')\n",
        "# plt.show()"
      ]
    },
    {
      "cell_type": "raw",
      "metadata": {
        "id": "6Z2LECRHuujy"
      },
      "source": [
        "As we have already seen that the Females are in Minority, but when it comes to Promotion, they are competing with their Men Counterparts neck-to-neck. That's a great Inference."
      ]
    },
    {
      "cell_type": "code",
      "execution_count": 103,
      "metadata": {
        "id": "kEQHvFnfuujy"
      },
      "outputs": [],
      "source": [
        "# lets compare the effect of different Departments and Promotion\n",
        "\n",
        "# plt.rcParams['figure.figsize'] = (15,4)\n",
        "# x = pd.crosstab(train['department'], train['is_promoted'])\n",
        "# colors = plt.cm.copper(np.linspace(0, 1, 3))\n",
        "# x.div(x.sum(1).astype(float), axis = 0).plot(kind = 'area', stacked = False, colors = colors)\n",
        "# plt.title('Effect of Department on Promotion', fontsize = 15)\n",
        "# plt.xticks(rotation = 20)\n",
        "# plt.xlabel(' ')\n",
        "# plt.show()"
      ]
    },
    {
      "cell_type": "raw",
      "metadata": {
        "id": "Dji-DKvluujz"
      },
      "source": [
        "From, the above chart we can see that almost all the Departments have a very similar effect on Promotion. So, we can consider that all the Departments have a similar effect on the promotion. Also, this column comes out to be lesser important in making a Machine Learning Model, as it does not contribute at all when it comes to Predicting whether the Employee should get Promotion."
      ]
    },
    {
      "cell_type": "code",
      "execution_count": 104,
      "metadata": {
        "id": "exlazBpquujz"
      },
      "outputs": [],
      "source": [
        "# Effect of Age on the Promotion\n",
        "\n",
        "# plt.rcParams['figure.figsize'] = (15,4)\n",
        "# sns.boxenplot(train['is_promoted'], palette = 'PuRd')\n",
        "# plt.title('Effect of Age on Promotion', fontsize = 15)\n",
        "# plt.xlabel('Is the Employee Promoted?', fontsize = 10)\n",
        "# plt.ylabel('Age of the Employee', fontsize = 10)\n",
        "# plt.show()"
      ]
    },
    {
      "cell_type": "code",
      "execution_count": 105,
      "metadata": {
        "id": "icbAGEdXuujz"
      },
      "outputs": [],
      "source": [
        "# Department Vs Average Training Score\n",
        "\n",
        "# plt.rcParams['figure.figsize'] = (16, 7)\n",
        "# sns.boxplot(train['department'], train['avg_training_score'], palette = 'autumn')\n",
        "# plt.title('Average Training Scores from each Department', fontsize = 15)\n",
        "# plt.ylabel('Promoted or not', fontsize = 10)\n",
        "# plt.xlabel('Departments', fontsize = 10)\n",
        "# plt.show()"
      ]
    },
    {
      "cell_type": "markdown",
      "metadata": {
        "id": "gXVW1DQEuuj0"
      },
      "source": [
        "## Multivariate Analysis\n",
        "\n",
        "Multivariate analysis is based on the principles of multivariate statistics, which involves observation and analysis of more than one statistical outcome variable at a time.\n",
        "\n",
        "* First, we will use the Correlation Heatmap to check the correlation between the Numerical Columns\n",
        "* Then we will check the ppscore or the Predictive Score to check the correlation between all the columns present in the data.\n",
        "* Then, we will use Bubble Charts, split Violin plots, Hue with Bivariate Plots."
      ]
    },
    {
      "cell_type": "code",
      "execution_count": 106,
      "metadata": {
        "colab": {
          "base_uri": "https://localhost:8080/",
          "height": 666
        },
        "id": "n4l_63suuuj0",
        "outputId": "8d22060e-fb47-464b-b33b-def53234de15"
      },
      "outputs": [
        {
          "output_type": "display_data",
          "data": {
            "text/plain": [
              "<Figure size 1080x576 with 2 Axes>"
            ],
            "image/png": "[encoded data removed]"
          },
          "metadata": {}
        }
      ],
      "source": [
        "# lets check the Heat Map for the Data with respect to correlation.\n",
        "\n",
        "plt.rcParams['figure.figsize'] = (15, 8)\n",
        "sns.heatmap(train.corr(), annot = True, linewidth = 0.5, cmap = 'Wistia')\n",
        "plt.title('Correlation Heat Map', fontsize = 15)\n",
        "plt.show()"
      ]
    },
    {
      "cell_type": "raw",
      "metadata": {
        "id": "lkq30Gu-uuj0"
      },
      "source": [
        "Here, we can see some obvious results, that is Length of Service, and Age are Highly Correlated,\n",
        "Also, KPIs, and Previous year rating are correlated to some extent, hinting that there is some relation."
      ]
    },
    {
      "cell_type": "code",
      "execution_count": 107,
      "metadata": {
        "id": "SU7wQPJIuuj1"
      },
      "outputs": [],
      "source": [
        "# lets check the relation of Departments and Promotions when they won awards ?\n",
        "\n",
        "# plt.rcParams['figure.figsize'] = (16, 7)\n",
        "# sns.barplot(train['department'], train['avg_training_score'], hue = train['gender'], palette = 'autumn')\n",
        "# plt.title('Chances of Promotion in each Department when they have won some Awards too', fontsize = 15)\n",
        "# plt.ylabel('Promoted or not', fontsize = 10)\n",
        "# plt.xlabel('Departments', fontsize = 10)\n",
        "# plt.show()"
      ]
    },
    {
      "cell_type": "markdown",
      "metadata": {
        "id": "rSz0q8uRuuj2"
      },
      "source": [
        "## Feature Engineering\n",
        "\n",
        "Feature engineering is the process of using domain knowledge to extract features from raw data via data mining techniques. These features can be used to improve the performance of machine learning algorithms. Feature engineering can be considered as applied machine learning itself.\n",
        "\n",
        "* There are mutliple ways of performing feature engineering.\n",
        "* So many people in the Industry consider it the most important step to improve the Model Performance.\n",
        "* We should always understand the columns well to make some new features using the old existing features.\n",
        "* Let's discuss the ways how we can perform feature engineering\n",
        "    * We can perform Feature Engineering by Removing Unnecassary Columns\n",
        "    * We can do it by Extracting Features from the Date and Time Features.\n",
        "    * We can do it by Extracting Features from the Categorcial Features.\n",
        "    * We can do it by Binnning the Numerical and Categorical Features.\n",
        "    * We can do it by Aggregating Multiple Features together by using simple Arithmetic operations\n",
        "    \n",
        "* Here, we are only going to perform Feature Engineering by Aggregating some features together."
      ]
    },
    {
      "cell_type": "code",
      "execution_count": 108,
      "metadata": {
        "id": "nnMdxfqtuuj2"
      },
      "outputs": [],
      "source": [
        "# lets create some extra features from existing features to improve our Model\n",
        "\n",
        "# creating a Metric of Sum\n",
        "train['sum_metric'] = train['awards_won?']+train['KPIs_met >80%'] + train['previous_year_rating']\n",
        "test['sum_metric'] = test['awards_won?']+test['KPIs_met >80%'] + test['previous_year_rating']\n",
        "\n",
        "# creating a total score column\n",
        "train['total_score'] = train['avg_training_score'] * train['no_of_trainings']\n",
        "test['total_score'] = test['avg_training_score'] * test['no_of_trainings']"
      ]
    },
    {
      "cell_type": "code",
      "execution_count": 109,
      "metadata": {
        "colab": {
          "base_uri": "https://localhost:8080/"
        },
        "id": "sxxYe-zluuj3",
        "outputId": "99fe5c9f-c35b-4ceb-f030-db4eb06f1586"
      },
      "outputs": [
        {
          "output_type": "execute_result",
          "data": {
            "text/plain": [
              "Index(['department', 'education', 'gender', 'no_of_trainings', 'age',\n",
              "       'previous_year_rating', 'length_of_service', 'KPIs_met >80%',\n",
              "       'awards_won?', 'avg_training_score', 'is_promoted', 'sum_metric',\n",
              "       'total_score'],\n",
              "      dtype='object')"
            ]
          },
          "metadata": {},
          "execution_count": 109
        }
      ],
      "source": [
        "# lets remove some of the columns which are not very useful for predicting the promotion.\n",
        "\n",
        "# we already know that the recruitment channel is very least related to promotion of an employee, so lets remove this column\n",
        "# even the region seems to contribute very less, when it comes to promotion, so lets remove it too.\n",
        "# also the employee id is not useful so lets remove it.\n",
        "\n",
        "train = train.drop(['recruitment_channel', 'region', 'employee_id'], axis = 1)\n",
        "test = test.drop(['recruitment_channel', 'region', 'employee_id'], axis = 1)\n",
        "\n",
        "# lets check the columns in train and test data set after feature engineering\n",
        "train.columns"
      ]
    },
    {
      "cell_type": "code",
      "execution_count": 110,
      "metadata": {
        "colab": {
          "base_uri": "https://localhost:8080/",
          "height": 93
        },
        "id": "9W9VLsZRuuj3",
        "outputId": "5afa5917-5f5d-4145-9088-8bf658192f26"
      },
      "outputs": [
        {
          "output_type": "execute_result",
          "data": {
            "text/plain": [
              "Empty DataFrame\n",
              "Columns: [department, education, gender, no_of_trainings, age, previous_year_rating, length_of_service, KPIs_met >80%, awards_won?, avg_training_score, is_promoted, sum_metric, total_score]\n",
              "Index: []"
            ],
            "text/html": [
              "\n",
              "  <div id=\"df-2e22745b-ea99-44c2-ad25-a32dab46e125\">\n",
              "    <div class=\"colab-df-container\">\n",
              "      <div>\n",
              "<style scoped>\n",
              "    .dataframe tbody tr th:only-of-type {\n",
              "        vertical-align: middle;\n",
              "    }\n",
              "\n",
              "    .dataframe tbody tr th {\n",
              "        vertical-align: top;\n",
              "    }\n",
              "\n",
              "    .dataframe thead th {\n",
              "        text-align: right;\n",
              "    }\n",
              "</style>\n",
              "<table border=\"1\" class=\"dataframe\">\n",
              "  <thead>\n",
              "    <tr style=\"text-align: right;\">\n",
              "      <th></th>\n",
              "      <th>department</th>\n",
              "      <th>education</th>\n",
              "      <th>gender</th>\n",
              "      <th>no_of_trainings</th>\n",
              "      <th>age</th>\n",
              "      <th>previous_year_rating</th>\n",
              "      <th>length_of_service</th>\n",
              "      <th>KPIs_met &gt;80%</th>\n",
              "      <th>awards_won?</th>\n",
              "      <th>avg_training_score</th>\n",
              "      <th>is_promoted</th>\n",
              "      <th>sum_metric</th>\n",
              "      <th>total_score</th>\n",
              "    </tr>\n",
              "  </thead>\n",
              "  <tbody>\n",
              "  </tbody>\n",
              "</table>\n",
              "</div>\n",
              "      <button class=\"colab-df-convert\" onclick=\"convertToInteractive('df-2e22745b-ea99-44c2-ad25-a32dab46e125')\"\n",
              "              title=\"Convert this dataframe to an interactive table.\"\n",
              "              style=\"display:none;\">\n",
              "        \n",
              "  <svg xmlns=\"http://www.w3.org/2000/svg\" height=\"24px\"viewBox=\"0 0 24 24\"\n",
              "       width=\"24px\">\n",
              "    <path d=\"M0 0h24v24H0V0z\" fill=\"none\"/>\n",
              "    <path d=\"M18.56 5.44l.94 2.06.94-2.06 2.06-.94-2.06-.94-.94-2.06-.94 2.06-2.06.94zm-11 1L8.5 8.5l.94-2.06 2.06-.94-2.06-.94L8.5 2.5l-.94 2.06-2.06.94zm10 10l.94 2.06.94-2.06 2.06-.94-2.06-.94-.94-2.06-.94 2.06-2.06.94z\"/><path d=\"M17.41 7.96l-1.37-1.37c-.4-.4-.92-.59-1.43-.59-.52 0-1.04.2-1.43.59L10.3 9.45l-7.72 7.72c-.78.78-.78 2.05 0 2.83L4 21.41c.39.39.9.59 1.41.59.51 0 1.02-.2 1.41-.59l7.78-7.78 2.81-2.81c.8-.78.8-2.07 0-2.86zM5.41 20L4 18.59l7.72-7.72 1.47 1.35L5.41 20z\"/>\n",
              "  </svg>\n",
              "      </button>\n",
              "      \n",
              "  <style>\n",
              "    .colab-df-container {\n",
              "      display:flex;\n",
              "      flex-wrap:wrap;\n",
              "      gap: 12px;\n",
              "    }\n",
              "\n",
              "    .colab-df-convert {\n",
              "      background-color: #E8F0FE;\n",
              "      border: none;\n",
              "      border-radius: 50%;\n",
              "      cursor: pointer;\n",
              "      display: none;\n",
              "      fill: #1967D2;\n",
              "      height: 32px;\n",
              "      padding: 0 0 0 0;\n",
              "      width: 32px;\n",
              "    }\n",
              "\n",
              "    .colab-df-convert:hover {\n",
              "      background-color: #E2EBFA;\n",
              "      box-shadow: 0px 1px 2px rgba(60, 64, 67, 0.3), 0px 1px 3px 1px rgba(60, 64, 67, 0.15);\n",
              "      fill: #174EA6;\n",
              "    }\n",
              "\n",
              "    [theme=dark] .colab-df-convert {\n",
              "      background-color: #3B4455;\n",
              "      fill: #D2E3FC;\n",
              "    }\n",
              "\n",
              "    [theme=dark] .colab-df-convert:hover {\n",
              "      background-color: #434B5C;\n",
              "      box-shadow: 0px 1px 3px 1px rgba(0, 0, 0, 0.15);\n",
              "      filter: drop-shadow(0px 1px 2px rgba(0, 0, 0, 0.3));\n",
              "      fill: #FFFFFF;\n",
              "    }\n",
              "  </style>\n",
              "\n",
              "      <script>\n",
              "        const buttonEl =\n",
              "          document.querySelector('#df-2e22745b-ea99-44c2-ad25-a32dab46e125 button.colab-df-convert');\n",
              "        buttonEl.style.display =\n",
              "          google.colab.kernel.accessAllowed ? 'block' : 'none';\n",
              "\n",
              "        async function convertToInteractive(key) {\n",
              "          const element = document.querySelector('#df-2e22745b-ea99-44c2-ad25-a32dab46e125');\n",
              "          const dataTable =\n",
              "            await google.colab.kernel.invokeFunction('convertToInteractive',\n",
              "                                                     [key], {});\n",
              "          if (!dataTable) return;\n",
              "\n",
              "          const docLinkHtml = 'Like what you see? Visit the ' +\n",
              "            '<a target=\"_blank\" href=https://colab.research.google.com/notebooks/data_table.ipynb>data table notebook</a>'\n",
              "            + ' to learn more about interactive tables.';\n",
              "          element.innerHTML = '';\n",
              "          dataTable['output_type'] = 'display_data';\n",
              "          await google.colab.output.renderOutput(dataTable, element);\n",
              "          const docLink = document.createElement('div');\n",
              "          docLink.innerHTML = docLinkHtml;\n",
              "          element.appendChild(docLink);\n",
              "        }\n",
              "      </script>\n",
              "    </div>\n",
              "  </div>\n",
              "  "
            ]
          },
          "metadata": {},
          "execution_count": 110
        }
      ],
      "source": [
        "'''\n",
        "lets check the no. of employee who did not get an award, did not acheive 80+ KPI, previous_year_rating as 1\n",
        "and avg_training score is less than 40\n",
        "but, still got promotion.\n",
        "''' \n",
        "\n",
        "train[(train['KPIs_met >80%'] == 0) & (train['previous_year_rating'] == 1.0) & \n",
        "      (train['awards_won?'] == 0) & (train['avg_training_score'] < 60) & (train['is_promoted'] == 1)]"
      ]
    },
    {
      "cell_type": "code",
      "execution_count": 111,
      "metadata": {
        "colab": {
          "base_uri": "https://localhost:8080/"
        },
        "id": "a3VIKFBouuj3",
        "outputId": "c054c255-5869-40db-a374-9d74d918122d"
      },
      "outputs": [
        {
          "output_type": "stream",
          "name": "stdout",
          "text": [
            "Before Deleting the above two rows : (3489, 13)\n",
            "After Deletion of the above two rows : (3489, 13)\n"
          ]
        }
      ],
      "source": [
        "# lets remove the above two columns as they have a huge negative effect on our training data\n",
        "\n",
        "# lets check shape of the train data before deleting two rows\n",
        "print(\"Before Deleting the above two rows :\", train.shape)\n",
        "\n",
        "train = train.drop(train[(train['KPIs_met >80%'] == 0) & (train['previous_year_rating'] == 1.0) & \n",
        "      (train['awards_won?'] == 0) & (train['avg_training_score'] < 60) & (train['is_promoted'] == 1)].index)\n",
        "\n",
        "# lets check the shape of the train data after deleting the two rows\n",
        "print(\"After Deletion of the above two rows :\", train.shape)"
      ]
    },
    {
      "cell_type": "markdown",
      "metadata": {
        "id": "vpvllc-uuuj3"
      },
      "source": [
        "## Dealing with Categorical Columns\n",
        "\n",
        "Categorical variables are known to hide and mask lots of interesting information in a data set. It’s crucial to learn the methods of dealing with such variables. If you won’t, many a times, you’d miss out on finding the most important variables in a model. It has happened with me. Initially, I used to focus more on numerical variables. Hence, never actually got an accurate model. But, later I discovered my flaws and learnt the art of dealing with such variables.\n",
        "\n",
        "* There are various ways to encode categorical columns into Numerical columns\n",
        "* This is an Essential Step, as we Machine Learning Models only works with Numerical Values.\n",
        "* Here, we are going to use Business Logic to encode the education column\n",
        "* Then we will use the Label Encoder, to Department and Gender Columns"
      ]
    },
    {
      "cell_type": "code",
      "execution_count": 112,
      "metadata": {
        "colab": {
          "base_uri": "https://localhost:8080/",
          "height": 206
        },
        "id": "glW7L2J7uuj4",
        "outputId": "00aec922-28b1-4f26-a470-485ce5428825"
      },
      "outputs": [
        {
          "output_type": "execute_result",
          "data": {
            "text/plain": [
              "           department         education gender\n",
              "13         Technology  Master's & above      m\n",
              "42                 HR        Bachelor's      m\n",
              "60  Sales & Marketing  Master's & above      m\n",
              "74  Sales & Marketing        Bachelor's      m\n",
              "99            Finance  Master's & above      m"
            ],
            "text/html": [
              "\n",
              "  <div id=\"df-faa6730f-6f59-4671-8764-68bf2a1a9d3f\">\n",
              "    <div class=\"colab-df-container\">\n",
              "      <div>\n",
              "<style scoped>\n",
              "    .dataframe tbody tr th:only-of-type {\n",
              "        vertical-align: middle;\n",
              "    }\n",
              "\n",
              "    .dataframe tbody tr th {\n",
              "        vertical-align: top;\n",
              "    }\n",
              "\n",
              "    .dataframe thead th {\n",
              "        text-align: right;\n",
              "    }\n",
              "</style>\n",
              "<table border=\"1\" class=\"dataframe\">\n",
              "  <thead>\n",
              "    <tr style=\"text-align: right;\">\n",
              "      <th></th>\n",
              "      <th>department</th>\n",
              "      <th>education</th>\n",
              "      <th>gender</th>\n",
              "    </tr>\n",
              "  </thead>\n",
              "  <tbody>\n",
              "    <tr>\n",
              "      <th>13</th>\n",
              "      <td>Technology</td>\n",
              "      <td>Master's &amp; above</td>\n",
              "      <td>m</td>\n",
              "    </tr>\n",
              "    <tr>\n",
              "      <th>42</th>\n",
              "      <td>HR</td>\n",
              "      <td>Bachelor's</td>\n",
              "      <td>m</td>\n",
              "    </tr>\n",
              "    <tr>\n",
              "      <th>60</th>\n",
              "      <td>Sales &amp; Marketing</td>\n",
              "      <td>Master's &amp; above</td>\n",
              "      <td>m</td>\n",
              "    </tr>\n",
              "    <tr>\n",
              "      <th>74</th>\n",
              "      <td>Sales &amp; Marketing</td>\n",
              "      <td>Bachelor's</td>\n",
              "      <td>m</td>\n",
              "    </tr>\n",
              "    <tr>\n",
              "      <th>99</th>\n",
              "      <td>Finance</td>\n",
              "      <td>Master's &amp; above</td>\n",
              "      <td>m</td>\n",
              "    </tr>\n",
              "  </tbody>\n",
              "</table>\n",
              "</div>\n",
              "      <button class=\"colab-df-convert\" onclick=\"convertToInteractive('df-faa6730f-6f59-4671-8764-68bf2a1a9d3f')\"\n",
              "              title=\"Convert this dataframe to an interactive table.\"\n",
              "              style=\"display:none;\">\n",
              "        \n",
              "  <svg xmlns=\"http://www.w3.org/2000/svg\" height=\"24px\"viewBox=\"0 0 24 24\"\n",
              "       width=\"24px\">\n",
              "    <path d=\"M0 0h24v24H0V0z\" fill=\"none\"/>\n",
              "    <path d=\"M18.56 5.44l.94 2.06.94-2.06 2.06-.94-2.06-.94-.94-2.06-.94 2.06-2.06.94zm-11 1L8.5 8.5l.94-2.06 2.06-.94-2.06-.94L8.5 2.5l-.94 2.06-2.06.94zm10 10l.94 2.06.94-2.06 2.06-.94-2.06-.94-.94-2.06-.94 2.06-2.06.94z\"/><path d=\"M17.41 7.96l-1.37-1.37c-.4-.4-.92-.59-1.43-.59-.52 0-1.04.2-1.43.59L10.3 9.45l-7.72 7.72c-.78.78-.78 2.05 0 2.83L4 21.41c.39.39.9.59 1.41.59.51 0 1.02-.2 1.41-.59l7.78-7.78 2.81-2.81c.8-.78.8-2.07 0-2.86zM5.41 20L4 18.59l7.72-7.72 1.47 1.35L5.41 20z\"/>\n",
              "  </svg>\n",
              "      </button>\n",
              "      \n",
              "  <style>\n",
              "    .colab-df-container {\n",
              "      display:flex;\n",
              "      flex-wrap:wrap;\n",
              "      gap: 12px;\n",
              "    }\n",
              "\n",
              "    .colab-df-convert {\n",
              "      background-color: #E8F0FE;\n",
              "      border: none;\n",
              "      border-radius: 50%;\n",
              "      cursor: pointer;\n",
              "      display: none;\n",
              "      fill: #1967D2;\n",
              "      height: 32px;\n",
              "      padding: 0 0 0 0;\n",
              "      width: 32px;\n",
              "    }\n",
              "\n",
              "    .colab-df-convert:hover {\n",
              "      background-color: #E2EBFA;\n",
              "      box-shadow: 0px 1px 2px rgba(60, 64, 67, 0.3), 0px 1px 3px 1px rgba(60, 64, 67, 0.15);\n",
              "      fill: #174EA6;\n",
              "    }\n",
              "\n",
              "    [theme=dark] .colab-df-convert {\n",
              "      background-color: #3B4455;\n",
              "      fill: #D2E3FC;\n",
              "    }\n",
              "\n",
              "    [theme=dark] .colab-df-convert:hover {\n",
              "      background-color: #434B5C;\n",
              "      box-shadow: 0px 1px 3px 1px rgba(0, 0, 0, 0.15);\n",
              "      filter: drop-shadow(0px 1px 2px rgba(0, 0, 0, 0.3));\n",
              "      fill: #FFFFFF;\n",
              "    }\n",
              "  </style>\n",
              "\n",
              "      <script>\n",
              "        const buttonEl =\n",
              "          document.querySelector('#df-faa6730f-6f59-4671-8764-68bf2a1a9d3f button.colab-df-convert');\n",
              "        buttonEl.style.display =\n",
              "          google.colab.kernel.accessAllowed ? 'block' : 'none';\n",
              "\n",
              "        async function convertToInteractive(key) {\n",
              "          const element = document.querySelector('#df-faa6730f-6f59-4671-8764-68bf2a1a9d3f');\n",
              "          const dataTable =\n",
              "            await google.colab.kernel.invokeFunction('convertToInteractive',\n",
              "                                                     [key], {});\n",
              "          if (!dataTable) return;\n",
              "\n",
              "          const docLinkHtml = 'Like what you see? Visit the ' +\n",
              "            '<a target=\"_blank\" href=https://colab.research.google.com/notebooks/data_table.ipynb>data table notebook</a>'\n",
              "            + ' to learn more about interactive tables.';\n",
              "          element.innerHTML = '';\n",
              "          dataTable['output_type'] = 'display_data';\n",
              "          await google.colab.output.renderOutput(dataTable, element);\n",
              "          const docLink = document.createElement('div');\n",
              "          docLink.innerHTML = docLinkHtml;\n",
              "          element.appendChild(docLink);\n",
              "        }\n",
              "      </script>\n",
              "    </div>\n",
              "  </div>\n",
              "  "
            ]
          },
          "metadata": {},
          "execution_count": 112
        }
      ],
      "source": [
        "## Lets check the categorical columns present in the data\n",
        "train.select_dtypes('object').head()"
      ]
    },
    {
      "cell_type": "code",
      "execution_count": 113,
      "metadata": {
        "colab": {
          "base_uri": "https://localhost:8080/"
        },
        "id": "pA4D4vcduuj4",
        "outputId": "72993022-d3c0-4b6d-8e05-2e5fc2ab7362"
      },
      "outputs": [
        {
          "output_type": "execute_result",
          "data": {
            "text/plain": [
              "Master's & above    1759\n",
              "Bachelor's          1730\n",
              "Name: education, dtype: int64"
            ]
          },
          "metadata": {},
          "execution_count": 113
        }
      ],
      "source": [
        "# lets check the value counts for the education column\n",
        "train['education'].value_counts()"
      ]
    },
    {
      "cell_type": "code",
      "execution_count": 114,
      "metadata": {
        "colab": {
          "base_uri": "https://localhost:8080/"
        },
        "id": "vJTkUMuFuuj5",
        "outputId": "46b6423c-d56f-4071-8939-f65103c258f6"
      },
      "outputs": [
        {
          "output_type": "stream",
          "name": "stdout",
          "text": [
            "Index([], dtype='object')\n",
            "Index([], dtype='object')\n"
          ]
        }
      ],
      "source": [
        "# lets start encoding these categorical columns to convert them into numerical columns\n",
        "\n",
        "# lets encode the education in their degree of importance \n",
        "train['education'] = train['education'].replace((\"Master's & above\", \"Bachelor's\", \"Below Secondary\"),\n",
        "                                                (3, 2, 1))\n",
        "test['education'] = test['education'].replace((\"Master's & above\", \"Bachelor's\", \"Below Secondary\"),\n",
        "                                                (3, 2, 1))\n",
        "\n",
        "# lets use Label Encoding for Gender and Department to convert them into Numerical\n",
        "from sklearn.preprocessing import LabelEncoder\n",
        "\n",
        "le = LabelEncoder()\n",
        "train['department'] = le.fit_transform(train['department'])\n",
        "test['department'] = le.fit_transform(test['department'])\n",
        "train['gender'] = le.fit_transform(train['gender'])\n",
        "test['gender'] = le.fit_transform(test['gender'])\n",
        "\n",
        "# lets check whether we still have any categorical columns left after encoding\n",
        "print(train.select_dtypes('object').columns)\n",
        "print(test.select_dtypes('object').columns)"
      ]
    },
    {
      "cell_type": "code",
      "execution_count": 115,
      "metadata": {
        "colab": {
          "base_uri": "https://localhost:8080/",
          "height": 187
        },
        "id": "-6rr1XWhuuj5",
        "outputId": "16d05519-32e1-43b8-ddb9-67332e927aeb"
      },
      "outputs": [
        {
          "output_type": "execute_result",
          "data": {
            "text/plain": [
              "    department  education  gender  no_of_trainings  age  previous_year_rating  \\\n",
              "13           8          3       1                2   39                   3.0   \n",
              "42           2          2       1                1   59                   4.0   \n",
              "60           7          3       1                1   50                   4.0   \n",
              "\n",
              "    length_of_service  KPIs_met >80%  awards_won?  avg_training_score  \\\n",
              "13                 16              0            0                  80   \n",
              "42                 26              1            0                  52   \n",
              "60                 17              1            0                  47   \n",
              "\n",
              "    is_promoted  sum_metric  total_score  \n",
              "13            0         3.0          160  \n",
              "42            0         5.0           52  \n",
              "60            1         5.0           47  "
            ],
            "text/html": [
              "\n",
              "  <div id=\"df-e2b9c5b7-f585-44e9-874f-049ae86d96c8\">\n",
              "    <div class=\"colab-df-container\">\n",
              "      <div>\n",
              "<style scoped>\n",
              "    .dataframe tbody tr th:only-of-type {\n",
              "        vertical-align: middle;\n",
              "    }\n",
              "\n",
              "    .dataframe tbody tr th {\n",
              "        vertical-align: top;\n",
              "    }\n",
              "\n",
              "    .dataframe thead th {\n",
              "        text-align: right;\n",
              "    }\n",
              "</style>\n",
              "<table border=\"1\" class=\"dataframe\">\n",
              "  <thead>\n",
              "    <tr style=\"text-align: right;\">\n",
              "      <th></th>\n",
              "      <th>department</th>\n",
              "      <th>education</th>\n",
              "      <th>gender</th>\n",
              "      <th>no_of_trainings</th>\n",
              "      <th>age</th>\n",
              "      <th>previous_year_rating</th>\n",
              "      <th>length_of_service</th>\n",
              "      <th>KPIs_met &gt;80%</th>\n",
              "      <th>awards_won?</th>\n",
              "      <th>avg_training_score</th>\n",
              "      <th>is_promoted</th>\n",
              "      <th>sum_metric</th>\n",
              "      <th>total_score</th>\n",
              "    </tr>\n",
              "  </thead>\n",
              "  <tbody>\n",
              "    <tr>\n",
              "      <th>13</th>\n",
              "      <td>8</td>\n",
              "      <td>3</td>\n",
              "      <td>1</td>\n",
              "      <td>2</td>\n",
              "      <td>39</td>\n",
              "      <td>3.0</td>\n",
              "      <td>16</td>\n",
              "      <td>0</td>\n",
              "      <td>0</td>\n",
              "      <td>80</td>\n",
              "      <td>0</td>\n",
              "      <td>3.0</td>\n",
              "      <td>160</td>\n",
              "    </tr>\n",
              "    <tr>\n",
              "      <th>42</th>\n",
              "      <td>2</td>\n",
              "      <td>2</td>\n",
              "      <td>1</td>\n",
              "      <td>1</td>\n",
              "      <td>59</td>\n",
              "      <td>4.0</td>\n",
              "      <td>26</td>\n",
              "      <td>1</td>\n",
              "      <td>0</td>\n",
              "      <td>52</td>\n",
              "      <td>0</td>\n",
              "      <td>5.0</td>\n",
              "      <td>52</td>\n",
              "    </tr>\n",
              "    <tr>\n",
              "      <th>60</th>\n",
              "      <td>7</td>\n",
              "      <td>3</td>\n",
              "      <td>1</td>\n",
              "      <td>1</td>\n",
              "      <td>50</td>\n",
              "      <td>4.0</td>\n",
              "      <td>17</td>\n",
              "      <td>1</td>\n",
              "      <td>0</td>\n",
              "      <td>47</td>\n",
              "      <td>1</td>\n",
              "      <td>5.0</td>\n",
              "      <td>47</td>\n",
              "    </tr>\n",
              "  </tbody>\n",
              "</table>\n",
              "</div>\n",
              "      <button class=\"colab-df-convert\" onclick=\"convertToInteractive('df-e2b9c5b7-f585-44e9-874f-049ae86d96c8')\"\n",
              "              title=\"Convert this dataframe to an interactive table.\"\n",
              "              style=\"display:none;\">\n",
              "        \n",
              "  <svg xmlns=\"http://www.w3.org/2000/svg\" height=\"24px\"viewBox=\"0 0 24 24\"\n",
              "       width=\"24px\">\n",
              "    <path d=\"M0 0h24v24H0V0z\" fill=\"none\"/>\n",
              "    <path d=\"M18.56 5.44l.94 2.06.94-2.06 2.06-.94-2.06-.94-.94-2.06-.94 2.06-2.06.94zm-11 1L8.5 8.5l.94-2.06 2.06-.94-2.06-.94L8.5 2.5l-.94 2.06-2.06.94zm10 10l.94 2.06.94-2.06 2.06-.94-2.06-.94-.94-2.06-.94 2.06-2.06.94z\"/><path d=\"M17.41 7.96l-1.37-1.37c-.4-.4-.92-.59-1.43-.59-.52 0-1.04.2-1.43.59L10.3 9.45l-7.72 7.72c-.78.78-.78 2.05 0 2.83L4 21.41c.39.39.9.59 1.41.59.51 0 1.02-.2 1.41-.59l7.78-7.78 2.81-2.81c.8-.78.8-2.07 0-2.86zM5.41 20L4 18.59l7.72-7.72 1.47 1.35L5.41 20z\"/>\n",
              "  </svg>\n",
              "      </button>\n",
              "      \n",
              "  <style>\n",
              "    .colab-df-container {\n",
              "      display:flex;\n",
              "      flex-wrap:wrap;\n",
              "      gap: 12px;\n",
              "    }\n",
              "\n",
              "    .colab-df-convert {\n",
              "      background-color: #E8F0FE;\n",
              "      border: none;\n",
              "      border-radius: 50%;\n",
              "      cursor: pointer;\n",
              "      display: none;\n",
              "      fill: #1967D2;\n",
              "      height: 32px;\n",
              "      padding: 0 0 0 0;\n",
              "      width: 32px;\n",
              "    }\n",
              "\n",
              "    .colab-df-convert:hover {\n",
              "      background-color: #E2EBFA;\n",
              "      box-shadow: 0px 1px 2px rgba(60, 64, 67, 0.3), 0px 1px 3px 1px rgba(60, 64, 67, 0.15);\n",
              "      fill: #174EA6;\n",
              "    }\n",
              "\n",
              "    [theme=dark] .colab-df-convert {\n",
              "      background-color: #3B4455;\n",
              "      fill: #D2E3FC;\n",
              "    }\n",
              "\n",
              "    [theme=dark] .colab-df-convert:hover {\n",
              "      background-color: #434B5C;\n",
              "      box-shadow: 0px 1px 3px 1px rgba(0, 0, 0, 0.15);\n",
              "      filter: drop-shadow(0px 1px 2px rgba(0, 0, 0, 0.3));\n",
              "      fill: #FFFFFF;\n",
              "    }\n",
              "  </style>\n",
              "\n",
              "      <script>\n",
              "        const buttonEl =\n",
              "          document.querySelector('#df-e2b9c5b7-f585-44e9-874f-049ae86d96c8 button.colab-df-convert');\n",
              "        buttonEl.style.display =\n",
              "          google.colab.kernel.accessAllowed ? 'block' : 'none';\n",
              "\n",
              "        async function convertToInteractive(key) {\n",
              "          const element = document.querySelector('#df-e2b9c5b7-f585-44e9-874f-049ae86d96c8');\n",
              "          const dataTable =\n",
              "            await google.colab.kernel.invokeFunction('convertToInteractive',\n",
              "                                                     [key], {});\n",
              "          if (!dataTable) return;\n",
              "\n",
              "          const docLinkHtml = 'Like what you see? Visit the ' +\n",
              "            '<a target=\"_blank\" href=https://colab.research.google.com/notebooks/data_table.ipynb>data table notebook</a>'\n",
              "            + ' to learn more about interactive tables.';\n",
              "          element.innerHTML = '';\n",
              "          dataTable['output_type'] = 'display_data';\n",
              "          await google.colab.output.renderOutput(dataTable, element);\n",
              "          const docLink = document.createElement('div');\n",
              "          docLink.innerHTML = docLinkHtml;\n",
              "          element.appendChild(docLink);\n",
              "        }\n",
              "      </script>\n",
              "    </div>\n",
              "  </div>\n",
              "  "
            ]
          },
          "metadata": {},
          "execution_count": 115
        }
      ],
      "source": [
        "# lets check the data after encoding\n",
        "train.head(3)"
      ]
    },
    {
      "cell_type": "markdown",
      "metadata": {
        "id": "U1JE4ANouuj6"
      },
      "source": [
        "## Splitting the Data\n",
        "\n",
        "This is one of the most Important step to perform Machine Learning Prediction on a Dataset,\n",
        "We have to separate the Target and Independent Columns.\n",
        "* We store the Target Variable in y, and then we store the rest of the columns in x, by deleting the target column from the data\n",
        "* Also, we are changing the name of test dataset to x_test for ease of understanding."
      ]
    },
    {
      "cell_type": "code",
      "execution_count": 116,
      "metadata": {
        "colab": {
          "base_uri": "https://localhost:8080/"
        },
        "id": "VbM1ImfXuuj6",
        "outputId": "a5870e12-6ad2-44c9-e1ca-d6513d192415"
      },
      "outputs": [
        {
          "output_type": "stream",
          "name": "stdout",
          "text": [
            "Shape of the x : (3489, 12)\n",
            "Shape of the y : (3489,)\n",
            "Shape of the x Test : (23490, 12)\n"
          ]
        }
      ],
      "source": [
        "# lets split the target data from the train data\n",
        "\n",
        "y = train['is_promoted']\n",
        "x = train.drop(['is_promoted'], axis = 1)\n",
        "x_test = test\n",
        "\n",
        "# lets print the shapes of these newly formed data sets\n",
        "print(\"Shape of the x :\", x.shape)\n",
        "print(\"Shape of the y :\", y.shape)\n",
        "print(\"Shape of the x Test :\", x_test.shape)"
      ]
    },
    {
      "cell_type": "markdown",
      "metadata": {
        "id": "xhTka1L5uuj7"
      },
      "source": [
        "## Resampling\n",
        "\n",
        "Resampling is the method that consists of drawing repeated samples from the original data samples. The method of Resampling is a nonparametric method of statistical inference.\n",
        "\n",
        "* Earlier, in this Problem we noticed that the Target column is Highly Imbalanced, we need to balance the data by using some Statistical Methods.\n",
        "* There are many Statistical Methods we can use for Resampling the Data such as:\n",
        "    * Over Samping\n",
        "    * Cluster based Sampling\n",
        "    * Under Sampling.\n",
        "    \n",
        "Oversampling and undersampling in data analysis are techniques used to adjust the class distribution of a data set. These terms are used both in statistical sampling, survey design methodology and in machine learning. Oversampling and undersampling are opposite and roughly equivalent techniques\n",
        "    \n",
        "* We are going to use Over Sampling. \n",
        "* We will not use Under Sampling to avoid data loss."
      ]
    },
    {
      "cell_type": "code",
      "execution_count": 117,
      "metadata": {
        "colab": {
          "base_uri": "https://localhost:8080/"
        },
        "id": "On-5PqVYuuj7",
        "outputId": "d48d61f4-229b-4c06-fcbe-330a4a71103a"
      },
      "outputs": [
        {
          "output_type": "stream",
          "name": "stdout",
          "text": [
            "(6510, 12)\n",
            "(6510,)\n"
          ]
        }
      ],
      "source": [
        "# It is very important to resample the data, as the Target class is Highly imbalanced.\n",
        "# Here We are going to use Over Sampling Technique to resample the data.\n",
        "# lets import the SMOTE algorithm to do the same.\n",
        "\n",
        "from imblearn.over_sampling import SMOTE\n",
        "smote = SMOTE(sampling_strategy='minority')\n",
        "x_resample, y_resample = smote.fit_resample(x, pd.DataFrame(y).values.ravel())\n",
        "\n",
        "# lets print the shape of x and y after resampling it\n",
        "print(x_resample.shape)\n",
        "print(y_resample.shape)"
      ]
    },
    {
      "cell_type": "code",
      "execution_count": 118,
      "metadata": {
        "colab": {
          "base_uri": "https://localhost:8080/"
        },
        "id": "O2W7Nwftuuj8",
        "outputId": "26a42c64-a43d-491c-829b-dc62b4becf1a"
      },
      "outputs": [
        {
          "output_type": "stream",
          "name": "stdout",
          "text": [
            "Before Resampling :\n",
            "0    3255\n",
            "1     234\n",
            "Name: is_promoted, dtype: int64\n",
            "After Resampling :\n",
            "0    3255\n",
            "1    3255\n",
            "Name: 0, dtype: int64\n"
          ]
        }
      ],
      "source": [
        "# lets also check the value counts of our target variable4\n",
        "\n",
        "print(\"Before Resampling :\")\n",
        "print(y.value_counts())\n",
        "\n",
        "print(\"After Resampling :\")\n",
        "y_resample = pd.DataFrame(y_resample)\n",
        "print(y_resample[0].value_counts())"
      ]
    },
    {
      "cell_type": "code",
      "execution_count": 119,
      "metadata": {
        "colab": {
          "base_uri": "https://localhost:8080/"
        },
        "id": "fn25_zTTuuj8",
        "outputId": "a13fafee-ffe9-41e2-b59c-47742c741954"
      },
      "outputs": [
        {
          "output_type": "stream",
          "name": "stdout",
          "text": [
            "Shape of the x Train : (5208, 12)\n",
            "Shape of the y Train : (5208, 1)\n",
            "Shape of the x Valid : (1302, 12)\n",
            "Shape of the y Valid : (1302, 1)\n",
            "Shape of the x Test : (23490, 12)\n"
          ]
        }
      ],
      "source": [
        "# lets create a validation set from the training data so that we can check whether the model that we have created is good enough\n",
        "# lets import the train_test_split library from sklearn to do that\n",
        "\n",
        "from sklearn.model_selection import train_test_split\n",
        "\n",
        "x_train, x_valid, y_train, y_valid = train_test_split(x_resample, y_resample, test_size = 0.2, random_state = 0)\n",
        "\n",
        "# lets print the shapes again \n",
        "print(\"Shape of the x Train :\", x_train.shape)\n",
        "print(\"Shape of the y Train :\", y_train.shape)\n",
        "print(\"Shape of the x Valid :\", x_valid.shape)\n",
        "print(\"Shape of the y Valid :\", y_valid.shape)\n",
        "print(\"Shape of the x Test :\", x_test.shape)"
      ]
    },
    {
      "cell_type": "markdown",
      "metadata": {
        "id": "WrXSH1e6uuj8"
      },
      "source": [
        "## Feature Scaling\n",
        "\n",
        "Feature scaling is a method used to normalize the range of independent variables or features of data. In data processing, it is also known as data normalization and is generally performed during the data preprocessing step\n",
        "![image.png](attachment:image.png)"
      ]
    },
    {
      "cell_type": "code",
      "execution_count": 120,
      "metadata": {
        "id": "2oE3QjARuuj8"
      },
      "outputs": [],
      "source": [
        "# It is very import to scale all the features of the dataset into the same scale\n",
        "# Here, we are going to use the standardization method, which is very commonly used.\n",
        "\n",
        "# lets import the standard scaler library from sklearn to do that\n",
        "from sklearn.preprocessing import StandardScaler\n",
        "\n",
        "sc = StandardScaler()\n",
        "x_train = sc.fit_transform(x_train)\n",
        "x_valid = sc.transform(x_valid)\n",
        "x_test = sc.transform(x_test)"
      ]
    },
    {
      "cell_type": "markdown",
      "metadata": {
        "id": "RYqe-A2Luuj9"
      },
      "source": [
        "\n",
        "##  Machine Learning Predictive Modelling\n",
        "\n",
        "Predictive modeling is a process that uses data and statistics to predict outcomes with data models. These models can be used to predict anything from sports outcomes and TV ratings to technological advances and corporate earnings. Predictive modeling is also often referred to as: Predictive analytics."
      ]
    },
    {
      "cell_type": "markdown",
      "metadata": {
        "id": "Q3tRrCHCuuj9"
      },
      "source": [
        "\n",
        "\n",
        "### Decision Tree Classifier\n",
        "\n",
        "A decision tree is a decision support tool that uses a tree-like model of decisions and their possible consequences, including chance event outcomes, resource costs, and utility. It is one way to display an algorithm that only contains conditional control statements.\n",
        "\n",
        "![image.png](attachment:image.png)"
      ]
    },
    {
      "cell_type": "code",
      "execution_count": 121,
      "metadata": {
        "id": "QKz9y0VOuuj9"
      },
      "outputs": [],
      "source": [
        "# Lets use Decision Trees to classify the data\n",
        "from sklearn.tree import DecisionTreeClassifier\n",
        "\n",
        "model = DecisionTreeClassifier()\n",
        "model.fit(x_train, y_train)\n",
        "\n",
        "y_pred = model.predict(x_valid)"
      ]
    },
    {
      "cell_type": "code",
      "execution_count": 122,
      "metadata": {
        "colab": {
          "base_uri": "https://localhost:8080/",
          "height": 280
        },
        "id": "YyD7ErJ3uuj9",
        "outputId": "810d4692-2ee7-4c2f-879a-970db1172def"
      },
      "outputs": [
        {
          "output_type": "stream",
          "name": "stdout",
          "text": [
            "Training Accuracy : 0.9994239631336406\n",
            "Testing Accuracy : 0.9608294930875576\n"
          ]
        },
        {
          "output_type": "display_data",
          "data": {
            "text/plain": [
              "<Figure size 216x216 with 2 Axes>"
            ],
            "image/png": "[encoded data removed]"
          },
          "metadata": {}
        }
      ],
      "source": [
        "from sklearn.metrics import confusion_matrix, classification_report\n",
        "\n",
        "print(\"Training Accuracy :\", model.score(x_train, y_train))\n",
        "print(\"Testing Accuracy :\", model.score(x_valid, y_valid))\n",
        "\n",
        "cm = confusion_matrix(y_valid, y_pred)\n",
        "plt.rcParams['figure.figsize'] = (3, 3)\n",
        "sns.heatmap(cm, annot = True, cmap = 'Wistia', fmt = '.8g')\n",
        "plt.xlabel('Predicted Values')\n",
        "plt.ylabel('Actual Values')\n",
        "plt.show()"
      ]
    },
    {
      "cell_type": "code",
      "execution_count": 123,
      "metadata": {
        "colab": {
          "base_uri": "https://localhost:8080/"
        },
        "id": "niQ9Pxg2uuj-",
        "outputId": "43b3803a-afd3-4453-e767-1dd5b6a9ebf7"
      },
      "outputs": [
        {
          "output_type": "stream",
          "name": "stdout",
          "text": [
            "              precision    recall  f1-score   support\n",
            "\n",
            "           0       0.98      0.95      0.96       657\n",
            "           1       0.95      0.98      0.96       645\n",
            "\n",
            "    accuracy                           0.96      1302\n",
            "   macro avg       0.96      0.96      0.96      1302\n",
            "weighted avg       0.96      0.96      0.96      1302\n",
            "\n"
          ]
        }
      ],
      "source": [
        "# lets take a look at the Classification Report\n",
        "\n",
        "cr = classification_report(y_valid, y_pred)\n",
        "print(cr)"
      ]
    },
    {
      "cell_type": "markdown",
      "metadata": {
        "id": "QNcEYDtvuuj-"
      },
      "source": [
        "## Day 5 \n",
        "\n",
        "In the Started our Data Science Journey on Day 2, Today is the last day of our Data Science Journey. Today we will learn how to perform Real Time Predictions using the Model which we have created yesterday.\n",
        "\n",
        "So, lets get started, \n",
        "* First, we we will check the descriptive summary of the data again, so that we can analyze the columns and values which we can provide to the Model as Input and expect the Model to return Output whether the Employee should get a promotion or not.\n",
        "\n",
        "* Then we will define the value for which we want the predction, and then finally we will predict the values."
      ]
    },
    {
      "cell_type": "markdown",
      "metadata": {
        "id": "EHqZapyMuuj-"
      },
      "source": [
        "## Real Time Prediction"
      ]
    },
    {
      "cell_type": "code",
      "execution_count": 124,
      "metadata": {
        "colab": {
          "base_uri": "https://localhost:8080/",
          "height": 381
        },
        "id": "iEx9eRwQuuj-",
        "outputId": "5711c17f-b290-41a2-fd55-7eef7c8e5551"
      },
      "outputs": [
        {
          "output_type": "execute_result",
          "data": {
            "text/plain": [
              "        department    education       gender  no_of_trainings          age  \\\n",
              "count  3489.000000  3489.000000  3489.000000      3489.000000  3489.000000   \n",
              "mean      5.381198     2.504156     0.697334         1.168243    49.145027   \n",
              "std       2.125439     0.500054     0.459478         0.506902     5.423166   \n",
              "min       0.000000     2.000000     0.000000         1.000000    37.000000   \n",
              "25%       4.000000     2.000000     0.000000         1.000000    45.000000   \n",
              "50%       5.000000     3.000000     1.000000         1.000000    48.000000   \n",
              "75%       7.000000     3.000000     1.000000         1.000000    53.000000   \n",
              "max       8.000000     3.000000     1.000000         7.000000    60.000000   \n",
              "\n",
              "       previous_year_rating  length_of_service  KPIs_met >80%  awards_won?  \\\n",
              "count           3489.000000        3489.000000    3489.000000  3489.000000   \n",
              "mean               3.302379          17.629120       0.241903     0.008598   \n",
              "std                1.230116           3.712584       0.428297     0.092342   \n",
              "min                1.000000          14.000000       0.000000     0.000000   \n",
              "25%                3.000000          15.000000       0.000000     0.000000   \n",
              "50%                3.000000          17.000000       0.000000     0.000000   \n",
              "75%                4.000000          19.000000       0.000000     0.000000   \n",
              "max                5.000000          37.000000       1.000000     1.000000   \n",
              "\n",
              "       avg_training_score  is_promoted  sum_metric  total_score  \n",
              "count         3489.000000  3489.000000  3489.00000  3489.000000  \n",
              "mean            62.071081     0.067068     3.55288    72.591574  \n",
              "std             12.285130     0.250175     1.45818    35.119410  \n",
              "min             40.000000     0.000000     1.00000    40.000000  \n",
              "25%             51.000000     0.000000     3.00000    52.000000  \n",
              "50%             60.000000     0.000000     3.00000    62.000000  \n",
              "75%             71.000000     0.000000     5.00000    79.000000  \n",
              "max             99.000000     1.000000     7.00000   469.000000  "
            ],
            "text/html": [
              "\n",
              "  <div id=\"df-7ae69eb6-4f4e-418a-9c43-63a3dd4db8e6\">\n",
              "    <div class=\"colab-df-container\">\n",
              "      <div>\n",
              "<style scoped>\n",
              "    .dataframe tbody tr th:only-of-type {\n",
              "        vertical-align: middle;\n",
              "    }\n",
              "\n",
              "    .dataframe tbody tr th {\n",
              "        vertical-align: top;\n",
              "    }\n",
              "\n",
              "    .dataframe thead th {\n",
              "        text-align: right;\n",
              "    }\n",
              "</style>\n",
              "<table border=\"1\" class=\"dataframe\">\n",
              "  <thead>\n",
              "    <tr style=\"text-align: right;\">\n",
              "      <th></th>\n",
              "      <th>department</th>\n",
              "      <th>education</th>\n",
              "      <th>gender</th>\n",
              "      <th>no_of_trainings</th>\n",
              "      <th>age</th>\n",
              "      <th>previous_year_rating</th>\n",
              "      <th>length_of_service</th>\n",
              "      <th>KPIs_met &gt;80%</th>\n",
              "      <th>awards_won?</th>\n",
              "      <th>avg_training_score</th>\n",
              "      <th>is_promoted</th>\n",
              "      <th>sum_metric</th>\n",
              "      <th>total_score</th>\n",
              "    </tr>\n",
              "  </thead>\n",
              "  <tbody>\n",
              "    <tr>\n",
              "      <th>count</th>\n",
              "      <td>3489.000000</td>\n",
              "      <td>3489.000000</td>\n",
              "      <td>3489.000000</td>\n",
              "      <td>3489.000000</td>\n",
              "      <td>3489.000000</td>\n",
              "      <td>3489.000000</td>\n",
              "      <td>3489.000000</td>\n",
              "      <td>3489.000000</td>\n",
              "      <td>3489.000000</td>\n",
              "      <td>3489.000000</td>\n",
              "      <td>3489.000000</td>\n",
              "      <td>3489.00000</td>\n",
              "      <td>3489.000000</td>\n",
              "    </tr>\n",
              "    <tr>\n",
              "      <th>mean</th>\n",
              "      <td>5.381198</td>\n",
              "      <td>2.504156</td>\n",
              "      <td>0.697334</td>\n",
              "      <td>1.168243</td>\n",
              "      <td>49.145027</td>\n",
              "      <td>3.302379</td>\n",
              "      <td>17.629120</td>\n",
              "      <td>0.241903</td>\n",
              "      <td>0.008598</td>\n",
              "      <td>62.071081</td>\n",
              "      <td>0.067068</td>\n",
              "      <td>3.55288</td>\n",
              "      <td>72.591574</td>\n",
              "    </tr>\n",
              "    <tr>\n",
              "      <th>std</th>\n",
              "      <td>2.125439</td>\n",
              "      <td>0.500054</td>\n",
              "      <td>0.459478</td>\n",
              "      <td>0.506902</td>\n",
              "      <td>5.423166</td>\n",
              "      <td>1.230116</td>\n",
              "      <td>3.712584</td>\n",
              "      <td>0.428297</td>\n",
              "      <td>0.092342</td>\n",
              "      <td>12.285130</td>\n",
              "      <td>0.250175</td>\n",
              "      <td>1.45818</td>\n",
              "      <td>35.119410</td>\n",
              "    </tr>\n",
              "    <tr>\n",
              "      <th>min</th>\n",
              "      <td>0.000000</td>\n",
              "      <td>2.000000</td>\n",
              "      <td>0.000000</td>\n",
              "      <td>1.000000</td>\n",
              "      <td>37.000000</td>\n",
              "      <td>1.000000</td>\n",
              "      <td>14.000000</td>\n",
              "      <td>0.000000</td>\n",
              "      <td>0.000000</td>\n",
              "      <td>40.000000</td>\n",
              "      <td>0.000000</td>\n",
              "      <td>1.00000</td>\n",
              "      <td>40.000000</td>\n",
              "    </tr>\n",
              "    <tr>\n",
              "      <th>25%</th>\n",
              "      <td>4.000000</td>\n",
              "      <td>2.000000</td>\n",
              "      <td>0.000000</td>\n",
              "      <td>1.000000</td>\n",
              "      <td>45.000000</td>\n",
              "      <td>3.000000</td>\n",
              "      <td>15.000000</td>\n",
              "      <td>0.000000</td>\n",
              "      <td>0.000000</td>\n",
              "      <td>51.000000</td>\n",
              "      <td>0.000000</td>\n",
              "      <td>3.00000</td>\n",
              "      <td>52.000000</td>\n",
              "    </tr>\n",
              "    <tr>\n",
              "      <th>50%</th>\n",
              "      <td>5.000000</td>\n",
              "      <td>3.000000</td>\n",
              "      <td>1.000000</td>\n",
              "      <td>1.000000</td>\n",
              "      <td>48.000000</td>\n",
              "      <td>3.000000</td>\n",
              "      <td>17.000000</td>\n",
              "      <td>0.000000</td>\n",
              "      <td>0.000000</td>\n",
              "      <td>60.000000</td>\n",
              "      <td>0.000000</td>\n",
              "      <td>3.00000</td>\n",
              "      <td>62.000000</td>\n",
              "    </tr>\n",
              "    <tr>\n",
              "      <th>75%</th>\n",
              "      <td>7.000000</td>\n",
              "      <td>3.000000</td>\n",
              "      <td>1.000000</td>\n",
              "      <td>1.000000</td>\n",
              "      <td>53.000000</td>\n",
              "      <td>4.000000</td>\n",
              "      <td>19.000000</td>\n",
              "      <td>0.000000</td>\n",
              "      <td>0.000000</td>\n",
              "      <td>71.000000</td>\n",
              "      <td>0.000000</td>\n",
              "      <td>5.00000</td>\n",
              "      <td>79.000000</td>\n",
              "    </tr>\n",
              "    <tr>\n",
              "      <th>max</th>\n",
              "      <td>8.000000</td>\n",
              "      <td>3.000000</td>\n",
              "      <td>1.000000</td>\n",
              "      <td>7.000000</td>\n",
              "      <td>60.000000</td>\n",
              "      <td>5.000000</td>\n",
              "      <td>37.000000</td>\n",
              "      <td>1.000000</td>\n",
              "      <td>1.000000</td>\n",
              "      <td>99.000000</td>\n",
              "      <td>1.000000</td>\n",
              "      <td>7.00000</td>\n",
              "      <td>469.000000</td>\n",
              "    </tr>\n",
              "  </tbody>\n",
              "</table>\n",
              "</div>\n",
              "      <button class=\"colab-df-convert\" onclick=\"convertToInteractive('df-7ae69eb6-4f4e-418a-9c43-63a3dd4db8e6')\"\n",
              "              title=\"Convert this dataframe to an interactive table.\"\n",
              "              style=\"display:none;\">\n",
              "        \n",
              "  <svg xmlns=\"http://www.w3.org/2000/svg\" height=\"24px\"viewBox=\"0 0 24 24\"\n",
              "       width=\"24px\">\n",
              "    <path d=\"M0 0h24v24H0V0z\" fill=\"none\"/>\n",
              "    <path d=\"M18.56 5.44l.94 2.06.94-2.06 2.06-.94-2.06-.94-.94-2.06-.94 2.06-2.06.94zm-11 1L8.5 8.5l.94-2.06 2.06-.94-2.06-.94L8.5 2.5l-.94 2.06-2.06.94zm10 10l.94 2.06.94-2.06 2.06-.94-2.06-.94-.94-2.06-.94 2.06-2.06.94z\"/><path d=\"M17.41 7.96l-1.37-1.37c-.4-.4-.92-.59-1.43-.59-.52 0-1.04.2-1.43.59L10.3 9.45l-7.72 7.72c-.78.78-.78 2.05 0 2.83L4 21.41c.39.39.9.59 1.41.59.51 0 1.02-.2 1.41-.59l7.78-7.78 2.81-2.81c.8-.78.8-2.07 0-2.86zM5.41 20L4 18.59l7.72-7.72 1.47 1.35L5.41 20z\"/>\n",
              "  </svg>\n",
              "      </button>\n",
              "      \n",
              "  <style>\n",
              "    .colab-df-container {\n",
              "      display:flex;\n",
              "      flex-wrap:wrap;\n",
              "      gap: 12px;\n",
              "    }\n",
              "\n",
              "    .colab-df-convert {\n",
              "      background-color: #E8F0FE;\n",
              "      border: none;\n",
              "      border-radius: 50%;\n",
              "      cursor: pointer;\n",
              "      display: none;\n",
              "      fill: #1967D2;\n",
              "      height: 32px;\n",
              "      padding: 0 0 0 0;\n",
              "      width: 32px;\n",
              "    }\n",
              "\n",
              "    .colab-df-convert:hover {\n",
              "      background-color: #E2EBFA;\n",
              "      box-shadow: 0px 1px 2px rgba(60, 64, 67, 0.3), 0px 1px 3px 1px rgba(60, 64, 67, 0.15);\n",
              "      fill: #174EA6;\n",
              "    }\n",
              "\n",
              "    [theme=dark] .colab-df-convert {\n",
              "      background-color: #3B4455;\n",
              "      fill: #D2E3FC;\n",
              "    }\n",
              "\n",
              "    [theme=dark] .colab-df-convert:hover {\n",
              "      background-color: #434B5C;\n",
              "      box-shadow: 0px 1px 3px 1px rgba(0, 0, 0, 0.15);\n",
              "      filter: drop-shadow(0px 1px 2px rgba(0, 0, 0, 0.3));\n",
              "      fill: #FFFFFF;\n",
              "    }\n",
              "  </style>\n",
              "\n",
              "      <script>\n",
              "        const buttonEl =\n",
              "          document.querySelector('#df-7ae69eb6-4f4e-418a-9c43-63a3dd4db8e6 button.colab-df-convert');\n",
              "        buttonEl.style.display =\n",
              "          google.colab.kernel.accessAllowed ? 'block' : 'none';\n",
              "\n",
              "        async function convertToInteractive(key) {\n",
              "          const element = document.querySelector('#df-7ae69eb6-4f4e-418a-9c43-63a3dd4db8e6');\n",
              "          const dataTable =\n",
              "            await google.colab.kernel.invokeFunction('convertToInteractive',\n",
              "                                                     [key], {});\n",
              "          if (!dataTable) return;\n",
              "\n",
              "          const docLinkHtml = 'Like what you see? Visit the ' +\n",
              "            '<a target=\"_blank\" href=https://colab.research.google.com/notebooks/data_table.ipynb>data table notebook</a>'\n",
              "            + ' to learn more about interactive tables.';\n",
              "          element.innerHTML = '';\n",
              "          dataTable['output_type'] = 'display_data';\n",
              "          await google.colab.output.renderOutput(dataTable, element);\n",
              "          const docLink = document.createElement('div');\n",
              "          docLink.innerHTML = docLinkHtml;\n",
              "          element.appendChild(docLink);\n",
              "        }\n",
              "      </script>\n",
              "    </div>\n",
              "  </div>\n",
              "  "
            ]
          },
          "metadata": {},
          "execution_count": 124
        }
      ],
      "source": [
        "train.describe()"
      ]
    },
    {
      "cell_type": "raw",
      "metadata": {
        "id": "VvIyvDK4uuj_"
      },
      "source": [
        "# lets perform some Real time predictions on top of the Model that we just created using Decision Tree Classifier\n",
        "\n",
        "# lets check the parameters we have in our Model\n",
        "'''\n",
        "department -> The values are from 0 to 8, (Department does not matter a lot for promotion)\n",
        "education -> The values are from 0 to 3 where Masters-> 3, Btech -> 2, and secondary ed -> 1\n",
        "gender -> the values are 0 for female, and 1 for male\n",
        "no_of_trainings -> the values are from 0 to 5\n",
        "age -> the values are from 20 to 60\n",
        "previou_year_rating -> The values are from 1 to 5\n",
        "length_of service -> The values are from 1 to 37\n",
        "KPIs_met >80% -> 0 for Not Met and 1 for Met\n",
        "awards_won> -> 0-no, and 1-yes\n",
        "avg_training_score -> ranges from 40 to 99\n",
        "sum_metric -> ranges from 1 to 7\n",
        "total_score -> 40 to 710\n",
        "'''"
      ]
    },
    {
      "cell_type": "code",
      "execution_count": 125,
      "metadata": {
        "colab": {
          "base_uri": "https://localhost:8080/"
        },
        "id": "VpLciiTMuuj_",
        "outputId": "9979a0d2-58de-43f8-f6d2-1d632b115602"
      },
      "outputs": [
        {
          "output_type": "stream",
          "name": "stdout",
          "text": [
            "Whether the Employee should get a Promotion : 1-> Promotion, and 0-> No Promotion : [1]\n"
          ]
        }
      ],
      "source": [
        "prediction = model.predict(np.array([[2, #department code\n",
        "                                      3, #masters degree\n",
        "                                      1, #male\n",
        "                                      1, #1 training\n",
        "                                      30, #30 years old\n",
        "                                      5, #previous year rating\n",
        "                                      10, #length of service\n",
        "                                      1, #KPIs met >80%\n",
        "                                      1, #awards won\n",
        "                                      95, #avg training score\n",
        "                                      7, #sum of metric \n",
        "                                      700 #total score\n",
        "                                     ]]))\n",
        "\n",
        "print(\"Whether the Employee should get a Promotion : 1-> Promotion, and 0-> No Promotion :\", prediction)"
      ]
    },
    {
      "cell_type": "markdown",
      "metadata": {
        "id": "HPLbD1YuuukA"
      },
      "source": [
        "**Here comes to an end to this session, where we predicted whether an employee belonging to an organization should get a promotion or not using Logistic Regression and Decision Trees.**\n",
        "\n",
        "**We also used Feature Selection, and Hyper Parameter Tuning to Improve the Model**.\n",
        "\n",
        "**This is the end of this Project, Now lets understand how to present this project to a client or Managers using Presentations, Reports, Conclussions, and Visualizations**\n",
        "\n"
      ]
    }
  ],
  "metadata": {
    "kernelspec": {
      "display_name": "Python 3",
      "language": "python",
      "name": "python3"
    },
    "language_info": {
      "codemirror_mode": {
        "name": "ipython",
        "version": 3
      },
      "file_extension": ".py",
      "mimetype": "text/x-python",
      "name": "python",
      "nbconvert_exporter": "python",
      "pygments_lexer": "ipython3",
      "version": "3.8.8"
    },
    "colab": {
      "provenance": [],
      "include_colab_link": true
    }
  },
  "nbformat": 4,
  "nbformat_minor": 0
}